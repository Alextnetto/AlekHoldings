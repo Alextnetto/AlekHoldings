{
 "cells": [
  {
   "cell_type": "code",
   "execution_count": 110,
   "metadata": {},
   "outputs": [
    {
     "data": {
      "text/plain": [
       "B  D   -0.932786\n",
       "D  B   -0.932786\n",
       "B  C   -0.860941\n",
       "C  B   -0.860941\n",
       "A  C   -0.701886\n",
       "C  A   -0.701886\n",
       "A  D   -0.267793\n",
       "D  A   -0.267793\n",
       "A  B    0.518457\n",
       "B  A    0.518457\n",
       "C  D    0.624851\n",
       "D  C    0.624851\n",
       "A  A    1.000000\n",
       "B  B    1.000000\n",
       "C  C    1.000000\n",
       "D  D    1.000000\n",
       "dtype: float64"
      ]
     },
     "execution_count": 110,
     "metadata": {},
     "output_type": "execute_result"
    },
    {
     "data": {
      "image/png": "[encoded data removed]",
      "text/plain": [
       "<Figure size 432x288 with 2 Axes>"
      ]
     },
     "metadata": {
      "needs_background": "light"
     },
     "output_type": "display_data"
    }
   ],
   "source": [
    "from pandas import DataFrame\n",
    "import seaborn as sn\n",
    "\n",
    "Data = {'A': [45,37,42,35,39],\n",
    "        'B': [38,31,26,28,33],\n",
    "        'C': [10,15,17,21,12],\n",
    "        'D': [1,2,3,2,np.nan]\n",
    "        }\n",
    "\n",
    "dfteste = DataFrame(Data,columns=['A','B','C', 'D'])\n",
    "\n",
    "corrMatrix = dfteste.corr()\n",
    "sn.heatmap(corrMatrix, annot=True)\n",
    "corrMatrix.unstack().sort_values()"
   ]
  },
  {
   "cell_type": "code",
   "execution_count": 3,
   "metadata": {
    "collapsed": true
   },
   "outputs": [
    {
     "name": "stdout",
     "output_type": "stream",
     "text": [
      "CPRE3.csv\n"
     ]
    },
    {
     "ename": "XLRDError",
     "evalue": "Unsupported format, or corrupt file: Expected BOF record; found b'Data,Vol'",
     "output_type": "error",
     "traceback": [
      "\u001b[0;31m---------------------------------------------------------------------------\u001b[0m",
      "\u001b[0;31mXLRDError\u001b[0m                                 Traceback (most recent call last)",
      "\u001b[0;32m<ipython-input-3-354db9a29b34>\u001b[0m in \u001b[0;36m<module>\u001b[0;34m\u001b[0m\n\u001b[1;32m     11\u001b[0m \u001b[0;32mfor\u001b[0m \u001b[0mativo\u001b[0m \u001b[0;32min\u001b[0m \u001b[0mativos\u001b[0m\u001b[0;34m:\u001b[0m\u001b[0;34m\u001b[0m\u001b[0;34m\u001b[0m\u001b[0m\n\u001b[1;32m     12\u001b[0m     \u001b[0mprint\u001b[0m\u001b[0;34m(\u001b[0m\u001b[0mativo\u001b[0m\u001b[0;34m)\u001b[0m\u001b[0;34m\u001b[0m\u001b[0;34m\u001b[0m\u001b[0m\n\u001b[0;32m---> 13\u001b[0;31m     \u001b[0mdf_temp\u001b[0m \u001b[0;34m=\u001b[0m \u001b[0mpd\u001b[0m\u001b[0;34m.\u001b[0m\u001b[0mread_excel\u001b[0m\u001b[0;34m(\u001b[0m\u001b[0mativo\u001b[0m\u001b[0;34m,\u001b[0m \u001b[0mheader\u001b[0m\u001b[0;34m=\u001b[0m\u001b[0;36m3\u001b[0m\u001b[0;34m)\u001b[0m\u001b[0;34m\u001b[0m\u001b[0;34m\u001b[0m\u001b[0m\n\u001b[0m\u001b[1;32m     14\u001b[0m     \u001b[0mdf_temp\u001b[0m\u001b[0;34m.\u001b[0m\u001b[0mrename\u001b[0m\u001b[0;34m(\u001b[0m\u001b[0mcolumns\u001b[0m\u001b[0;34m=\u001b[0m\u001b[0;34m{\u001b[0m\u001b[0;34m\"Volume$\"\u001b[0m\u001b[0;34m:\u001b[0m \u001b[0;34m\"Volume\"\u001b[0m\u001b[0;34m}\u001b[0m\u001b[0;34m,\u001b[0m \u001b[0minplace\u001b[0m\u001b[0;34m=\u001b[0m\u001b[0;32mTrue\u001b[0m\u001b[0;34m)\u001b[0m\u001b[0;34m\u001b[0m\u001b[0;34m\u001b[0m\u001b[0m\n\u001b[1;32m     15\u001b[0m     \u001b[0mdf_temp_date\u001b[0m \u001b[0;34m=\u001b[0m \u001b[0mdf_temp\u001b[0m\u001b[0;34m[\u001b[0m\u001b[0;34m\"Data\"\u001b[0m\u001b[0;34m]\u001b[0m\u001b[0;34m\u001b[0m\u001b[0;34m\u001b[0m\u001b[0m\n",
      "\u001b[0;32m~/.local/lib/python3.6/site-packages/pandas/io/excel/_base.py\u001b[0m in \u001b[0;36mread_excel\u001b[0;34m(io, sheet_name, header, names, index_col, usecols, squeeze, dtype, engine, converters, true_values, false_values, skiprows, nrows, na_values, keep_default_na, verbose, parse_dates, date_parser, thousands, comment, skipfooter, convert_float, mangle_dupe_cols, **kwds)\u001b[0m\n\u001b[1;32m    302\u001b[0m \u001b[0;34m\u001b[0m\u001b[0m\n\u001b[1;32m    303\u001b[0m     \u001b[0;32mif\u001b[0m \u001b[0;32mnot\u001b[0m \u001b[0misinstance\u001b[0m\u001b[0;34m(\u001b[0m\u001b[0mio\u001b[0m\u001b[0;34m,\u001b[0m \u001b[0mExcelFile\u001b[0m\u001b[0;34m)\u001b[0m\u001b[0;34m:\u001b[0m\u001b[0;34m\u001b[0m\u001b[0;34m\u001b[0m\u001b[0m\n\u001b[0;32m--> 304\u001b[0;31m         \u001b[0mio\u001b[0m \u001b[0;34m=\u001b[0m \u001b[0mExcelFile\u001b[0m\u001b[0;34m(\u001b[0m\u001b[0mio\u001b[0m\u001b[0;34m,\u001b[0m \u001b[0mengine\u001b[0m\u001b[0;34m=\u001b[0m\u001b[0mengine\u001b[0m\u001b[0;34m)\u001b[0m\u001b[0;34m\u001b[0m\u001b[0;34m\u001b[0m\u001b[0m\n\u001b[0m\u001b[1;32m    305\u001b[0m     \u001b[0;32melif\u001b[0m \u001b[0mengine\u001b[0m \u001b[0;32mand\u001b[0m \u001b[0mengine\u001b[0m \u001b[0;34m!=\u001b[0m \u001b[0mio\u001b[0m\u001b[0;34m.\u001b[0m\u001b[0mengine\u001b[0m\u001b[0;34m:\u001b[0m\u001b[0;34m\u001b[0m\u001b[0;34m\u001b[0m\u001b[0m\n\u001b[1;32m    306\u001b[0m         raise ValueError(\n",
      "\u001b[0;32m~/.local/lib/python3.6/site-packages/pandas/io/excel/_base.py\u001b[0m in \u001b[0;36m__init__\u001b[0;34m(self, io, engine)\u001b[0m\n\u001b[1;32m    819\u001b[0m         \u001b[0mself\u001b[0m\u001b[0;34m.\u001b[0m\u001b[0m_io\u001b[0m \u001b[0;34m=\u001b[0m \u001b[0mstringify_path\u001b[0m\u001b[0;34m(\u001b[0m\u001b[0mio\u001b[0m\u001b[0;34m)\u001b[0m\u001b[0;34m\u001b[0m\u001b[0;34m\u001b[0m\u001b[0m\n\u001b[1;32m    820\u001b[0m \u001b[0;34m\u001b[0m\u001b[0m\n\u001b[0;32m--> 821\u001b[0;31m         \u001b[0mself\u001b[0m\u001b[0;34m.\u001b[0m\u001b[0m_reader\u001b[0m \u001b[0;34m=\u001b[0m \u001b[0mself\u001b[0m\u001b[0;34m.\u001b[0m\u001b[0m_engines\u001b[0m\u001b[0;34m[\u001b[0m\u001b[0mengine\u001b[0m\u001b[0;34m]\u001b[0m\u001b[0;34m(\u001b[0m\u001b[0mself\u001b[0m\u001b[0;34m.\u001b[0m\u001b[0m_io\u001b[0m\u001b[0;34m)\u001b[0m\u001b[0;34m\u001b[0m\u001b[0;34m\u001b[0m\u001b[0m\n\u001b[0m\u001b[1;32m    822\u001b[0m \u001b[0;34m\u001b[0m\u001b[0m\n\u001b[1;32m    823\u001b[0m     \u001b[0;32mdef\u001b[0m \u001b[0m__fspath__\u001b[0m\u001b[0;34m(\u001b[0m\u001b[0mself\u001b[0m\u001b[0;34m)\u001b[0m\u001b[0;34m:\u001b[0m\u001b[0;34m\u001b[0m\u001b[0;34m\u001b[0m\u001b[0m\n",
      "\u001b[0;32m~/.local/lib/python3.6/site-packages/pandas/io/excel/_xlrd.py\u001b[0m in \u001b[0;36m__init__\u001b[0;34m(self, filepath_or_buffer)\u001b[0m\n\u001b[1;32m     19\u001b[0m         \u001b[0merr_msg\u001b[0m \u001b[0;34m=\u001b[0m \u001b[0;34m\"Install xlrd >= 1.0.0 for Excel support\"\u001b[0m\u001b[0;34m\u001b[0m\u001b[0;34m\u001b[0m\u001b[0m\n\u001b[1;32m     20\u001b[0m         \u001b[0mimport_optional_dependency\u001b[0m\u001b[0;34m(\u001b[0m\u001b[0;34m\"xlrd\"\u001b[0m\u001b[0;34m,\u001b[0m \u001b[0mextra\u001b[0m\u001b[0;34m=\u001b[0m\u001b[0merr_msg\u001b[0m\u001b[0;34m)\u001b[0m\u001b[0;34m\u001b[0m\u001b[0;34m\u001b[0m\u001b[0m\n\u001b[0;32m---> 21\u001b[0;31m         \u001b[0msuper\u001b[0m\u001b[0;34m(\u001b[0m\u001b[0;34m)\u001b[0m\u001b[0;34m.\u001b[0m\u001b[0m__init__\u001b[0m\u001b[0;34m(\u001b[0m\u001b[0mfilepath_or_buffer\u001b[0m\u001b[0;34m)\u001b[0m\u001b[0;34m\u001b[0m\u001b[0;34m\u001b[0m\u001b[0m\n\u001b[0m\u001b[1;32m     22\u001b[0m \u001b[0;34m\u001b[0m\u001b[0m\n\u001b[1;32m     23\u001b[0m     \u001b[0;34m@\u001b[0m\u001b[0mproperty\u001b[0m\u001b[0;34m\u001b[0m\u001b[0;34m\u001b[0m\u001b[0m\n",
      "\u001b[0;32m~/.local/lib/python3.6/site-packages/pandas/io/excel/_base.py\u001b[0m in \u001b[0;36m__init__\u001b[0;34m(self, filepath_or_buffer)\u001b[0m\n\u001b[1;32m    351\u001b[0m             \u001b[0mself\u001b[0m\u001b[0;34m.\u001b[0m\u001b[0mbook\u001b[0m \u001b[0;34m=\u001b[0m \u001b[0mself\u001b[0m\u001b[0;34m.\u001b[0m\u001b[0mload_workbook\u001b[0m\u001b[0;34m(\u001b[0m\u001b[0mfilepath_or_buffer\u001b[0m\u001b[0;34m)\u001b[0m\u001b[0;34m\u001b[0m\u001b[0;34m\u001b[0m\u001b[0m\n\u001b[1;32m    352\u001b[0m         \u001b[0;32melif\u001b[0m \u001b[0misinstance\u001b[0m\u001b[0;34m(\u001b[0m\u001b[0mfilepath_or_buffer\u001b[0m\u001b[0;34m,\u001b[0m \u001b[0mstr\u001b[0m\u001b[0;34m)\u001b[0m\u001b[0;34m:\u001b[0m\u001b[0;34m\u001b[0m\u001b[0;34m\u001b[0m\u001b[0m\n\u001b[0;32m--> 353\u001b[0;31m             \u001b[0mself\u001b[0m\u001b[0;34m.\u001b[0m\u001b[0mbook\u001b[0m \u001b[0;34m=\u001b[0m \u001b[0mself\u001b[0m\u001b[0;34m.\u001b[0m\u001b[0mload_workbook\u001b[0m\u001b[0;34m(\u001b[0m\u001b[0mfilepath_or_buffer\u001b[0m\u001b[0;34m)\u001b[0m\u001b[0;34m\u001b[0m\u001b[0;34m\u001b[0m\u001b[0m\n\u001b[0m\u001b[1;32m    354\u001b[0m         \u001b[0;32melif\u001b[0m \u001b[0misinstance\u001b[0m\u001b[0;34m(\u001b[0m\u001b[0mfilepath_or_buffer\u001b[0m\u001b[0;34m,\u001b[0m \u001b[0mbytes\u001b[0m\u001b[0;34m)\u001b[0m\u001b[0;34m:\u001b[0m\u001b[0;34m\u001b[0m\u001b[0;34m\u001b[0m\u001b[0m\n\u001b[1;32m    355\u001b[0m             \u001b[0mself\u001b[0m\u001b[0;34m.\u001b[0m\u001b[0mbook\u001b[0m \u001b[0;34m=\u001b[0m \u001b[0mself\u001b[0m\u001b[0;34m.\u001b[0m\u001b[0mload_workbook\u001b[0m\u001b[0;34m(\u001b[0m\u001b[0mBytesIO\u001b[0m\u001b[0;34m(\u001b[0m\u001b[0mfilepath_or_buffer\u001b[0m\u001b[0;34m)\u001b[0m\u001b[0;34m)\u001b[0m\u001b[0;34m\u001b[0m\u001b[0;34m\u001b[0m\u001b[0m\n",
      "\u001b[0;32m~/.local/lib/python3.6/site-packages/pandas/io/excel/_xlrd.py\u001b[0m in \u001b[0;36mload_workbook\u001b[0;34m(self, filepath_or_buffer)\u001b[0m\n\u001b[1;32m     34\u001b[0m             \u001b[0;32mreturn\u001b[0m \u001b[0mopen_workbook\u001b[0m\u001b[0;34m(\u001b[0m\u001b[0mfile_contents\u001b[0m\u001b[0;34m=\u001b[0m\u001b[0mdata\u001b[0m\u001b[0;34m)\u001b[0m\u001b[0;34m\u001b[0m\u001b[0;34m\u001b[0m\u001b[0m\n\u001b[1;32m     35\u001b[0m         \u001b[0;32melse\u001b[0m\u001b[0;34m:\u001b[0m\u001b[0;34m\u001b[0m\u001b[0;34m\u001b[0m\u001b[0m\n\u001b[0;32m---> 36\u001b[0;31m             \u001b[0;32mreturn\u001b[0m \u001b[0mopen_workbook\u001b[0m\u001b[0;34m(\u001b[0m\u001b[0mfilepath_or_buffer\u001b[0m\u001b[0;34m)\u001b[0m\u001b[0;34m\u001b[0m\u001b[0;34m\u001b[0m\u001b[0m\n\u001b[0m\u001b[1;32m     37\u001b[0m \u001b[0;34m\u001b[0m\u001b[0m\n\u001b[1;32m     38\u001b[0m     \u001b[0;34m@\u001b[0m\u001b[0mproperty\u001b[0m\u001b[0;34m\u001b[0m\u001b[0;34m\u001b[0m\u001b[0m\n",
      "\u001b[0;32m~/.local/lib/python3.6/site-packages/xlrd/__init__.py\u001b[0m in \u001b[0;36mopen_workbook\u001b[0;34m(filename, logfile, verbosity, use_mmap, file_contents, encoding_override, formatting_info, on_demand, ragged_rows)\u001b[0m\n\u001b[1;32m    155\u001b[0m         \u001b[0mformatting_info\u001b[0m\u001b[0;34m=\u001b[0m\u001b[0mformatting_info\u001b[0m\u001b[0;34m,\u001b[0m\u001b[0;34m\u001b[0m\u001b[0;34m\u001b[0m\u001b[0m\n\u001b[1;32m    156\u001b[0m         \u001b[0mon_demand\u001b[0m\u001b[0;34m=\u001b[0m\u001b[0mon_demand\u001b[0m\u001b[0;34m,\u001b[0m\u001b[0;34m\u001b[0m\u001b[0;34m\u001b[0m\u001b[0m\n\u001b[0;32m--> 157\u001b[0;31m         \u001b[0mragged_rows\u001b[0m\u001b[0;34m=\u001b[0m\u001b[0mragged_rows\u001b[0m\u001b[0;34m,\u001b[0m\u001b[0;34m\u001b[0m\u001b[0;34m\u001b[0m\u001b[0m\n\u001b[0m\u001b[1;32m    158\u001b[0m     )\n\u001b[1;32m    159\u001b[0m     \u001b[0;32mreturn\u001b[0m \u001b[0mbk\u001b[0m\u001b[0;34m\u001b[0m\u001b[0;34m\u001b[0m\u001b[0m\n",
      "\u001b[0;32m~/.local/lib/python3.6/site-packages/xlrd/book.py\u001b[0m in \u001b[0;36mopen_workbook_xls\u001b[0;34m(filename, logfile, verbosity, use_mmap, file_contents, encoding_override, formatting_info, on_demand, ragged_rows)\u001b[0m\n\u001b[1;32m     90\u001b[0m         \u001b[0mt1\u001b[0m \u001b[0;34m=\u001b[0m \u001b[0mperf_counter\u001b[0m\u001b[0;34m(\u001b[0m\u001b[0;34m)\u001b[0m\u001b[0;34m\u001b[0m\u001b[0;34m\u001b[0m\u001b[0m\n\u001b[1;32m     91\u001b[0m         \u001b[0mbk\u001b[0m\u001b[0;34m.\u001b[0m\u001b[0mload_time_stage_1\u001b[0m \u001b[0;34m=\u001b[0m \u001b[0mt1\u001b[0m \u001b[0;34m-\u001b[0m \u001b[0mt0\u001b[0m\u001b[0;34m\u001b[0m\u001b[0;34m\u001b[0m\u001b[0m\n\u001b[0;32m---> 92\u001b[0;31m         \u001b[0mbiff_version\u001b[0m \u001b[0;34m=\u001b[0m \u001b[0mbk\u001b[0m\u001b[0;34m.\u001b[0m\u001b[0mgetbof\u001b[0m\u001b[0;34m(\u001b[0m\u001b[0mXL_WORKBOOK_GLOBALS\u001b[0m\u001b[0;34m)\u001b[0m\u001b[0;34m\u001b[0m\u001b[0;34m\u001b[0m\u001b[0m\n\u001b[0m\u001b[1;32m     93\u001b[0m         \u001b[0;32mif\u001b[0m \u001b[0;32mnot\u001b[0m \u001b[0mbiff_version\u001b[0m\u001b[0;34m:\u001b[0m\u001b[0;34m\u001b[0m\u001b[0;34m\u001b[0m\u001b[0m\n\u001b[1;32m     94\u001b[0m             \u001b[0;32mraise\u001b[0m \u001b[0mXLRDError\u001b[0m\u001b[0;34m(\u001b[0m\u001b[0;34m\"Can't determine file's BIFF version\"\u001b[0m\u001b[0;34m)\u001b[0m\u001b[0;34m\u001b[0m\u001b[0;34m\u001b[0m\u001b[0m\n",
      "\u001b[0;32m~/.local/lib/python3.6/site-packages/xlrd/book.py\u001b[0m in \u001b[0;36mgetbof\u001b[0;34m(self, rqd_stream)\u001b[0m\n\u001b[1;32m   1276\u001b[0m             \u001b[0mbof_error\u001b[0m\u001b[0;34m(\u001b[0m\u001b[0;34m'Expected BOF record; met end of file'\u001b[0m\u001b[0;34m)\u001b[0m\u001b[0;34m\u001b[0m\u001b[0;34m\u001b[0m\u001b[0m\n\u001b[1;32m   1277\u001b[0m         \u001b[0;32mif\u001b[0m \u001b[0mopcode\u001b[0m \u001b[0;32mnot\u001b[0m \u001b[0;32min\u001b[0m \u001b[0mbofcodes\u001b[0m\u001b[0;34m:\u001b[0m\u001b[0;34m\u001b[0m\u001b[0;34m\u001b[0m\u001b[0m\n\u001b[0;32m-> 1278\u001b[0;31m             \u001b[0mbof_error\u001b[0m\u001b[0;34m(\u001b[0m\u001b[0;34m'Expected BOF record; found %r'\u001b[0m \u001b[0;34m%\u001b[0m \u001b[0mself\u001b[0m\u001b[0;34m.\u001b[0m\u001b[0mmem\u001b[0m\u001b[0;34m[\u001b[0m\u001b[0msavpos\u001b[0m\u001b[0;34m:\u001b[0m\u001b[0msavpos\u001b[0m\u001b[0;34m+\u001b[0m\u001b[0;36m8\u001b[0m\u001b[0;34m]\u001b[0m\u001b[0;34m)\u001b[0m\u001b[0;34m\u001b[0m\u001b[0;34m\u001b[0m\u001b[0m\n\u001b[0m\u001b[1;32m   1279\u001b[0m         \u001b[0mlength\u001b[0m \u001b[0;34m=\u001b[0m \u001b[0mself\u001b[0m\u001b[0;34m.\u001b[0m\u001b[0mget2bytes\u001b[0m\u001b[0;34m(\u001b[0m\u001b[0;34m)\u001b[0m\u001b[0;34m\u001b[0m\u001b[0;34m\u001b[0m\u001b[0m\n\u001b[1;32m   1280\u001b[0m         \u001b[0;32mif\u001b[0m \u001b[0mlength\u001b[0m \u001b[0;34m==\u001b[0m \u001b[0mMY_EOF\u001b[0m\u001b[0;34m:\u001b[0m\u001b[0;34m\u001b[0m\u001b[0;34m\u001b[0m\u001b[0m\n",
      "\u001b[0;32m~/.local/lib/python3.6/site-packages/xlrd/book.py\u001b[0m in \u001b[0;36mbof_error\u001b[0;34m(msg)\u001b[0m\n\u001b[1;32m   1270\u001b[0m \u001b[0;34m\u001b[0m\u001b[0m\n\u001b[1;32m   1271\u001b[0m         \u001b[0;32mdef\u001b[0m \u001b[0mbof_error\u001b[0m\u001b[0;34m(\u001b[0m\u001b[0mmsg\u001b[0m\u001b[0;34m)\u001b[0m\u001b[0;34m:\u001b[0m\u001b[0;34m\u001b[0m\u001b[0;34m\u001b[0m\u001b[0m\n\u001b[0;32m-> 1272\u001b[0;31m             \u001b[0;32mraise\u001b[0m \u001b[0mXLRDError\u001b[0m\u001b[0;34m(\u001b[0m\u001b[0;34m'Unsupported format, or corrupt file: '\u001b[0m \u001b[0;34m+\u001b[0m \u001b[0mmsg\u001b[0m\u001b[0;34m)\u001b[0m\u001b[0;34m\u001b[0m\u001b[0;34m\u001b[0m\u001b[0m\n\u001b[0m\u001b[1;32m   1273\u001b[0m         \u001b[0msavpos\u001b[0m \u001b[0;34m=\u001b[0m \u001b[0mself\u001b[0m\u001b[0;34m.\u001b[0m\u001b[0m_position\u001b[0m\u001b[0;34m\u001b[0m\u001b[0;34m\u001b[0m\u001b[0m\n\u001b[1;32m   1274\u001b[0m         \u001b[0mopcode\u001b[0m \u001b[0;34m=\u001b[0m \u001b[0mself\u001b[0m\u001b[0;34m.\u001b[0m\u001b[0mget2bytes\u001b[0m\u001b[0;34m(\u001b[0m\u001b[0;34m)\u001b[0m\u001b[0;34m\u001b[0m\u001b[0;34m\u001b[0m\u001b[0m\n",
      "\u001b[0;31mXLRDError\u001b[0m: Unsupported format, or corrupt file: Expected BOF record; found b'Data,Vol'"
     ]
    }
   ],
   "source": [
    "#Transforma excel em csv\n",
    "import pandas as pd\n",
    "import numpy as np\n",
    "import os\n",
    "\n",
    "ativos = []\n",
    "for f in os.listdir():\n",
    "    name, ext = os.path.splitext(f)\n",
    "    if ext == '.xlsx':\n",
    "        ativos.append(name + ext)\n",
    "        \n",
    "for ativo in ativos:\n",
    "    print(ativo)\n",
    "    df_temp = pd.read_excel(ativo, header=3)\n",
    "    df_temp.rename(columns={\"Volume$\": \"Volume\"}, inplace=True)\n",
    "    df_temp_date = df_temp[\"Data\"]\n",
    "    df_temp.drop([\"Data\", \"Q Negs\", \"Q Títs\"], inplace=True, axis=1)\n",
    "    df_temp = df_temp.replace(\"-\", np.nan)\n",
    "    df_temp = df_temp.astype(float)\n",
    "    df_temp.insert(0, \"Data\", df_temp_date)\n",
    "    df_temp.dropna(inplace=True)\n",
    "    df_temp.to_csv(ativo[:-5]+\".csv\", index=False)\n",
    "    os.system(\"rm {}\".format(ativo))\n",
    "    "
   ]
  },
  {
   "cell_type": "code",
   "execution_count": 6,
   "metadata": {
    "scrolled": true
   },
   "outputs": [
    {
     "name": "stdout",
     "output_type": "stream",
     "text": [
      "AALR3.csv\n",
      "   Ativo        Data       Volume  Fechamento   Abertura     Mínimo  \\\n",
      "0  AALR3  2016-10-27          0.0   19.887131  19.887131  19.887131   \n",
      "1  AALR3  2016-10-28  122334647.0   19.091646  19.191081  18.813226   \n",
      "2  AALR3  2016-10-31   45857231.0   17.958079  19.081702  17.411183   \n",
      "3  AALR3  2016-11-01   17676981.0   17.798982  17.958079  17.063158   \n",
      "4  AALR3  2016-11-03   11132994.0   17.888474  17.898418  17.212312   \n",
      "\n",
      "      Máximo      Médio  Variacao  \n",
      "0  19.887131  19.887131         0  \n",
      "1  19.648485  19.181138         0  \n",
      "2  19.091646  18.067459         0  \n",
      "3  18.276273  17.639885         0  \n",
      "4  18.137064  17.828813         0  \n",
      "AALR3.csv (831, 9) (0, 0)\n",
      "AAPL34.csv\n",
      "    Ativo        Data    Volume  Fechamento   Abertura     Mínimo     Máximo  \\\n",
      "0  AAPL34  2012-04-25  847300.0   14.882676  14.882676  14.882676  14.882676   \n",
      "1  AAPL34  2012-04-30   44640.0   14.505735  14.505735  14.505735  14.505735   \n",
      "2  AAPL34  2012-05-09  222440.0   14.456342  14.456342  14.456342  14.456342   \n",
      "3  AAPL34  2012-05-14   33360.0   14.453743  14.453743  14.453743  14.453743   \n",
      "4  AAPL34  2012-05-17   10600.0   13.777848  13.777848  13.777848  13.777848   \n",
      "\n",
      "       Médio  Variacao  \n",
      "0  14.882676         0  \n",
      "1  14.505735         0  \n",
      "2  14.456342         0  \n",
      "3  14.453743         0  \n",
      "4  13.777848         0  \n"
     ]
    },
    {
     "name": "stderr",
     "output_type": "stream",
     "text": [
      "/home/alex/.local/lib/python3.6/site-packages/pandas/core/indexing.py:670: SettingWithCopyWarning: \n",
      "A value is trying to be set on a copy of a slice from a DataFrame\n",
      "\n",
      "See the caveats in the documentation: https://pandas.pydata.org/pandas-docs/stable/user_guide/indexing.html#returning-a-view-versus-a-copy\n",
      "  self._setitem_with_indexer(indexer, value)\n",
      "/home/alex/.local/lib/python3.6/site-packages/pandas/core/indexing.py:670: SettingWithCopyWarning: \n",
      "A value is trying to be set on a copy of a slice from a DataFrame\n",
      "\n",
      "See the caveats in the documentation: https://pandas.pydata.org/pandas-docs/stable/user_guide/indexing.html#returning-a-view-versus-a-copy\n",
      "  self._setitem_with_indexer(indexer, value)\n"
     ]
    },
    {
     "name": "stdout",
     "output_type": "stream",
     "text": [
      "AAPL34.csv (1618, 9) (1662, 9)\n",
      "ABEV3.csv\n",
      "   Ativo        Data    Volume    Fechamento      Abertura        Mínimo  \\\n",
      "0  ABEV3  1988-06-03  0.000014  4.466024e-10  4.466024e-10  4.466024e-10   \n",
      "1  ABEV3  1988-06-06  0.002690  4.347323e-10  4.347323e-10  4.347323e-10   \n",
      "2  ABEV3  1988-06-07  0.000011  4.113444e-10  4.113444e-10  4.113444e-10   \n",
      "3  ABEV3  1988-06-08  0.000015  4.113444e-10  4.348498e-10  4.113444e-10   \n",
      "4  ABEV3  1988-06-09  0.002260  4.348498e-10  4.348498e-10  4.348498e-10   \n",
      "\n",
      "         Máximo         Médio  Variacao  \n",
      "0  4.466024e-10  4.466024e-10         0  \n",
      "1  4.347323e-10  4.347323e-10         0  \n",
      "2  4.113444e-10  4.113444e-10         0  \n",
      "3  4.348498e-10  4.327343e-10         0  \n",
      "4  4.348498e-10  4.348498e-10         0  \n"
     ]
    },
    {
     "name": "stderr",
     "output_type": "stream",
     "text": [
      "/home/alex/.local/lib/python3.6/site-packages/pandas/core/indexing.py:670: SettingWithCopyWarning: \n",
      "A value is trying to be set on a copy of a slice from a DataFrame\n",
      "\n",
      "See the caveats in the documentation: https://pandas.pydata.org/pandas-docs/stable/user_guide/indexing.html#returning-a-view-versus-a-copy\n",
      "  self._setitem_with_indexer(indexer, value)\n"
     ]
    },
    {
     "name": "stdout",
     "output_type": "stream",
     "text": [
      "ABEV3.csv (6854, 9) (3280, 9)\n",
      "AGRO3.csv\n",
      "   Ativo        Data      Volume  Fechamento  Abertura    Mínimo    Máximo  \\\n",
      "0  AGRO3  2006-04-28         0.0    7.371041  7.371041  7.371041  7.371041   \n",
      "1  AGRO3  2006-05-02   1375000.0    8.108146  7.371041  7.371041  8.108146   \n",
      "2  AGRO3  2006-05-04    715000.0    8.845250  8.476698  8.476698  8.845250   \n",
      "3  AGRO3  2006-05-05  11845000.0    8.476698  8.476698  8.476698  8.476698   \n",
      "4  AGRO3  2006-05-10  14030000.0    8.476698  8.476698  8.476698  8.476698   \n",
      "\n",
      "      Médio  Variacao  \n",
      "0  7.371041         0  \n",
      "1  7.796277         0  \n",
      "2  8.783849         0  \n",
      "3  8.476698         0  \n",
      "4  8.476698         0  \n"
     ]
    },
    {
     "name": "stderr",
     "output_type": "stream",
     "text": [
      "/home/alex/.local/lib/python3.6/site-packages/pandas/core/indexing.py:670: SettingWithCopyWarning: \n",
      "A value is trying to be set on a copy of a slice from a DataFrame\n",
      "\n",
      "See the caveats in the documentation: https://pandas.pydata.org/pandas-docs/stable/user_guide/indexing.html#returning-a-view-versus-a-copy\n",
      "  self._setitem_with_indexer(indexer, value)\n"
     ]
    },
    {
     "name": "stdout",
     "output_type": "stream",
     "text": [
      "AGRO3.csv (2972, 9) (10134, 9)\n",
      "ALPA3.csv\n",
      "   Ativo        Data    Volume    Fechamento      Abertura        Mínimo  \\\n",
      "0  ALPA3  1986-01-02  0.000007  1.057786e-09  1.057786e-09  1.057786e-09   \n",
      "1  ALPA3  1986-01-03  0.000011  1.057786e-09  1.094261e-09  1.057786e-09   \n",
      "2  ALPA3  1986-01-06  0.000043  1.094261e-09  1.082103e-09  1.082103e-09   \n",
      "3  ALPA3  1986-01-07  0.000140  1.118578e-09  1.094261e-09  1.094261e-09   \n",
      "4  ALPA3  1986-01-08  0.000067  1.094261e-09  1.094261e-09  1.094261e-09   \n",
      "\n",
      "         Máximo         Médio  Variacao  \n",
      "0  1.057786e-09  1.057786e-09         0  \n",
      "1  1.094261e-09  1.061336e-09         0  \n",
      "2  1.118603e-09  1.111867e-09         0  \n",
      "3  1.118578e-09  1.118287e-09         0  \n",
      "4  1.118578e-09  1.095453e-09         0  \n"
     ]
    },
    {
     "name": "stderr",
     "output_type": "stream",
     "text": [
      "/home/alex/.local/lib/python3.6/site-packages/pandas/core/indexing.py:670: SettingWithCopyWarning: \n",
      "A value is trying to be set on a copy of a slice from a DataFrame\n",
      "\n",
      "See the caveats in the documentation: https://pandas.pydata.org/pandas-docs/stable/user_guide/indexing.html#returning-a-view-versus-a-copy\n",
      "  self._setitem_with_indexer(indexer, value)\n"
     ]
    },
    {
     "name": "stdout",
     "output_type": "stream",
     "text": [
      "ALPA3.csv (5360, 9) (13106, 9)\n",
      "ALPA4.csv\n",
      "   Ativo        Data    Volume    Fechamento      Abertura        Mínimo  \\\n",
      "0  ALPA4  1986-01-02  0.000226  7.570872e-10  7.386515e-10  7.386515e-10   \n",
      "1  ALPA4  1986-01-03  0.000397  7.775074e-10  7.775279e-10  7.734356e-10   \n",
      "2  ALPA4  1986-01-06  0.000784  7.898047e-10  8.184504e-10  7.898047e-10   \n",
      "3  ALPA4  1986-01-07  0.000342  8.184504e-10  8.184504e-10  7.877585e-10   \n",
      "4  ALPA4  1986-01-08  0.000305  8.082198e-10  8.286811e-10  7.979891e-10   \n",
      "\n",
      "         Máximo         Médio  Variacao  \n",
      "0  7.570872e-10  7.508055e-10         0  \n",
      "1  7.979891e-10  7.843415e-10         0  \n",
      "2  8.184504e-10  8.070126e-10         0  \n",
      "3  8.184709e-10  8.157700e-10         0  \n",
      "4  8.286811e-10  8.167726e-10         0  \n"
     ]
    },
    {
     "name": "stderr",
     "output_type": "stream",
     "text": [
      "/home/alex/.local/lib/python3.6/site-packages/pandas/core/indexing.py:670: SettingWithCopyWarning: \n",
      "A value is trying to be set on a copy of a slice from a DataFrame\n",
      "\n",
      "See the caveats in the documentation: https://pandas.pydata.org/pandas-docs/stable/user_guide/indexing.html#returning-a-view-versus-a-copy\n",
      "  self._setitem_with_indexer(indexer, value)\n"
     ]
    },
    {
     "name": "stdout",
     "output_type": "stream",
     "text": [
      "ALPA4.csv (7604, 9) (18466, 9)\n",
      "ALSO3.csv\n",
      "   Ativo        Data      Volume  Fechamento   Abertura     Mínimo     Máximo  \\\n",
      "0  ALSO3  2011-02-02         0.0   17.101996  17.101996  17.101996  17.101996   \n",
      "1  ALSO3  2011-02-03  66473437.0   16.836915  16.725752  16.674446  17.093445   \n",
      "2  ALSO3  2011-02-04   7332210.0   16.836915  16.854017  16.674446  16.930976   \n",
      "3  ALSO3  2011-02-07   5047115.0   16.631691  16.759956  16.503426  16.836915   \n",
      "4  ALSO3  2011-02-08   1799434.0   16.930976  16.631691  16.631691  16.948078   \n",
      "\n",
      "       Médio  Variacao  \n",
      "0  17.101996         0  \n",
      "1  16.871119         0  \n",
      "2  16.751405         0  \n",
      "3  16.700099         0  \n",
      "4  16.888221         0  \n"
     ]
    },
    {
     "name": "stderr",
     "output_type": "stream",
     "text": [
      "/home/alex/.local/lib/python3.6/site-packages/pandas/core/indexing.py:670: SettingWithCopyWarning: \n",
      "A value is trying to be set on a copy of a slice from a DataFrame\n",
      "\n",
      "See the caveats in the documentation: https://pandas.pydata.org/pandas-docs/stable/user_guide/indexing.html#returning-a-view-versus-a-copy\n",
      "  self._setitem_with_indexer(indexer, value)\n"
     ]
    },
    {
     "name": "stdout",
     "output_type": "stream",
     "text": [
      "ALSO3.csv (2251, 9) (26070, 9)\n",
      "ALUP11.csv\n",
      "    Ativo        Data      Volume  Fechamento   Abertura     Mínimo  \\\n",
      "0  ALUP11  2013-04-23         0.0   12.400129  12.400129  12.400129   \n",
      "1  ALUP11  2013-04-24  97371031.0   11.729852  12.239262  11.629310   \n",
      "2  ALUP11  2013-04-25  14286765.0   11.863907  11.810285  11.756663   \n",
      "3  ALUP11  2013-04-26  31363430.0   11.830393  11.870610  11.790176   \n",
      "4  ALUP11  2013-04-29  16566054.0   11.997962  11.930935  11.703040   \n",
      "\n",
      "      Máximo      Médio  Variacao  \n",
      "0  12.400129  12.400129         0  \n",
      "1  12.239262  11.904124         0  \n",
      "2  12.085098  11.904124         0  \n",
      "3  11.991260  11.870610         0  \n",
      "4  12.051585  11.890718         0  \n"
     ]
    },
    {
     "name": "stderr",
     "output_type": "stream",
     "text": [
      "/home/alex/.local/lib/python3.6/site-packages/pandas/core/indexing.py:670: SettingWithCopyWarning: \n",
      "A value is trying to be set on a copy of a slice from a DataFrame\n",
      "\n",
      "See the caveats in the documentation: https://pandas.pydata.org/pandas-docs/stable/user_guide/indexing.html#returning-a-view-versus-a-copy\n",
      "  self._setitem_with_indexer(indexer, value)\n"
     ]
    },
    {
     "name": "stdout",
     "output_type": "stream",
     "text": [
      "ALUP11.csv (1703, 9) (28321, 9)\n",
      "ALUP3.csv\n",
      "   Ativo        Data    Volume  Fechamento  Abertura    Mínimo    Máximo  \\\n",
      "0  ALUP3  2016-10-04  107000.0    4.945700  4.945700  4.945700  4.945700   \n",
      "1  ALUP3  2016-10-07    2400.0    7.395440  7.395440  7.395440  7.395440   \n",
      "2  ALUP3  2016-10-10   21605.0    5.870130  5.870130  5.870130  5.916352   \n",
      "3  ALUP3  2016-10-11   11499.0    5.860886  5.565069  5.546580  5.870130   \n",
      "4  ALUP3  2016-10-13    6429.0    6.249147  5.860886  5.860886  6.249147   \n",
      "\n",
      "      Médio  Variacao  \n",
      "0  4.945700         0  \n",
      "1  7.395440         0  \n",
      "2  5.870130         0  \n",
      "3  5.592801         0  \n",
      "4  5.944085         0  \n",
      "ALUP3.csv (627, 9) (30024, 9)\n",
      "ALUP4.csv\n",
      "   Ativo        Data  Volume  Fechamento  Abertura    Mínimo    Máximo  \\\n",
      "0  ALUP4  2016-09-09   470.0    4.283461  4.283461  4.283461  4.283461   \n",
      "1  ALUP4  2016-09-21   450.0    4.101186  4.101186  4.101186  4.101186   \n",
      "2  ALUP4  2016-09-22   440.0    4.010049  4.010049  4.010049  4.010049   \n",
      "3  ALUP4  2016-09-23  1650.0    3.645499  3.827774  3.645499  3.918912   \n",
      "4  ALUP4  2016-09-26  1750.0    3.189812  3.189812  3.189812  3.189812   \n",
      "\n",
      "      Médio  Variacao  \n",
      "0  4.283461         0  \n",
      "1  4.101186         0  \n",
      "2  4.010049         0  \n",
      "3  3.763978         0  \n",
      "4  3.189812         0  \n"
     ]
    },
    {
     "name": "stderr",
     "output_type": "stream",
     "text": [
      "/home/alex/.local/lib/python3.6/site-packages/pandas/core/indexing.py:670: SettingWithCopyWarning: \n",
      "A value is trying to be set on a copy of a slice from a DataFrame\n",
      "\n",
      "See the caveats in the documentation: https://pandas.pydata.org/pandas-docs/stable/user_guide/indexing.html#returning-a-view-versus-a-copy\n",
      "  self._setitem_with_indexer(indexer, value)\n",
      "/home/alex/.local/lib/python3.6/site-packages/pandas/core/indexing.py:670: SettingWithCopyWarning: \n",
      "A value is trying to be set on a copy of a slice from a DataFrame\n",
      "\n",
      "See the caveats in the documentation: https://pandas.pydata.org/pandas-docs/stable/user_guide/indexing.html#returning-a-view-versus-a-copy\n",
      "  self._setitem_with_indexer(indexer, value)\n"
     ]
    },
    {
     "name": "stdout",
     "output_type": "stream",
     "text": [
      "ALUP4.csv (658, 9) (30651, 9)\n",
      "AMAR3.csv\n",
      "   Ativo        Data       Volume  Fechamento  Abertura    Mínimo    Máximo  \\\n",
      "0  AMAR3  2007-10-19          0.0    8.109567  8.109567  8.109567  8.109567   \n",
      "1  AMAR3  2007-10-22  103012389.0    8.312306  7.825732  7.704089  8.490717   \n",
      "2  AMAR3  2007-10-23   34297994.0    8.677237  8.450169  8.320416  8.928633   \n",
      "3  AMAR3  2007-10-24   18398273.0    8.677237  8.839428  8.531265  8.839428   \n",
      "4  AMAR3  2007-10-25   15376650.0    8.717785  8.677237  8.515045  8.725894   \n",
      "\n",
      "      Médio  Variacao  \n",
      "0  8.109567         0  \n",
      "1  8.069019         0  \n",
      "2  8.693456         0  \n",
      "3  8.677237         0  \n",
      "4  8.628579         0  \n"
     ]
    },
    {
     "name": "stderr",
     "output_type": "stream",
     "text": [
      "/home/alex/.local/lib/python3.6/site-packages/pandas/core/indexing.py:670: SettingWithCopyWarning: \n",
      "A value is trying to be set on a copy of a slice from a DataFrame\n",
      "\n",
      "See the caveats in the documentation: https://pandas.pydata.org/pandas-docs/stable/user_guide/indexing.html#returning-a-view-versus-a-copy\n",
      "  self._setitem_with_indexer(indexer, value)\n"
     ]
    },
    {
     "name": "stdout",
     "output_type": "stream",
     "text": [
      "AMAR3.csv (3060, 9) (31309, 9)\n",
      "ANIM3.csv\n",
      "   Ativo        Data      Volume  Fechamento   Abertura     Mínimo     Máximo  \\\n",
      "0  ANIM3  2013-10-25         0.0   17.253281  17.253281  17.253281  17.253281   \n",
      "1  ANIM3  2013-10-28  81554278.0   17.915433  18.185890  17.775542  18.185890   \n",
      "2  ANIM3  2013-10-29  11370994.0   17.654303  17.906107  17.579694  17.952738   \n",
      "3  ANIM3  2013-10-30   9499433.0   17.262607  17.533063  17.262607  17.533063   \n",
      "4  ANIM3  2013-10-31  18572765.0   17.887455  17.066759  17.066759  18.008694   \n",
      "\n",
      "       Médio  Variacao  \n",
      "0  17.253281         0  \n",
      "1  18.027347         0  \n",
      "2  17.728911         0  \n",
      "3  17.346541         0  \n",
      "4  17.477107         0  \n"
     ]
    },
    {
     "name": "stderr",
     "output_type": "stream",
     "text": [
      "/home/alex/.local/lib/python3.6/site-packages/pandas/core/indexing.py:670: SettingWithCopyWarning: \n",
      "A value is trying to be set on a copy of a slice from a DataFrame\n",
      "\n",
      "See the caveats in the documentation: https://pandas.pydata.org/pandas-docs/stable/user_guide/indexing.html#returning-a-view-versus-a-copy\n",
      "  self._setitem_with_indexer(indexer, value)\n"
     ]
    },
    {
     "name": "stdout",
     "output_type": "stream",
     "text": [
      "ANIM3.csv (1573, 9) (34369, 9)\n",
      "APER3.csv\n",
      "   Ativo        Data       Volume  Fechamento    Abertura      Mínimo  \\\n",
      "0  APER3  2010-10-29          0.0  211.602371  211.602371  211.602371   \n",
      "1  APER3  2010-11-01  180182581.0  269.597095  242.950870  242.950870   \n",
      "2  APER3  2010-11-03   49848002.0  266.462245  269.597095  266.462245   \n",
      "3  APER3  2010-11-04   29778430.0  265.678532  265.209872  252.524702   \n",
      "4  APER3  2010-11-05   17558767.0  252.355420  263.327395  252.355420   \n",
      "\n",
      "       Máximo       Médio  Variacao  \n",
      "0  211.602371  211.602371         0  \n",
      "1  269.597095  250.819343         0  \n",
      "2  272.731945  269.424678         0  \n",
      "3  269.595527  262.222360         0  \n",
      "4  264.894820  257.216005         0  \n"
     ]
    },
    {
     "name": "stderr",
     "output_type": "stream",
     "text": [
      "/home/alex/.local/lib/python3.6/site-packages/pandas/core/indexing.py:670: SettingWithCopyWarning: \n",
      "A value is trying to be set on a copy of a slice from a DataFrame\n",
      "\n",
      "See the caveats in the documentation: https://pandas.pydata.org/pandas-docs/stable/user_guide/indexing.html#returning-a-view-versus-a-copy\n",
      "  self._setitem_with_indexer(indexer, value)\n"
     ]
    },
    {
     "name": "stdout",
     "output_type": "stream",
     "text": [
      "APER3.csv (2310, 9) (35942, 9)\n",
      "ARZZ3.csv\n",
      "   Ativo        Data       Volume  Fechamento   Abertura     Mínimo  \\\n",
      "0  ARZZ3  2011-02-01          0.0   14.926367  14.926367  14.926367   \n",
      "1  ARZZ3  2011-02-02  309359704.0   16.693963  16.104765  15.916221   \n",
      "2  ARZZ3  2011-02-03   36962554.0   16.536844  16.576123  16.199036   \n",
      "3  ARZZ3  2011-02-04   18295995.0   16.497564  16.489708  16.419004   \n",
      "4  ARZZ3  2011-02-07    8318216.0   16.497564  16.497564  16.419004   \n",
      "\n",
      "      Máximo      Médio  Variacao  \n",
      "0  14.926367  14.926367         0  \n",
      "1  17.283162  16.638971         0  \n",
      "2  16.576123  16.442572         0  \n",
      "3  16.717531  16.458284         0  \n",
      "4  16.843227  16.497564         0  \n"
     ]
    },
    {
     "name": "stderr",
     "output_type": "stream",
     "text": [
      "/home/alex/.local/lib/python3.6/site-packages/pandas/core/indexing.py:670: SettingWithCopyWarning: \n",
      "A value is trying to be set on a copy of a slice from a DataFrame\n",
      "\n",
      "See the caveats in the documentation: https://pandas.pydata.org/pandas-docs/stable/user_guide/indexing.html#returning-a-view-versus-a-copy\n",
      "  self._setitem_with_indexer(indexer, value)\n"
     ]
    },
    {
     "name": "stdout",
     "output_type": "stream",
     "text": [
      "ARZZ3.csv (2253, 9) (38252, 9)\n",
      "ATOM3.csv\n",
      "   Ativo        Data  Volume  Fechamento   Abertura     Mínimo     Máximo  \\\n",
      "0  ATOM3  1996-07-19  2750.0   23.638026  23.638026  23.638026  23.638026   \n",
      "1  ATOM3  1996-08-06  2800.0   24.067809  24.067809  24.067809  24.067809   \n",
      "2  ATOM3  1997-06-04  2810.0   24.153765  24.153765  24.153765  24.153765   \n",
      "3  ATOM3  1997-06-05  2850.0   24.497591  24.497591  24.497591  24.497591   \n",
      "4  ATOM3  1997-06-10  3000.0   25.786938  25.786938  25.786938  25.786938   \n",
      "\n",
      "       Médio  Variacao  \n",
      "0  23.638026         0  \n",
      "1  24.067809         0  \n",
      "2  24.153765         0  \n",
      "3  24.497591         0  \n",
      "4  25.786938         0  \n"
     ]
    },
    {
     "name": "stderr",
     "output_type": "stream",
     "text": [
      "/home/alex/.local/lib/python3.6/site-packages/pandas/core/indexing.py:670: SettingWithCopyWarning: \n",
      "A value is trying to be set on a copy of a slice from a DataFrame\n",
      "\n",
      "See the caveats in the documentation: https://pandas.pydata.org/pandas-docs/stable/user_guide/indexing.html#returning-a-view-versus-a-copy\n",
      "  self._setitem_with_indexer(indexer, value)\n"
     ]
    },
    {
     "name": "stdout",
     "output_type": "stream",
     "text": [
      "ATOM3.csv (3347, 9) (40505, 9)\n",
      "AVON34.csv\n",
      "    Ativo        Data    Volume  Fechamento   Abertura     Mínimo     Máximo  \\\n",
      "0  AVON34  2010-10-05  181440.0   24.599786  24.599786  24.331424  24.599786   \n",
      "1  AVON34  2010-10-06   10582.0   23.794702  23.535286  23.535286  23.794702   \n",
      "2  AVON34  2010-10-07    5345.0   23.928882  23.884155  23.884155  23.928882   \n",
      "3  AVON34  2010-10-18    5705.0   25.539050  25.494323  25.494323  25.539050   \n",
      "4  AVON34  2010-10-27   56100.0   25.091781  25.091781  25.091781  25.091781   \n",
      "\n",
      "       Médio  Variacao  \n",
      "0  24.590840         0  \n",
      "1  23.669466         0  \n",
      "2  23.910992         0  \n",
      "3  25.521159         0  \n",
      "4  25.091781         0  \n",
      "AVON34.csv (521, 9) (43852, 9)\n",
      "AZUL4.csv\n",
      "   Ativo        Data       Volume  Fechamento  Abertura  Mínimo  Máximo  \\\n",
      "0  AZUL4  2017-04-10          0.0       21.00     21.00   21.00   21.00   \n",
      "1  AZUL4  2017-04-11  292446466.0       22.40     21.81   21.77   22.98   \n",
      "2  AZUL4  2017-04-12   39625615.0       22.96     22.45   22.30   22.99   \n",
      "3  AZUL4  2017-04-13   12543130.0       22.99     22.97   22.55   23.01   \n",
      "4  AZUL4  2017-04-17    5688519.0       22.85     23.00   22.62   23.00   \n",
      "\n",
      "   Médio  Variacao  \n",
      "0  21.00         0  \n",
      "1  22.39         0  \n",
      "2  22.70         0  \n",
      "3  22.82         0  \n",
      "4  22.82         0  \n"
     ]
    },
    {
     "name": "stderr",
     "output_type": "stream",
     "text": [
      "/home/alex/.local/lib/python3.6/site-packages/pandas/core/indexing.py:670: SettingWithCopyWarning: \n",
      "A value is trying to be set on a copy of a slice from a DataFrame\n",
      "\n",
      "See the caveats in the documentation: https://pandas.pydata.org/pandas-docs/stable/user_guide/indexing.html#returning-a-view-versus-a-copy\n",
      "  self._setitem_with_indexer(indexer, value)\n",
      "/home/alex/.local/lib/python3.6/site-packages/pandas/core/indexing.py:670: SettingWithCopyWarning: \n",
      "A value is trying to be set on a copy of a slice from a DataFrame\n",
      "\n",
      "See the caveats in the documentation: https://pandas.pydata.org/pandas-docs/stable/user_guide/indexing.html#returning-a-view-versus-a-copy\n",
      "  self._setitem_with_indexer(indexer, value)\n"
     ]
    },
    {
     "name": "stdout",
     "output_type": "stream",
     "text": [
      "AZUL4.csv (720, 9) (44373, 9)\n",
      "B3SA3.csv\n",
      "   Ativo        Data       Volume  Fechamento  Abertura    Mínimo    Máximo  \\\n",
      "0  B3SA3  2008-08-20  126947915.0    7.596899  7.378744  7.256835  7.853551   \n",
      "1  B3SA3  2008-08-21   79698808.0    7.359496  7.603315  7.263251  7.628980   \n",
      "2  B3SA3  2008-08-22   84801433.0    7.365912  7.314581  7.308165  7.455740   \n",
      "3  B3SA3  2008-08-25   40966212.0    7.192672  7.327414  7.186255  7.436491   \n",
      "4  B3SA3  2008-08-26   67318305.0    7.181600  7.045117  7.019120  7.350579   \n",
      "\n",
      "      Médio  Variacao  \n",
      "0  7.571233         0  \n",
      "1  7.436491         0  \n",
      "2  7.378744         0  \n",
      "3  7.244002         0  \n",
      "4  7.240093         0  \n"
     ]
    },
    {
     "name": "stderr",
     "output_type": "stream",
     "text": [
      "/home/alex/.local/lib/python3.6/site-packages/pandas/core/indexing.py:670: SettingWithCopyWarning: \n",
      "A value is trying to be set on a copy of a slice from a DataFrame\n",
      "\n",
      "See the caveats in the documentation: https://pandas.pydata.org/pandas-docs/stable/user_guide/indexing.html#returning-a-view-versus-a-copy\n",
      "  self._setitem_with_indexer(indexer, value)\n"
     ]
    },
    {
     "name": "stdout",
     "output_type": "stream",
     "text": [
      "B3SA3.csv (2858, 9) (45093, 9)\n",
      "BBAS3.csv\n",
      "   Ativo        Data    Volume    Fechamento      Abertura        Mínimo  \\\n",
      "0  BBAS3  1986-01-02  0.000709  1.220964e-08  1.196545e-08  1.172126e-08   \n",
      "1  BBAS3  1986-01-03  0.003601  1.286082e-08  1.220964e-08  1.220964e-08   \n",
      "2  BBAS3  1986-01-06  0.001274  1.302362e-08  1.302362e-08  1.286082e-08   \n",
      "3  BBAS3  1986-01-07  0.001222  1.286066e-08  1.302362e-08  1.277943e-08   \n",
      "4  BBAS3  1986-01-08  0.000955  1.220964e-08  1.269803e-08  1.139567e-08   \n",
      "\n",
      "         Máximo         Médio  Variacao  \n",
      "0  1.229104e-08  1.188096e-08         0  \n",
      "1  1.334921e-08  1.297234e-08         0  \n",
      "2  1.383760e-08  1.311820e-08         0  \n",
      "3  1.318641e-08  1.313579e-08         0  \n",
      "4  1.269803e-08  1.260377e-08         0  \n"
     ]
    },
    {
     "name": "stderr",
     "output_type": "stream",
     "text": [
      "/home/alex/.local/lib/python3.6/site-packages/pandas/core/indexing.py:670: SettingWithCopyWarning: \n",
      "A value is trying to be set on a copy of a slice from a DataFrame\n",
      "\n",
      "See the caveats in the documentation: https://pandas.pydata.org/pandas-docs/stable/user_guide/indexing.html#returning-a-view-versus-a-copy\n",
      "  self._setitem_with_indexer(indexer, value)\n"
     ]
    },
    {
     "name": "stdout",
     "output_type": "stream",
     "text": [
      "BBAS3.csv (8365, 9) (47951, 9)\n",
      "BBDC3.csv\n",
      "   Ativo        Data    Volume    Fechamento      Abertura        Mínimo  \\\n",
      "0  BBDC3  1986-01-02  0.000480  3.078581e-10  2.780654e-10  2.780654e-10   \n",
      "1  BBDC3  1986-01-03  0.000428  3.773744e-10  2.979272e-10  2.979272e-10   \n",
      "2  BBDC3  1986-01-06  0.000033  3.873053e-10  3.773744e-10  3.773744e-10   \n",
      "3  BBDC3  1986-01-07  0.000115  3.574133e-10  3.823399e-10  3.574133e-10   \n",
      "4  BBDC3  1986-01-08  0.000589  3.376508e-10  3.465886e-10  3.277199e-10   \n",
      "\n",
      "         Máximo         Médio  Variacao  \n",
      "0  3.078581e-10  2.974306e-10         0  \n",
      "1  3.773744e-10  3.693303e-10         0  \n",
      "2  3.972362e-10  3.889935e-10         0  \n",
      "3  3.823399e-10  3.622794e-10         0  \n",
      "4  3.475817e-10  3.367570e-10         0  \n"
     ]
    },
    {
     "name": "stderr",
     "output_type": "stream",
     "text": [
      "/home/alex/.local/lib/python3.6/site-packages/pandas/core/indexing.py:670: SettingWithCopyWarning: \n",
      "A value is trying to be set on a copy of a slice from a DataFrame\n",
      "\n",
      "See the caveats in the documentation: https://pandas.pydata.org/pandas-docs/stable/user_guide/indexing.html#returning-a-view-versus-a-copy\n",
      "  self._setitem_with_indexer(indexer, value)\n"
     ]
    },
    {
     "name": "stdout",
     "output_type": "stream",
     "text": [
      "BBDC3.csv (8424, 9) (56316, 9)\n",
      "BBDC4.csv\n",
      "   Ativo        Data    Volume    Fechamento      Abertura        Mínimo  \\\n",
      "0  BBDC4  1986-01-02  0.002254  3.419897e-10  3.017556e-10  3.017556e-10   \n",
      "1  BBDC4  1986-01-03  0.003772  3.973115e-10  3.521487e-10  3.521487e-10   \n",
      "2  BBDC4  1986-01-06  0.003854  4.023408e-10  3.973115e-10  3.973115e-10   \n",
      "3  BBDC4  1986-01-07  0.003002  3.721652e-10  4.023408e-10  3.621067e-10   \n",
      "4  BBDC4  1986-01-08  0.003070  3.671359e-10  3.721652e-10  3.470189e-10   \n",
      "\n",
      "         Máximo         Médio  Variacao  \n",
      "0  3.419897e-10  3.284107e-10         0  \n",
      "1  4.073700e-10  3.879571e-10         0  \n",
      "2  4.224578e-10  4.082753e-10         0  \n",
      "3  4.123993e-10  3.782003e-10         0  \n",
      "4  3.771945e-10  3.598938e-10         0  \n"
     ]
    },
    {
     "name": "stderr",
     "output_type": "stream",
     "text": [
      "/home/alex/.local/lib/python3.6/site-packages/pandas/core/indexing.py:670: SettingWithCopyWarning: \n",
      "A value is trying to be set on a copy of a slice from a DataFrame\n",
      "\n",
      "See the caveats in the documentation: https://pandas.pydata.org/pandas-docs/stable/user_guide/indexing.html#returning-a-view-versus-a-copy\n",
      "  self._setitem_with_indexer(indexer, value)\n"
     ]
    },
    {
     "name": "stdout",
     "output_type": "stream",
     "text": [
      "BBDC4.csv (8430, 9) (64740, 9)\n",
      "BBRK3.csv\n",
      "   Ativo        Data       Volume  Fechamento   Abertura     Mínimo  \\\n",
      "0  BBRK3  2007-10-26          0.0   62.543475  62.543475  62.543475   \n",
      "1  BBRK3  2007-10-29  112346975.0   71.102056  62.544133  62.544133   \n",
      "2  BBRK3  2007-10-30    7915979.0   72.418761  72.418102  71.102056   \n",
      "3  BBRK3  2007-10-31    4290000.0   72.418761  72.418761  72.418761   \n",
      "4  BBRK3  2007-11-01   16585001.0   72.418761  70.443704  70.443704   \n",
      "\n",
      "      Máximo      Médio  Variacao  \n",
      "0  62.543475  62.543475         0  \n",
      "1  75.381346  66.097920         0  \n",
      "2  72.418761  72.381893         0  \n",
      "3  72.418761  72.418761         0  \n",
      "4  72.418761  71.364738         0  \n"
     ]
    },
    {
     "name": "stderr",
     "output_type": "stream",
     "text": [
      "/home/alex/.local/lib/python3.6/site-packages/pandas/core/indexing.py:670: SettingWithCopyWarning: \n",
      "A value is trying to be set on a copy of a slice from a DataFrame\n",
      "\n",
      "See the caveats in the documentation: https://pandas.pydata.org/pandas-docs/stable/user_guide/indexing.html#returning-a-view-versus-a-copy\n",
      "  self._setitem_with_indexer(indexer, value)\n"
     ]
    },
    {
     "name": "stdout",
     "output_type": "stream",
     "text": [
      "BBRK3.csv (3041, 9) (73170, 9)\n",
      "BBSE3.csv\n",
      "   Ativo        Data        Volume  Fechamento   Abertura     Mínimo  \\\n",
      "0  BBSE3  2013-04-26  0.000000e+00   10.389100  10.389100  10.389100   \n",
      "1  BBSE3  2013-04-29  1.430522e+09   10.144651  10.358544   9.839089   \n",
      "2  BBSE3  2013-04-30  4.553337e+08   10.419657  10.144651  10.144651   \n",
      "3  BBSE3  2013-05-02  2.753613e+08   10.694662  10.389100  10.376878   \n",
      "4  BBSE3  2013-05-03  2.304429e+08   10.847443  10.645772  10.615216   \n",
      "\n",
      "      Máximo      Médio  Variacao  \n",
      "0  10.389100  10.389100         0  \n",
      "1  10.358544  10.217986         0  \n",
      "2  10.437990  10.327988         0  \n",
      "3  10.694662  10.480769         0  \n",
      "4  10.908555  10.804664         0  \n"
     ]
    },
    {
     "name": "stderr",
     "output_type": "stream",
     "text": [
      "/home/alex/.local/lib/python3.6/site-packages/pandas/core/indexing.py:670: SettingWithCopyWarning: \n",
      "A value is trying to be set on a copy of a slice from a DataFrame\n",
      "\n",
      "See the caveats in the documentation: https://pandas.pydata.org/pandas-docs/stable/user_guide/indexing.html#returning-a-view-versus-a-copy\n",
      "  self._setitem_with_indexer(indexer, value)\n"
     ]
    },
    {
     "name": "stdout",
     "output_type": "stream",
     "text": [
      "BBSE3.csv (1700, 9) (76211, 9)\n",
      "BEEF3.csv\n",
      "   Ativo        Data       Volume  Fechamento   Abertura     Mínimo  \\\n",
      "0  BEEF3  2007-07-19          0.0   15.272599  15.272599  15.272599   \n",
      "1  BEEF3  2007-07-20  148917011.0   15.850481  15.850481  15.437708   \n",
      "2  BEEF3  2007-07-23   16652894.0   15.809204  15.842225  15.272599   \n",
      "3  BEEF3  2007-07-24   16957824.0   15.280854  15.437708  15.272599   \n",
      "4  BEEF3  2007-07-25   27300853.0   15.685372  15.272599  15.190044   \n",
      "\n",
      "      Máximo      Médio  Variacao  \n",
      "0  15.272599  15.272599         0  \n",
      "1  15.966057  15.809204         0  \n",
      "2  16.312787  15.751415         0  \n",
      "3  15.685372  15.346898         0  \n",
      "4  15.685372  15.256088         0  \n"
     ]
    },
    {
     "name": "stderr",
     "output_type": "stream",
     "text": [
      "/home/alex/.local/lib/python3.6/site-packages/pandas/core/indexing.py:670: SettingWithCopyWarning: \n",
      "A value is trying to be set on a copy of a slice from a DataFrame\n",
      "\n",
      "See the caveats in the documentation: https://pandas.pydata.org/pandas-docs/stable/user_guide/indexing.html#returning-a-view-versus-a-copy\n",
      "  self._setitem_with_indexer(indexer, value)\n"
     ]
    },
    {
     "name": "stdout",
     "output_type": "stream",
     "text": [
      "BEEF3.csv (3125, 9) (77911, 9)\n",
      "BIDI11.csv\n",
      "    Ativo        Data      Volume  Fechamento   Abertura     Mínimo  \\\n",
      "0  BIDI11  2019-07-19  39674699.0   42.597719  43.306184  41.609859   \n",
      "1  BIDI11  2019-07-22  25920236.0   43.106617  43.316163  41.210724   \n",
      "2  BIDI11  2019-07-23  23818839.0   42.507914  42.847179  41.310508   \n",
      "3  BIDI11  2019-07-24  22249537.0   42.737416  42.358238  41.609859   \n",
      "4  BIDI11  2019-07-25  17006043.0   42.408130  42.807265  41.889254   \n",
      "\n",
      "      Máximo      Médio  Variacao  \n",
      "0  43.805103  42.547827         0  \n",
      "1  44.234174  42.188605         0  \n",
      "2  42.847179  41.969081         0  \n",
      "3  43.146530  42.717460         0  \n",
      "4  42.907049  42.288389         0  \n",
      "BIDI11.csv (161, 9) (81036, 9)\n",
      "BIDI3.csv\n",
      "   Ativo        Data     Volume  Fechamento   Abertura     Mínimo      Máximo  \\\n",
      "0  BIDI3  2019-07-19   404372.0   28.915210  19.975242  19.975242   32.926223   \n",
      "1  BIDI3  2019-07-22  2411434.0   36.917280  38.902831  36.917280  115.660842   \n",
      "2  BIDI3  2019-07-23  8874057.0   29.434048  38.912809  29.434048   43.901631   \n",
      "3  BIDI3  2019-07-24  8160596.0   18.847768  27.837625  17.460876   29.434048   \n",
      "4  BIDI3  2019-07-25  3266038.0   15.964229  19.655957  15.744721   19.655957   \n",
      "\n",
      "       Médio  Variacao  \n",
      "0  26.191314         0  \n",
      "1  61.851411         0  \n",
      "2  37.296431         0  \n",
      "3  23.148133         0  \n",
      "4  16.971971         0  \n",
      "BIDI3.csv (161, 9) (81197, 9)\n",
      "BIDI4.csv\n",
      "   Ativo        Data      Volume  Fechamento  Abertura    Mínimo    Máximo  \\\n",
      "0  BIDI4  2018-04-27         0.0    3.016712  3.016712  3.016712  3.016712   \n",
      "1  BIDI4  2018-05-11  10303278.0    3.000406  3.057479  2.951486  3.060740   \n",
      "2  BIDI4  2018-05-14   9291732.0    3.008559  3.023235  2.935180  3.041172   \n",
      "3  BIDI4  2018-05-15   7707407.0    2.980838  3.000406  2.951486  3.033019   \n",
      "4  BIDI4  2018-05-16   2360173.0    3.000406  2.985730  2.984099  3.015082   \n",
      "\n",
      "      Médio  Variacao  \n",
      "0  3.016712         0  \n",
      "1  2.988991         0  \n",
      "2  3.005298         0  \n",
      "3  2.987361         0  \n",
      "4  2.987361         0  \n"
     ]
    },
    {
     "name": "stderr",
     "output_type": "stream",
     "text": [
      "/home/alex/.local/lib/python3.6/site-packages/pandas/core/indexing.py:670: SettingWithCopyWarning: \n",
      "A value is trying to be set on a copy of a slice from a DataFrame\n",
      "\n",
      "See the caveats in the documentation: https://pandas.pydata.org/pandas-docs/stable/user_guide/indexing.html#returning-a-view-versus-a-copy\n",
      "  self._setitem_with_indexer(indexer, value)\n",
      "/home/alex/.local/lib/python3.6/site-packages/pandas/core/indexing.py:670: SettingWithCopyWarning: \n",
      "A value is trying to be set on a copy of a slice from a DataFrame\n",
      "\n",
      "See the caveats in the documentation: https://pandas.pydata.org/pandas-docs/stable/user_guide/indexing.html#returning-a-view-versus-a-copy\n",
      "  self._setitem_with_indexer(indexer, value)\n",
      "/home/alex/.local/lib/python3.6/site-packages/pandas/core/indexing.py:670: SettingWithCopyWarning: \n",
      "A value is trying to be set on a copy of a slice from a DataFrame\n",
      "\n",
      "See the caveats in the documentation: https://pandas.pydata.org/pandas-docs/stable/user_guide/indexing.html#returning-a-view-versus-a-copy\n",
      "  self._setitem_with_indexer(indexer, value)\n"
     ]
    },
    {
     "name": "stdout",
     "output_type": "stream",
     "text": [
      "BIDI4.csv (454, 9) (81358, 9)\n",
      "BIOM3.csv\n",
      "   Ativo        Data   Volume  Fechamento  Abertura    Mínimo    Máximo  \\\n",
      "0  BIOM3  2004-07-27    530.0    0.445558  0.445558  0.445558  0.445558   \n",
      "1  BIOM3  2004-10-07   2120.0    0.445558  0.445558  0.445558  0.445558   \n",
      "2  BIOM3  2004-12-02    530.0    0.445558  0.445558  0.445558  0.445558   \n",
      "3  BIOM3  2005-01-03   1980.0    0.832268  0.832268  0.832268  0.832268   \n",
      "4  BIOM3  2005-01-04  29300.0    1.008810  0.849082  0.840675  1.008810   \n",
      "\n",
      "      Médio  Variacao  \n",
      "0  0.445558         0  \n",
      "1  0.445558         0  \n",
      "2  0.445558         0  \n",
      "3  0.832268         0  \n",
      "4  0.983590         0  \n"
     ]
    },
    {
     "name": "stderr",
     "output_type": "stream",
     "text": [
      "/home/alex/.local/lib/python3.6/site-packages/pandas/core/indexing.py:670: SettingWithCopyWarning: \n",
      "A value is trying to be set on a copy of a slice from a DataFrame\n",
      "\n",
      "See the caveats in the documentation: https://pandas.pydata.org/pandas-docs/stable/user_guide/indexing.html#returning-a-view-versus-a-copy\n",
      "  self._setitem_with_indexer(indexer, value)\n"
     ]
    },
    {
     "name": "stdout",
     "output_type": "stream",
     "text": [
      "BIOM3.csv (1340, 9) (81812, 9)\n",
      "BMGB11.csv\n",
      "    Ativo        Data       Volume  Fechamento  Abertura  Mínimo  Máximo  \\\n",
      "0  BMGB11  2019-10-25          0.0       46.40     46.40   46.40   46.40   \n",
      "1  BMGB11  2019-10-28  342864127.0       46.00     46.40   45.47   46.80   \n",
      "2  BMGB11  2019-10-29   65689614.0       44.75     45.84   44.62   45.97   \n",
      "3  BMGB11  2019-10-30  142687093.0       43.00     44.66   42.54   44.82   \n",
      "4  BMGB11  2019-10-31   34105555.0       43.90     43.10   43.09   43.90   \n",
      "\n",
      "   Médio  Variacao  \n",
      "0  46.40         0  \n",
      "1  46.27         0  \n",
      "2  45.11         0  \n",
      "3  43.17         0  \n",
      "4  43.51         0  \n",
      "BMGB11.csv (23, 9) (83152, 9)\n",
      "BMGB4.csv\n",
      "   Ativo        Data      Volume  Fechamento  Abertura    Mínimo    Máximo  \\\n",
      "0  BMGB4  2019-11-29  13262509.0    8.177306  8.313595  8.079958  8.313595   \n",
      "1  BMGB4  2019-12-02  20926389.0    8.362269  8.284390  8.216246  8.498558   \n",
      "2  BMGB4  2019-12-03   8201450.0    8.352534  8.527762  8.264920  8.566702   \n",
      "3  BMGB4  2019-12-04  23212625.0    8.264920  8.362269  8.079958  8.401209   \n",
      "4  BMGB4  2019-12-05  10334313.0    8.148102  8.303860  8.079958  8.303860   \n",
      "\n",
      "      Médio  Variacao  \n",
      "0  8.167572         0  \n",
      "1  8.381739         0  \n",
      "2  8.352534         0  \n",
      "3  8.284390         0  \n",
      "4  8.167572         0  \n",
      "BMGB4.csv (68, 9) (83175, 9)\n",
      "BPAN4.csv\n",
      "   Ativo        Data       Volume  Fechamento  Abertura    Mínimo    Máximo  \\\n",
      "0  BPAN4  2007-11-16          0.0    8.295242  8.295242  8.295242  8.295242   \n",
      "1  BPAN4  2007-11-19  105640382.0    8.295242  8.502623  8.212290  8.950566   \n",
      "2  BPAN4  2007-11-21   41725366.0    7.863890  8.237176  7.465718  8.286947   \n",
      "3  BPAN4  2007-11-22    6797565.0    7.880480  7.897071  7.872185  8.087861   \n",
      "4  BPAN4  2007-11-23    9452588.0    7.946842  7.797528  7.565261  8.046385   \n",
      "\n",
      "      Médio  Variacao  \n",
      "0  8.295242         0  \n",
      "1  8.544100         0  \n",
      "2  7.814118         0  \n",
      "3  7.921956         0  \n",
      "4  7.764347         0  \n"
     ]
    },
    {
     "name": "stderr",
     "output_type": "stream",
     "text": [
      "/home/alex/.local/lib/python3.6/site-packages/pandas/core/indexing.py:670: SettingWithCopyWarning: \n",
      "A value is trying to be set on a copy of a slice from a DataFrame\n",
      "\n",
      "See the caveats in the documentation: https://pandas.pydata.org/pandas-docs/stable/user_guide/indexing.html#returning-a-view-versus-a-copy\n",
      "  self._setitem_with_indexer(indexer, value)\n",
      "/home/alex/.local/lib/python3.6/site-packages/pandas/core/indexing.py:670: SettingWithCopyWarning: \n",
      "A value is trying to be set on a copy of a slice from a DataFrame\n",
      "\n",
      "See the caveats in the documentation: https://pandas.pydata.org/pandas-docs/stable/user_guide/indexing.html#returning-a-view-versus-a-copy\n",
      "  self._setitem_with_indexer(indexer, value)\n",
      "/home/alex/.local/lib/python3.6/site-packages/pandas/core/indexing.py:670: SettingWithCopyWarning: \n",
      "A value is trying to be set on a copy of a slice from a DataFrame\n",
      "\n",
      "See the caveats in the documentation: https://pandas.pydata.org/pandas-docs/stable/user_guide/indexing.html#returning-a-view-versus-a-copy\n",
      "  self._setitem_with_indexer(indexer, value)\n"
     ]
    },
    {
     "name": "stdout",
     "output_type": "stream",
     "text": [
      "BPAN4.csv (3042, 9) (83243, 9)\n",
      "BRAP3.csv\n",
      "   Ativo        Data     Volume  Fechamento  Abertura    Mínimo    Máximo  \\\n",
      "0  BRAP3  2000-08-10  1466628.0    4.059466  3.929563  3.085194  4.059466   \n",
      "1  BRAP3  2000-08-11   850371.0    4.189369  4.384224  3.962039  4.384224   \n",
      "2  BRAP3  2000-08-14   544783.0    4.059466  4.189369  4.059466  4.416699   \n",
      "3  BRAP3  2000-08-15   257629.0    3.994515  3.962039  3.897088  4.059466   \n",
      "4  BRAP3  2000-08-16   269944.0    3.604806  3.994515  3.604806  3.994515   \n",
      "\n",
      "      Médio  Variacao  \n",
      "0  3.702233         0  \n",
      "1  4.156893         0  \n",
      "2  4.189369         0  \n",
      "3  3.962039         0  \n",
      "4  3.832136         0  \n"
     ]
    },
    {
     "name": "stderr",
     "output_type": "stream",
     "text": [
      "/home/alex/.local/lib/python3.6/site-packages/pandas/core/indexing.py:670: SettingWithCopyWarning: \n",
      "A value is trying to be set on a copy of a slice from a DataFrame\n",
      "\n",
      "See the caveats in the documentation: https://pandas.pydata.org/pandas-docs/stable/user_guide/indexing.html#returning-a-view-versus-a-copy\n",
      "  self._setitem_with_indexer(indexer, value)\n"
     ]
    },
    {
     "name": "stdout",
     "output_type": "stream",
     "text": [
      "BRAP3.csv (4764, 9) (86285, 9)\n",
      "BRAP4.csv\n",
      "   Ativo        Data      Volume  Fechamento  Abertura    Mínimo    Máximo  \\\n",
      "0  BRAP4  2000-08-10  32357199.0    4.373583  6.292925  3.744290  6.292925   \n",
      "1  BRAP4  2000-08-11  25178934.0    4.467977  4.499441  4.405047  4.688229   \n",
      "2  BRAP4  2000-08-14  11751862.0    4.279189  4.562370  4.279189  4.593835   \n",
      "3  BRAP4  2000-08-15  17156174.0    4.090401  4.342118  4.090401  4.405047   \n",
      "4  BRAP4  2000-08-16  26486132.0    3.775755  4.153330  3.775755  4.153330   \n",
      "\n",
      "      Médio  Variacao  \n",
      "0  4.436512         0  \n",
      "1  4.530906         0  \n",
      "2  4.405047         0  \n",
      "3  4.184795         0  \n",
      "4  3.870149         0  \n"
     ]
    },
    {
     "name": "stderr",
     "output_type": "stream",
     "text": [
      "/home/alex/.local/lib/python3.6/site-packages/pandas/core/indexing.py:670: SettingWithCopyWarning: \n",
      "A value is trying to be set on a copy of a slice from a DataFrame\n",
      "\n",
      "See the caveats in the documentation: https://pandas.pydata.org/pandas-docs/stable/user_guide/indexing.html#returning-a-view-versus-a-copy\n",
      "  self._setitem_with_indexer(indexer, value)\n"
     ]
    },
    {
     "name": "stdout",
     "output_type": "stream",
     "text": [
      "BRAP4.csv (4845, 9) (91049, 9)\n",
      "BRDT3.csv\n",
      "   Ativo        Data       Volume  Fechamento   Abertura     Mínimo  \\\n",
      "0  BRDT3  2017-12-14          0.0   12.571734  12.571734  12.571734   \n",
      "1  BRDT3  2017-12-15  766169446.0   13.409850  12.915362  12.781263   \n",
      "2  BRDT3  2017-12-18  120099813.0   13.451756  13.535567  13.166796   \n",
      "3  BRDT3  2017-12-19   75959977.0   13.367944  13.451756  13.158415   \n",
      "4  BRDT3  2017-12-20   80309199.0   13.703190  13.376325  13.376325   \n",
      "\n",
      "      Máximo      Médio  Variacao  \n",
      "0  12.571734  12.571734         0  \n",
      "1  13.510424  13.024317         0  \n",
      "2  13.644522  13.485280         0  \n",
      "3  13.619379  13.418231         0  \n",
      "4  13.820526  13.577473         0  \n",
      "BRDT3.csv (551, 9) (95894, 9)\n",
      "BRKM5.csv\n",
      "   Ativo        Data    Volume    Fechamento      Abertura        Mínimo  \\\n",
      "0  BRKM5  1986-01-02  0.000074  1.752771e-09  1.809312e-09  1.696230e-09   \n",
      "1  BRKM5  1986-01-03  0.001187  1.720765e-09  2.007559e-09  1.663406e-09   \n",
      "2  BRKM5  1986-01-06  0.001117  1.892841e-09  1.720765e-09  1.720765e-09   \n",
      "3  BRKM5  1986-01-07  0.000679  1.720765e-09  1.892841e-09  1.720765e-09   \n",
      "4  BRKM5  1986-01-08  0.000819  1.892841e-09  1.778124e-09  1.778124e-09   \n",
      "\n",
      "         Máximo         Médio  Variacao  \n",
      "0  1.809312e-09  1.773691e-09         0  \n",
      "1  2.064918e-09  1.718012e-09         0  \n",
      "2  1.892841e-09  1.868521e-09         0  \n",
      "3  1.973144e-09  1.935057e-09         0  \n",
      "4  1.893530e-09  1.799232e-09         0  \n"
     ]
    },
    {
     "name": "stderr",
     "output_type": "stream",
     "text": [
      "/home/alex/.local/lib/python3.6/site-packages/pandas/core/indexing.py:670: SettingWithCopyWarning: \n",
      "A value is trying to be set on a copy of a slice from a DataFrame\n",
      "\n",
      "See the caveats in the documentation: https://pandas.pydata.org/pandas-docs/stable/user_guide/indexing.html#returning-a-view-versus-a-copy\n",
      "  self._setitem_with_indexer(indexer, value)\n",
      "/home/alex/.local/lib/python3.6/site-packages/pandas/core/indexing.py:670: SettingWithCopyWarning: \n",
      "A value is trying to be set on a copy of a slice from a DataFrame\n",
      "\n",
      "See the caveats in the documentation: https://pandas.pydata.org/pandas-docs/stable/user_guide/indexing.html#returning-a-view-versus-a-copy\n",
      "  self._setitem_with_indexer(indexer, value)\n"
     ]
    },
    {
     "name": "stdout",
     "output_type": "stream",
     "text": [
      "BRKM5.csv (8407, 9) (96445, 9)\n",
      "BRML3.csv\n",
      "   Ativo        Data       Volume  Fechamento  Abertura    Mínimo    Máximo  \\\n",
      "0  BRML3  2007-04-04          0.0    4.186178  4.186178  4.186178  4.186178   \n",
      "1  BRML3  2007-04-05  136210411.0    4.409441  4.325717  4.244785  4.465257   \n",
      "2  BRML3  2007-04-09   27462938.0    4.395487  4.325717  4.241994  4.401069   \n",
      "3  BRML3  2007-04-10   29098126.0    4.169433  4.311764  4.144316  4.311764   \n",
      "4  BRML3  2007-04-11   29042561.0    3.988032  4.121990  3.974079  4.186178   \n",
      "\n",
      "      Médio  Variacao  \n",
      "0  4.186178         0  \n",
      "1  4.375952         0  \n",
      "2  4.322927         0  \n",
      "3  4.188969         0  \n",
      "4  4.057802         0  \n"
     ]
    },
    {
     "name": "stderr",
     "output_type": "stream",
     "text": [
      "/home/alex/.local/lib/python3.6/site-packages/pandas/core/indexing.py:670: SettingWithCopyWarning: \n",
      "A value is trying to be set on a copy of a slice from a DataFrame\n",
      "\n",
      "See the caveats in the documentation: https://pandas.pydata.org/pandas-docs/stable/user_guide/indexing.html#returning-a-view-versus-a-copy\n",
      "  self._setitem_with_indexer(indexer, value)\n"
     ]
    },
    {
     "name": "stdout",
     "output_type": "stream",
     "text": [
      "BRML3.csv (3197, 9) (104852, 9)\n",
      "BRPR3.csv\n",
      "   Ativo        Data      Volume  Fechamento  Abertura    Mínimo    Máximo  \\\n",
      "0  BRPR3  2010-03-08  45561052.0    6.491483  6.639714  6.414812  6.639714   \n",
      "1  BRPR3  2010-03-09   9907149.0    6.568154  6.491483  6.419923  6.624380   \n",
      "2  BRPR3  2010-03-10  35906135.0    6.639714  6.578377  6.522152  6.670382   \n",
      "3  BRPR3  2010-03-11   6444018.0    6.629491  6.634602  6.542597  6.644825   \n",
      "4  BRPR3  2010-03-12   6084684.0    6.639714  6.644825  6.609045  6.670382   \n",
      "\n",
      "      Médio  Variacao  \n",
      "0  6.506817         0  \n",
      "1  6.527263         0  \n",
      "2  6.634602         0  \n",
      "3  6.629491         0  \n",
      "4  6.634602         0  \n"
     ]
    },
    {
     "name": "stderr",
     "output_type": "stream",
     "text": [
      "/home/alex/.local/lib/python3.6/site-packages/pandas/core/indexing.py:670: SettingWithCopyWarning: \n",
      "A value is trying to be set on a copy of a slice from a DataFrame\n",
      "\n",
      "See the caveats in the documentation: https://pandas.pydata.org/pandas-docs/stable/user_guide/indexing.html#returning-a-view-versus-a-copy\n",
      "  self._setitem_with_indexer(indexer, value)\n"
     ]
    },
    {
     "name": "stdout",
     "output_type": "stream",
     "text": [
      "BRPR3.csv (2478, 9) (108049, 9)\n",
      "BRSR6.csv\n",
      "   Ativo        Data     Volume  Fechamento  Abertura    Mínimo    Máximo  \\\n",
      "0  BRSR6  2007-09-03   953522.0    4.769641  4.855195  4.705476  4.919361   \n",
      "1  BRSR6  2007-09-04  2162276.0    4.897972  4.791030  4.705476  5.026304   \n",
      "2  BRSR6  2007-09-05   211913.0    4.833807  4.872306  4.748253  4.876584   \n",
      "3  BRSR6  2007-09-06  4145547.0    4.791030  4.876584  4.705476  4.876584   \n",
      "4  BRSR6  2007-09-10  2338533.0    4.534368  4.577145  4.512979  4.619922   \n",
      "\n",
      "      Médio  Variacao  \n",
      "0  4.850918         0  \n",
      "1  4.829529         0  \n",
      "2  4.846640         0  \n",
      "3  4.769641         0  \n",
      "4  4.568589         0  \n"
     ]
    },
    {
     "name": "stderr",
     "output_type": "stream",
     "text": [
      "/home/alex/.local/lib/python3.6/site-packages/pandas/core/indexing.py:670: SettingWithCopyWarning: \n",
      "A value is trying to be set on a copy of a slice from a DataFrame\n",
      "\n",
      "See the caveats in the documentation: https://pandas.pydata.org/pandas-docs/stable/user_guide/indexing.html#returning-a-view-versus-a-copy\n",
      "  self._setitem_with_indexer(indexer, value)\n"
     ]
    },
    {
     "name": "stdout",
     "output_type": "stream",
     "text": [
      "BRSR6.csv (3093, 9) (110527, 9)\n",
      "BSEV3.csv\n",
      "   Ativo        Data      Volume  Fechamento  Abertura  Mínimo  Máximo  Médio  \\\n",
      "0  BSEV3  2013-04-18         0.0       15.00     15.00   15.00   15.00  15.00   \n",
      "1  BSEV3  2013-04-19  14865492.0       12.85     14.17   12.65   14.17  13.10   \n",
      "2  BSEV3  2013-04-22   4509590.0       13.02     12.84   12.65   13.04  12.88   \n",
      "3  BSEV3  2013-04-23   1283308.0       13.02     13.10   12.85   13.20  12.99   \n",
      "4  BSEV3  2013-04-24   1135134.0       13.00     13.05   12.95   13.10  13.00   \n",
      "\n",
      "   Variacao  \n",
      "0         0  \n",
      "1         0  \n",
      "2         0  \n",
      "3         0  \n",
      "4         0  \n"
     ]
    },
    {
     "name": "stderr",
     "output_type": "stream",
     "text": [
      "/home/alex/.local/lib/python3.6/site-packages/pandas/core/indexing.py:670: SettingWithCopyWarning: \n",
      "A value is trying to be set on a copy of a slice from a DataFrame\n",
      "\n",
      "See the caveats in the documentation: https://pandas.pydata.org/pandas-docs/stable/user_guide/indexing.html#returning-a-view-versus-a-copy\n",
      "  self._setitem_with_indexer(indexer, value)\n"
     ]
    },
    {
     "name": "stdout",
     "output_type": "stream",
     "text": [
      "BSEV3.csv (1427, 9) (113620, 9)\n",
      "CAML3.csv\n",
      "   Ativo        Data       Volume  Fechamento  Abertura    Mínimo    Máximo  \\\n",
      "0  CAML3  2017-09-27          0.0    8.356086  8.356086  8.356086  8.356086   \n",
      "1  CAML3  2017-09-28  179141094.0    8.346802  8.356086  8.040412  8.356086   \n",
      "2  CAML3  2017-09-29   40931634.0    8.356086  8.309664  8.253956  8.439647   \n",
      "3  CAML3  2017-10-02   16507262.0    8.356086  8.430363  8.309664  8.430363   \n",
      "4  CAML3  2017-10-03   48688194.0    8.318948  8.402509  8.291095  8.402509   \n",
      "\n",
      "      Médio  Variacao  \n",
      "0  8.356086         0  \n",
      "1  8.272525         0  \n",
      "2  8.328233         0  \n",
      "3  8.337517         0  \n",
      "4  8.318948         0  \n",
      "CAML3.csv (603, 9) (115047, 9)\n",
      "CARD3.csv\n",
      "   Ativo        Data      Volume  Fechamento   Abertura     Mínimo     Máximo  \\\n",
      "0  CARD3  2006-04-28         0.0   11.920872  11.920872  11.920872  11.920872   \n",
      "1  CARD3  2006-05-02  74750229.0   11.589737  12.252007  11.424169  12.444066   \n",
      "2  CARD3  2006-05-03  43915240.0   11.258601  11.596360  10.728785  11.689077   \n",
      "3  CARD3  2006-05-04   9269162.0   11.589737  11.391056  11.265224  11.689077   \n",
      "4  CARD3  2006-05-05  12049575.0   11.920872  11.854645  11.179129  12.159290   \n",
      "\n",
      "       Médio  Variacao  \n",
      "0  11.920872         0  \n",
      "1  11.801663         0  \n",
      "2  11.232111         0  \n",
      "3  11.463905         0  \n",
      "4  11.901004         0  \n"
     ]
    },
    {
     "name": "stderr",
     "output_type": "stream",
     "text": [
      "/home/alex/.local/lib/python3.6/site-packages/pandas/core/indexing.py:670: SettingWithCopyWarning: \n",
      "A value is trying to be set on a copy of a slice from a DataFrame\n",
      "\n",
      "See the caveats in the documentation: https://pandas.pydata.org/pandas-docs/stable/user_guide/indexing.html#returning-a-view-versus-a-copy\n",
      "  self._setitem_with_indexer(indexer, value)\n",
      "/home/alex/.local/lib/python3.6/site-packages/pandas/core/indexing.py:670: SettingWithCopyWarning: \n",
      "A value is trying to be set on a copy of a slice from a DataFrame\n",
      "\n",
      "See the caveats in the documentation: https://pandas.pydata.org/pandas-docs/stable/user_guide/indexing.html#returning-a-view-versus-a-copy\n",
      "  self._setitem_with_indexer(indexer, value)\n"
     ]
    },
    {
     "name": "stdout",
     "output_type": "stream",
     "text": [
      "CARD3.csv (3427, 9) (115650, 9)\n",
      "CCRO3.csv\n",
      "   Ativo        Data        Volume  Fechamento  Abertura    Mínimo    Máximo  \\\n",
      "0  CCRO3  2002-01-31  0.000000e+00    0.512532  0.512532  0.512532  0.512532   \n",
      "1  CCRO3  2002-02-01  1.407280e+06    0.505983  0.541006  0.505983  0.541006   \n",
      "2  CCRO3  2002-02-04  2.275645e+06    0.506837  0.505413  0.503990  0.506837   \n",
      "3  CCRO3  2002-02-05  1.276260e+06    0.506837  0.506837  0.506837  0.506837   \n",
      "4  CCRO3  2002-02-06  1.898435e+06    0.509684  0.508261  0.508261  0.509684   \n",
      "\n",
      "      Médio  Variacao  \n",
      "0  0.512532         0  \n",
      "1  0.511108         0  \n",
      "2  0.505413         0  \n",
      "3  0.506837         0  \n",
      "4  0.509400         0  \n"
     ]
    },
    {
     "name": "stderr",
     "output_type": "stream",
     "text": [
      "/home/alex/.local/lib/python3.6/site-packages/pandas/core/indexing.py:670: SettingWithCopyWarning: \n",
      "A value is trying to be set on a copy of a slice from a DataFrame\n",
      "\n",
      "See the caveats in the documentation: https://pandas.pydata.org/pandas-docs/stable/user_guide/indexing.html#returning-a-view-versus-a-copy\n",
      "  self._setitem_with_indexer(indexer, value)\n"
     ]
    },
    {
     "name": "stdout",
     "output_type": "stream",
     "text": [
      "CCRO3.csv (4389, 9) (119077, 9)\n",
      "CCXC3.csv\n",
      "   Ativo        Data      Volume  Fechamento  Abertura  Mínimo  Máximo  Médio  \\\n",
      "0  CCXC3  2012-05-25  68061020.0       851.0     730.0   716.0   900.0  801.0   \n",
      "1  CCXC3  2012-05-28  12236914.0       820.0     853.0   815.0   934.0  864.0   \n",
      "2  CCXC3  2012-05-29  13718705.0       758.0     839.0   758.0   840.0  785.0   \n",
      "3  CCXC3  2012-05-30  11061568.0       700.0     763.0   680.0   778.0  712.0   \n",
      "4  CCXC3  2012-05-31  21870738.0       594.0     700.0   594.0   730.0  635.0   \n",
      "\n",
      "   Variacao  \n",
      "0         0  \n",
      "1         0  \n",
      "2         0  \n",
      "3         0  \n",
      "4         0  \n"
     ]
    },
    {
     "name": "stderr",
     "output_type": "stream",
     "text": [
      "/home/alex/.local/lib/python3.6/site-packages/pandas/core/indexing.py:670: SettingWithCopyWarning: \n",
      "A value is trying to be set on a copy of a slice from a DataFrame\n",
      "\n",
      "See the caveats in the documentation: https://pandas.pydata.org/pandas-docs/stable/user_guide/indexing.html#returning-a-view-versus-a-copy\n",
      "  self._setitem_with_indexer(indexer, value)\n"
     ]
    },
    {
     "name": "stdout",
     "output_type": "stream",
     "text": [
      "CCXC3.csv (1860, 9) (123466, 9)\n",
      "CEAB3.csv\n",
      "   Ativo        Data       Volume  Fechamento   Abertura     Mínimo  \\\n",
      "0  CEAB3  2019-10-25          0.0   16.266869  16.266869  16.266869   \n",
      "1  CEAB3  2019-10-28  361035972.0   16.769663  17.085141  16.759804   \n",
      "2  CEAB3  2019-10-29   57444550.0   16.759804  16.858391  16.611923   \n",
      "3  CEAB3  2019-10-30   38059473.0   16.789380  16.769663  16.611923   \n",
      "4  CEAB3  2019-10-31   25254215.0   16.740087  16.730228  16.464043   \n",
      "\n",
      "      Máximo      Médio  Variacao  \n",
      "0  16.266869  16.266869         0  \n",
      "1  17.104859  16.887967         0  \n",
      "2  17.025989  16.769663         0  \n",
      "3  16.809098  16.730228         0  \n",
      "4  16.740087  16.621782         0  \n",
      "CEAB3.csv (91, 9) (125326, 9)\n",
      "CEGR3.csv\n",
      "   Ativo        Data       Volume  Fechamento  Abertura    Mínimo    Máximo  \\\n",
      "0  CEGR3  2001-01-26  319160.0081    0.128107  0.128107  0.128107  0.128107   \n",
      "1  CEGR3  2001-01-29  507600.0000    0.210808  0.202700  0.202700  0.210808   \n",
      "2  CEGR3  2001-01-30   30946.0000    0.340537  0.325131  0.325131  0.340537   \n",
      "3  CEGR3  2001-01-31   13473.6000    0.389185  0.364861  0.364861  0.389185   \n",
      "4  CEGR3  2001-02-01   87401.5900    0.404590  0.405401  0.389185  0.470265   \n",
      "\n",
      "      Médio  Variacao  \n",
      "0  0.128107         0  \n",
      "1  0.202700         0  \n",
      "2  0.329996         0  \n",
      "3  0.372969         0  \n",
      "4  0.416752         0  \n",
      "CEGR3.csv (491, 9) (125417, 9)\n",
      "CESP3.csv\n",
      "   Ativo        Data       Volume  Fechamento  Abertura    Mínimo    Máximo  \\\n",
      "0  CESP3  1993-07-01  1963.622045    0.066897  0.062630  0.061918  0.066900   \n",
      "1  CESP3  1993-07-02  1034.545568    0.066900  0.067612  0.066900  0.067612   \n",
      "2  CESP3  1993-07-05  3988.727188    0.070459  0.071170  0.069747  0.073946   \n",
      "3  CESP3  1993-07-06  2453.377912    0.075298  0.072579  0.072579  0.075441   \n",
      "4  CESP3  1993-07-07  3013.454545    0.073305  0.075441  0.073305  0.075441   \n",
      "\n",
      "      Médio  Variacao  \n",
      "0  0.064053         0  \n",
      "1  0.067493         0  \n",
      "2  0.070970         0  \n",
      "3  0.073872         0  \n",
      "4  0.073724         0  \n"
     ]
    },
    {
     "name": "stderr",
     "output_type": "stream",
     "text": [
      "/home/alex/.local/lib/python3.6/site-packages/pandas/core/indexing.py:670: SettingWithCopyWarning: \n",
      "A value is trying to be set on a copy of a slice from a DataFrame\n",
      "\n",
      "See the caveats in the documentation: https://pandas.pydata.org/pandas-docs/stable/user_guide/indexing.html#returning-a-view-versus-a-copy\n",
      "  self._setitem_with_indexer(indexer, value)\n",
      "/home/alex/.local/lib/python3.6/site-packages/pandas/core/indexing.py:670: SettingWithCopyWarning: \n",
      "A value is trying to be set on a copy of a slice from a DataFrame\n",
      "\n",
      "See the caveats in the documentation: https://pandas.pydata.org/pandas-docs/stable/user_guide/indexing.html#returning-a-view-versus-a-copy\n",
      "  self._setitem_with_indexer(indexer, value)\n",
      "/home/alex/.local/lib/python3.6/site-packages/pandas/core/indexing.py:670: SettingWithCopyWarning: \n",
      "A value is trying to be set on a copy of a slice from a DataFrame\n",
      "\n",
      "See the caveats in the documentation: https://pandas.pydata.org/pandas-docs/stable/user_guide/indexing.html#returning-a-view-versus-a-copy\n",
      "  self._setitem_with_indexer(indexer, value)\n"
     ]
    },
    {
     "name": "stdout",
     "output_type": "stream",
     "text": [
      "CESP3.csv (6228, 9) (125908, 9)\n",
      "CESP6.csv\n",
      "   Ativo        Data       Volume  Fechamento  Abertura    Mínimo     Máximo  \\\n",
      "0  CESP6  2006-07-31  184350493.0    9.378867  9.192930  8.968712   9.674178   \n",
      "1  CESP6  2006-08-01   77723243.0    9.734334  9.285898  9.138243   9.789021   \n",
      "2  CESP6  2006-08-02   62870723.0    9.624960  9.810896  9.624960  10.171832   \n",
      "3  CESP6  2006-08-03   48331850.0    9.761678  9.417148  9.417148   9.810896   \n",
      "4  CESP6  2006-08-04   37447964.0    9.953083  9.827302  9.789021  10.089801   \n",
      "\n",
      "       Médio  Variacao  \n",
      "0   9.302305         0  \n",
      "1   9.553866         0  \n",
      "2  10.002302         0  \n",
      "3   9.663241         0  \n",
      "4   9.903865         0  \n"
     ]
    },
    {
     "name": "stderr",
     "output_type": "stream",
     "text": [
      "/home/alex/.local/lib/python3.6/site-packages/pandas/core/indexing.py:670: SettingWithCopyWarning: \n",
      "A value is trying to be set on a copy of a slice from a DataFrame\n",
      "\n",
      "See the caveats in the documentation: https://pandas.pydata.org/pandas-docs/stable/user_guide/indexing.html#returning-a-view-versus-a-copy\n",
      "  self._setitem_with_indexer(indexer, value)\n"
     ]
    },
    {
     "name": "stdout",
     "output_type": "stream",
     "text": [
      "CESP6.csv (3363, 9) (132136, 9)\n",
      "CGRA3.csv\n",
      "   Ativo        Data    Volume  Fechamento  Abertura    Mínimo    Máximo  \\\n",
      "0  CGRA3  1990-11-12  0.058909    0.000001  0.000001  0.000001  0.000001   \n",
      "1  CGRA3  1990-11-13  0.946727    0.000002  0.000001  0.000001  0.000002   \n",
      "2  CGRA3  1990-11-21  0.200000    0.000002  0.000002  0.000002  0.000002   \n",
      "3  CGRA3  1990-12-26  2.018000    0.000002  0.000002  0.000002  0.000002   \n",
      "4  CGRA3  1991-03-26  1.636364    0.000001  0.000001  0.000001  0.000001   \n",
      "\n",
      "      Médio  Variacao  \n",
      "0  0.000001         0  \n",
      "1  0.000001         0  \n",
      "2  0.000002         0  \n",
      "3  0.000002         0  \n",
      "4  0.000001         0  \n"
     ]
    },
    {
     "name": "stderr",
     "output_type": "stream",
     "text": [
      "/home/alex/.local/lib/python3.6/site-packages/pandas/core/indexing.py:670: SettingWithCopyWarning: \n",
      "A value is trying to be set on a copy of a slice from a DataFrame\n",
      "\n",
      "See the caveats in the documentation: https://pandas.pydata.org/pandas-docs/stable/user_guide/indexing.html#returning-a-view-versus-a-copy\n",
      "  self._setitem_with_indexer(indexer, value)\n"
     ]
    },
    {
     "name": "stdout",
     "output_type": "stream",
     "text": [
      "CGRA3.csv (2284, 9) (135499, 9)\n",
      "CGRA4.csv\n",
      "   Ativo        Data    Volume    Fechamento      Abertura        Mínimo  \\\n",
      "0  CGRA4  1986-01-07  0.000036  2.191152e-10  2.191152e-10  2.191152e-10   \n",
      "1  CGRA4  1986-01-08  0.000036  1.918217e-10  1.971927e-10  1.918217e-10   \n",
      "2  CGRA4  1986-01-09  0.000009  1.862314e-10  1.863411e-10  1.862314e-10   \n",
      "3  CGRA4  1986-01-14  0.000004  3.830953e-10  3.830953e-10  3.830953e-10   \n",
      "4  CGRA4  1986-01-15  0.000319  3.282891e-10  3.282891e-10  3.282891e-10   \n",
      "\n",
      "         Máximo         Médio  Variacao  \n",
      "0  2.191152e-10  2.191152e-10         0  \n",
      "1  1.971927e-10  1.967542e-10         0  \n",
      "2  1.863411e-10  1.862314e-10         0  \n",
      "3  3.830953e-10  3.830953e-10         0  \n",
      "4  3.282891e-10  3.282891e-10         0  \n"
     ]
    },
    {
     "name": "stderr",
     "output_type": "stream",
     "text": [
      "/home/alex/.local/lib/python3.6/site-packages/pandas/core/indexing.py:670: SettingWithCopyWarning: \n",
      "A value is trying to be set on a copy of a slice from a DataFrame\n",
      "\n",
      "See the caveats in the documentation: https://pandas.pydata.org/pandas-docs/stable/user_guide/indexing.html#returning-a-view-versus-a-copy\n",
      "  self._setitem_with_indexer(indexer, value)\n"
     ]
    },
    {
     "name": "stdout",
     "output_type": "stream",
     "text": [
      "CGRA4.csv (4627, 9) (137783, 9)\n",
      "CIEL3.csv\n",
      "   Ativo        Data        Volume  Fechamento  Abertura    Mínimo    Máximo  \\\n",
      "0  CIEL3  2009-06-26  0.000000e+00    4.555387  4.555387  4.555387  4.555387   \n",
      "1  CIEL3  2009-06-29  2.888829e+09    5.092923  5.162772  5.010926  5.269065   \n",
      "2  CIEL3  2009-06-30  7.736123e+08    5.117218  5.129366  5.056480  5.193141   \n",
      "3  CIEL3  2009-07-01  7.291478e+08    5.414837  5.199215  5.184031  5.484686   \n",
      "4  CIEL3  2009-07-02  4.729197e+08    5.472539  5.314618  5.259954  5.475575   \n",
      "\n",
      "      Médio  Variacao  \n",
      "0  4.555387         0  \n",
      "1  5.126329         0  \n",
      "2  5.120255         0  \n",
      "3  5.387505         0  \n",
      "4  5.408763         0  \n"
     ]
    },
    {
     "name": "stderr",
     "output_type": "stream",
     "text": [
      "/home/alex/.local/lib/python3.6/site-packages/pandas/core/indexing.py:670: SettingWithCopyWarning: \n",
      "A value is trying to be set on a copy of a slice from a DataFrame\n",
      "\n",
      "See the caveats in the documentation: https://pandas.pydata.org/pandas-docs/stable/user_guide/indexing.html#returning-a-view-versus-a-copy\n",
      "  self._setitem_with_indexer(indexer, value)\n"
     ]
    },
    {
     "name": "stdout",
     "output_type": "stream",
     "text": [
      "CIEL3.csv (2647, 9) (142410, 9)\n",
      "CLSC4.csv\n",
      "   Ativo        Data       Volume  Fechamento  Abertura    Mínimo    Máximo  \\\n",
      "0  CLSC4  1993-05-19   364.696364    0.018528  0.018528  0.018528  0.018528   \n",
      "1  CLSC4  1993-05-20  3817.543750    0.021199  0.020351  0.020351  0.021199   \n",
      "2  CLSC4  1993-05-21   868.456725    0.020492  0.022047  0.020351  0.022047   \n",
      "3  CLSC4  1993-05-24  1433.163769    0.019786  0.020775  0.019786  0.020775   \n",
      "4  CLSC4  1993-05-25   772.415998    0.019941  0.020068  0.019941  0.020207   \n",
      "\n",
      "      Médio  Variacao  \n",
      "0  0.018528         0  \n",
      "1  0.021075         0  \n",
      "2  0.020771         0  \n",
      "3  0.020108         0  \n",
      "4  0.020013         0  \n"
     ]
    },
    {
     "name": "stderr",
     "output_type": "stream",
     "text": [
      "/home/alex/.local/lib/python3.6/site-packages/pandas/core/indexing.py:670: SettingWithCopyWarning: \n",
      "A value is trying to be set on a copy of a slice from a DataFrame\n",
      "\n",
      "See the caveats in the documentation: https://pandas.pydata.org/pandas-docs/stable/user_guide/indexing.html#returning-a-view-versus-a-copy\n",
      "  self._setitem_with_indexer(indexer, value)\n"
     ]
    },
    {
     "name": "stdout",
     "output_type": "stream",
     "text": [
      "CLSC4.csv (6438, 9) (145057, 9)\n",
      "CMIG3.csv\n",
      "   Ativo        Data    Volume    Fechamento      Abertura        Mínimo  \\\n",
      "0  CMIG3  1989-05-08  0.000015  2.484362e-09  2.484362e-09  2.484362e-09   \n",
      "1  CMIG3  1989-05-12  0.000003  2.423768e-09  2.423768e-09  2.423768e-09   \n",
      "2  CMIG3  1989-05-16  0.000287  2.273797e-08  2.273797e-08  2.273797e-08   \n",
      "3  CMIG3  1989-05-17  0.000288  2.302579e-08  2.302579e-08  2.302579e-08   \n",
      "4  CMIG3  1989-05-22  0.000115  2.273797e-08  2.273797e-08  2.273797e-08   \n",
      "\n",
      "         Máximo         Médio  Variacao  \n",
      "0  2.484362e-09  2.484362e-09         0  \n",
      "1  2.423768e-09  2.423768e-09         0  \n",
      "2  2.273797e-08  2.273797e-08         0  \n",
      "3  2.302579e-08  2.302579e-08         0  \n",
      "4  2.273797e-08  2.273797e-08         0  \n"
     ]
    },
    {
     "name": "stderr",
     "output_type": "stream",
     "text": [
      "/home/alex/.local/lib/python3.6/site-packages/pandas/core/indexing.py:670: SettingWithCopyWarning: \n",
      "A value is trying to be set on a copy of a slice from a DataFrame\n",
      "\n",
      "See the caveats in the documentation: https://pandas.pydata.org/pandas-docs/stable/user_guide/indexing.html#returning-a-view-versus-a-copy\n",
      "  self._setitem_with_indexer(indexer, value)\n"
     ]
    },
    {
     "name": "stdout",
     "output_type": "stream",
     "text": [
      "CMIG3.csv (6902, 9) (151495, 9)\n",
      "CMIG4.csv\n",
      "   Ativo        Data        Volume    Fechamento      Abertura        Mínimo  \\\n",
      "0  CMIG4  1986-01-03  2.001055e-06  1.711646e-10  1.711646e-10  1.711646e-10   \n",
      "1  CMIG4  1986-01-06  2.611273e-06  1.711646e-10  1.711646e-10  1.661304e-10   \n",
      "2  CMIG4  1986-01-07  6.181818e-09  1.711646e-10  1.711646e-10  1.711646e-10   \n",
      "3  CMIG4  1986-01-09  6.845091e-06  1.711646e-10  1.822400e-10  1.711646e-10   \n",
      "4  CMIG4  1986-01-10  2.272276e-06  1.761989e-10  1.711646e-10  1.711646e-10   \n",
      "\n",
      "         Máximo         Médio  Variacao  \n",
      "0  1.711646e-10  1.711646e-10         0  \n",
      "1  1.711646e-10  1.681441e-10         0  \n",
      "2  1.711646e-10  1.711646e-10         0  \n",
      "3  1.822400e-10  1.822400e-10         0  \n",
      "4  1.761989e-10  1.741852e-10         0  \n"
     ]
    },
    {
     "name": "stderr",
     "output_type": "stream",
     "text": [
      "/home/alex/.local/lib/python3.6/site-packages/pandas/core/indexing.py:670: SettingWithCopyWarning: \n",
      "A value is trying to be set on a copy of a slice from a DataFrame\n",
      "\n",
      "See the caveats in the documentation: https://pandas.pydata.org/pandas-docs/stable/user_guide/indexing.html#returning-a-view-versus-a-copy\n",
      "  self._setitem_with_indexer(indexer, value)\n"
     ]
    },
    {
     "name": "stdout",
     "output_type": "stream",
     "text": [
      "CMIG4.csv (8378, 9) (158397, 9)\n",
      "CNTO3.csv\n",
      "   Ativo        Data       Volume  Fechamento  Abertura  Mínimo  Máximo  \\\n",
      "0  CNTO3  2019-04-16          0.0       12.50     12.50   12.50   12.50   \n",
      "1  CNTO3  2019-04-17  127539449.0       12.30     12.20   12.07   12.74   \n",
      "2  CNTO3  2019-04-18   37883273.0       12.05     12.29   11.82   12.56   \n",
      "3  CNTO3  2019-04-22   10320027.0       12.00     12.04   11.81   12.10   \n",
      "4  CNTO3  2019-04-23   22864390.0       11.93     12.00   11.85   12.04   \n",
      "\n",
      "   Médio  Variacao  \n",
      "0  12.50         0  \n",
      "1  12.33         0  \n",
      "2  12.05         0  \n",
      "3  11.91         0  \n",
      "4  11.91         0  \n",
      "CNTO3.csv (225, 9) (166775, 9)\n",
      "COCE5.csv\n",
      "   Ativo        Data         Volume  Fechamento  Abertura    Mínimo    Máximo  \\\n",
      "0  COCE5  1995-10-24  197618.764390    0.108785  0.108785  0.108785  0.108785   \n",
      "1  COCE5  1995-10-27  103500.002290    0.108785  0.108785  0.108785  0.108785   \n",
      "2  COCE5  1995-11-20    4162.600011    0.102478  0.102478  0.102478  0.102478   \n",
      "3  COCE5  1996-01-30    1339.999959    0.105631  0.105631  0.105631  0.105631   \n",
      "4  COCE5  1996-02-05     156.399999    0.107208  0.107208  0.107208  0.107208   \n",
      "\n",
      "      Médio  Variacao  \n",
      "0  0.108785         0  \n",
      "1  0.108785         0  \n",
      "2  0.102478         0  \n",
      "3  0.105631         0  \n",
      "4  0.107208         0  \n"
     ]
    },
    {
     "name": "stderr",
     "output_type": "stream",
     "text": [
      "/home/alex/.local/lib/python3.6/site-packages/pandas/core/indexing.py:670: SettingWithCopyWarning: \n",
      "A value is trying to be set on a copy of a slice from a DataFrame\n",
      "\n",
      "See the caveats in the documentation: https://pandas.pydata.org/pandas-docs/stable/user_guide/indexing.html#returning-a-view-versus-a-copy\n",
      "  self._setitem_with_indexer(indexer, value)\n",
      "/home/alex/.local/lib/python3.6/site-packages/pandas/core/indexing.py:670: SettingWithCopyWarning: \n",
      "A value is trying to be set on a copy of a slice from a DataFrame\n",
      "\n",
      "See the caveats in the documentation: https://pandas.pydata.org/pandas-docs/stable/user_guide/indexing.html#returning-a-view-versus-a-copy\n",
      "  self._setitem_with_indexer(indexer, value)\n"
     ]
    },
    {
     "name": "stdout",
     "output_type": "stream",
     "text": [
      "COCE5.csv (5681, 9) (167000, 9)\n",
      "COGN3.csv\n",
      "   Ativo        Data   Volume  Fechamento  Abertura    Mínimo    Máximo  \\\n",
      "0  COGN3  2012-03-14   1950.0    2.742331  2.742331  2.742331  2.742331   \n",
      "1  COGN3  2012-03-16  15275.0    2.742331  2.742331  2.742331  2.742331   \n",
      "2  COGN3  2012-03-29  42900.0    2.742331  2.742331  2.742331  2.742331   \n",
      "3  COGN3  2012-06-01    461.0    1.949165  1.940727  1.940727  1.949165   \n",
      "4  COGN3  2012-06-08   8800.0    1.856347  1.856347  1.856347  1.856347   \n",
      "\n",
      "      Médio  Variacao  \n",
      "0  2.742331         0  \n",
      "1  2.742331         0  \n",
      "2  2.742331         0  \n",
      "3  1.949165         0  \n",
      "4  1.856347         0  \n"
     ]
    },
    {
     "name": "stderr",
     "output_type": "stream",
     "text": [
      "/home/alex/.local/lib/python3.6/site-packages/pandas/core/indexing.py:670: SettingWithCopyWarning: \n",
      "A value is trying to be set on a copy of a slice from a DataFrame\n",
      "\n",
      "See the caveats in the documentation: https://pandas.pydata.org/pandas-docs/stable/user_guide/indexing.html#returning-a-view-versus-a-copy\n",
      "  self._setitem_with_indexer(indexer, value)\n"
     ]
    },
    {
     "name": "stdout",
     "output_type": "stream",
     "text": [
      "COGN3.csv (1816, 9) (172681, 9)\n",
      "CPFE3.csv\n",
      "   Ativo        Data      Volume  Fechamento  Abertura    Mínimo    Máximo  \\\n",
      "0  CPFE3  2004-09-28         0.0    3.975852  3.975852  3.975852  3.975852   \n",
      "1  CPFE3  2004-09-29  90522711.0    3.978161  4.040500  3.971234  4.075133   \n",
      "2  CPFE3  2004-09-30  36614917.0    3.867336  3.982779  3.786526  4.001249   \n",
      "3  CPFE3  2004-10-01   6625152.0    3.959690  3.922748  3.855791  3.975852   \n",
      "4  CPFE3  2004-10-04   4300672.0    3.959690  3.971234  3.878880  3.973543   \n",
      "\n",
      "      Médio  Variacao  \n",
      "0  3.975852         0  \n",
      "1  4.003558         0  \n",
      "2  3.922748         0  \n",
      "3  3.895042         0  \n",
      "4  3.922748         0  \n"
     ]
    },
    {
     "name": "stderr",
     "output_type": "stream",
     "text": [
      "/home/alex/.local/lib/python3.6/site-packages/pandas/core/indexing.py:670: SettingWithCopyWarning: \n",
      "A value is trying to be set on a copy of a slice from a DataFrame\n",
      "\n",
      "See the caveats in the documentation: https://pandas.pydata.org/pandas-docs/stable/user_guide/indexing.html#returning-a-view-versus-a-copy\n",
      "  self._setitem_with_indexer(indexer, value)\n"
     ]
    },
    {
     "name": "stdout",
     "output_type": "stream",
     "text": [
      "CPFE3.csv (3819, 9) (174497, 9)\n",
      "CPLE3.csv\n",
      "   Ativo        Data         Volume  Fechamento  Abertura    Mínimo    Máximo  \\\n",
      "0  CPLE3  1994-04-12  253468.790700    1.139034  1.211576  1.139034  1.336297   \n",
      "1  CPLE3  1994-04-13  135541.094550    0.992678  1.145398  0.954498  1.175942   \n",
      "2  CPLE3  1994-04-14  147489.345900    1.030858  0.941771  0.929045  1.056311   \n",
      "3  CPLE3  1994-04-15   92331.659208    1.055039  1.037221  1.018131  1.069038   \n",
      "4  CPLE3  1994-04-18   35313.454715    0.967225  1.056311  0.967225  1.056311   \n",
      "\n",
      "      Médio  Variacao  \n",
      "0  1.191214         0  \n",
      "1  1.083037         0  \n",
      "2  1.009223         0  \n",
      "3  1.057584         0  \n",
      "4  1.013041         0  \n"
     ]
    },
    {
     "name": "stderr",
     "output_type": "stream",
     "text": [
      "/home/alex/.local/lib/python3.6/site-packages/pandas/core/indexing.py:670: SettingWithCopyWarning: \n",
      "A value is trying to be set on a copy of a slice from a DataFrame\n",
      "\n",
      "See the caveats in the documentation: https://pandas.pydata.org/pandas-docs/stable/user_guide/indexing.html#returning-a-view-versus-a-copy\n",
      "  self._setitem_with_indexer(indexer, value)\n"
     ]
    },
    {
     "name": "stdout",
     "output_type": "stream",
     "text": [
      "CPLE3.csv (6263, 9) (178316, 9)\n",
      "CPLE6.csv\n",
      "   Ativo        Data        Volume  Fechamento  Abertura    Mínimo    Máximo  \\\n",
      "0  CPLE6  1997-01-17  1.210000e+03    4.943979  4.943979  4.943979  4.943979   \n",
      "1  CPLE6  1997-01-20  1.254600e+05    5.025698  5.107416  5.025698  5.107416   \n",
      "2  CPLE6  1997-01-21  1.526430e+06    5.107416  5.025698  4.984838  5.107416   \n",
      "3  CPLE6  1997-01-22  2.570700e+05    5.107416  5.025698  5.025698  5.107416   \n",
      "4  CPLE6  1997-01-23  3.543140e+05    5.029784  5.066557  4.984838  5.066557   \n",
      "\n",
      "      Médio  Variacao  \n",
      "0  4.943979         0  \n",
      "1  5.025698         0  \n",
      "2  5.025698         0  \n",
      "3  5.025698         0  \n",
      "4  5.009354         0  \n"
     ]
    },
    {
     "name": "stderr",
     "output_type": "stream",
     "text": [
      "/home/alex/.local/lib/python3.6/site-packages/pandas/core/indexing.py:670: SettingWithCopyWarning: \n",
      "A value is trying to be set on a copy of a slice from a DataFrame\n",
      "\n",
      "See the caveats in the documentation: https://pandas.pydata.org/pandas-docs/stable/user_guide/indexing.html#returning-a-view-versus-a-copy\n",
      "  self._setitem_with_indexer(indexer, value)\n"
     ]
    },
    {
     "name": "stdout",
     "output_type": "stream",
     "text": [
      "CPLE6.csv (5725, 9) (184579, 9)\n",
      "CPRE3.csv\n",
      "   Ativo        Data      Volume  Fechamento   Abertura     Mínimo     Máximo  \\\n",
      "0  CPRE3  2013-07-18         0.0   12.503995  12.503995  12.503995  12.503995   \n",
      "1  CPRE3  2013-07-19  10776435.0   12.014230  12.054211  11.814326  12.194143   \n",
      "2  CPRE3  2013-07-22   4735953.0   12.014230  12.094191  11.994239  12.094191   \n",
      "3  CPRE3  2013-07-23    920889.0   11.844311  11.994239  11.844311  12.094191   \n",
      "4  CPRE3  2013-07-24   1204320.0   11.694383  11.744359  11.624417  11.794335   \n",
      "\n",
      "       Médio  Variacao  \n",
      "0  12.503995         0  \n",
      "1  12.044215         0  \n",
      "2  12.034220         0  \n",
      "3  11.874297         0  \n",
      "4  11.724369         0  \n"
     ]
    },
    {
     "name": "stderr",
     "output_type": "stream",
     "text": [
      "/home/alex/.local/lib/python3.6/site-packages/pandas/core/indexing.py:670: SettingWithCopyWarning: \n",
      "A value is trying to be set on a copy of a slice from a DataFrame\n",
      "\n",
      "See the caveats in the documentation: https://pandas.pydata.org/pandas-docs/stable/user_guide/indexing.html#returning-a-view-versus-a-copy\n",
      "  self._setitem_with_indexer(indexer, value)\n"
     ]
    },
    {
     "name": "stdout",
     "output_type": "stream",
     "text": [
      "CPRE3.csv (1552, 9) (190304, 9)\n",
      "CRFB3.csv\n",
      "   Ativo        Data       Volume  Fechamento   Abertura     Mínimo  \\\n",
      "0  CRFB3  2017-07-19          0.0   14.475443  14.475443  14.475443   \n",
      "1  CRFB3  2017-07-20  509619074.0   14.378940  14.427191  13.857824   \n",
      "2  CRFB3  2017-07-21   67691545.0   14.475443  14.523694  14.349989   \n",
      "3  CRFB3  2017-07-24   72964819.0   14.620197  14.523694  14.475443   \n",
      "4  CRFB3  2017-07-25   89930797.0   14.861454  14.581596  14.485093   \n",
      "\n",
      "      Máximo      Médio  Variacao  \n",
      "0  14.475443  14.475443         0  \n",
      "1  14.514044  14.330688         0  \n",
      "2  14.552645  14.465792         0  \n",
      "3  14.668449  14.571946         0  \n",
      "4  14.861454  14.639498         0  \n",
      "CRFB3.csv (652, 9) (191856, 9)\n",
      "CSNA3.csv\n",
      "   Ativo        Data         Volume  Fechamento  Abertura    Mínimo    Máximo  \\\n",
      "0  CSNA3  1993-08-02   72734.097525    0.001953  0.001653  0.001653  0.002073   \n",
      "1  CSNA3  1993-08-03  117133.756950    0.001915  0.002028  0.001863  0.002073   \n",
      "2  CSNA3  1993-08-04  159728.682180    0.001855  0.001915  0.001848  0.001931   \n",
      "3  CSNA3  1993-08-05   58275.573776    0.001863  0.001908  0.001803  0.001923   \n",
      "4  CSNA3  1993-08-06  101651.473790    0.001968  0.001878  0.001870  0.002006   \n",
      "\n",
      "      Médio  Variacao  \n",
      "0  0.001882         0  \n",
      "1  0.001915         0  \n",
      "2  0.001899         0  \n",
      "3  0.001847         0  \n",
      "4  0.001949         0  \n"
     ]
    },
    {
     "name": "stderr",
     "output_type": "stream",
     "text": [
      "/home/alex/.local/lib/python3.6/site-packages/pandas/core/indexing.py:670: SettingWithCopyWarning: \n",
      "A value is trying to be set on a copy of a slice from a DataFrame\n",
      "\n",
      "See the caveats in the documentation: https://pandas.pydata.org/pandas-docs/stable/user_guide/indexing.html#returning-a-view-versus-a-copy\n",
      "  self._setitem_with_indexer(indexer, value)\n",
      "/home/alex/.local/lib/python3.6/site-packages/pandas/core/indexing.py:670: SettingWithCopyWarning: \n",
      "A value is trying to be set on a copy of a slice from a DataFrame\n",
      "\n",
      "See the caveats in the documentation: https://pandas.pydata.org/pandas-docs/stable/user_guide/indexing.html#returning-a-view-versus-a-copy\n",
      "  self._setitem_with_indexer(indexer, value)\n"
     ]
    },
    {
     "name": "stdout",
     "output_type": "stream",
     "text": [
      "CSNA3.csv (6573, 9) (192508, 9)\n",
      "CTKA4.csv\n",
      "   Ativo        Data    Volume    Fechamento      Abertura        Mínimo  \\\n",
      "0  CTKA4  1986-01-07  0.000058  2.073239e-08  2.073239e-08  2.073239e-08   \n",
      "1  CTKA4  1986-01-08  0.000058  2.349984e-08  2.073516e-08  2.073516e-08   \n",
      "2  CTKA4  1986-01-09  0.000350  2.211750e-08  2.349984e-08  2.211750e-08   \n",
      "3  CTKA4  1986-01-13  0.000008  2.211750e-08  2.211750e-08  2.211750e-08   \n",
      "4  CTKA4  1986-01-14  0.000010  2.195162e-08  2.195162e-08  2.195162e-08   \n",
      "\n",
      "         Máximo         Médio  Variacao  \n",
      "0  2.073239e-08  2.073239e-08         0  \n",
      "1  2.349984e-08  2.223361e-08         0  \n",
      "2  2.349984e-08  2.211750e-08         0  \n",
      "3  2.211750e-08  2.211750e-08         0  \n",
      "4  2.195162e-08  2.195162e-08         0  \n"
     ]
    },
    {
     "name": "stderr",
     "output_type": "stream",
     "text": [
      "/home/alex/.local/lib/python3.6/site-packages/pandas/core/indexing.py:670: SettingWithCopyWarning: \n",
      "A value is trying to be set on a copy of a slice from a DataFrame\n",
      "\n",
      "See the caveats in the documentation: https://pandas.pydata.org/pandas-docs/stable/user_guide/indexing.html#returning-a-view-versus-a-copy\n",
      "  self._setitem_with_indexer(indexer, value)\n"
     ]
    },
    {
     "name": "stdout",
     "output_type": "stream",
     "text": [
      "CTKA4.csv (4236, 9) (199081, 9)\n",
      "CTNM4.csv\n",
      "   Ativo        Data      Volume  Fechamento  Abertura    Mínimo    Máximo  \\\n",
      "0  CTNM4  1992-05-18   27.272727    0.004382  0.004382  0.004382  0.004382   \n",
      "1  CTNM4  1992-05-19   35.273454    0.004674  0.004733  0.004674  0.004733   \n",
      "2  CTNM4  1992-05-20   83.241370    0.005258  0.004820  0.004820  0.005258   \n",
      "3  CTNM4  1992-05-21   68.181818    0.005550  0.005404  0.005404  0.005550   \n",
      "4  CTNM4  1992-05-22  553.584436    0.005404  0.005550  0.005404  0.005550   \n",
      "\n",
      "      Médio  Variacao  \n",
      "0  0.004382         0  \n",
      "1  0.004723         0  \n",
      "2  0.005104         0  \n",
      "3  0.005477         0  \n",
      "4  0.005521         0  \n"
     ]
    },
    {
     "name": "stderr",
     "output_type": "stream",
     "text": [
      "/home/alex/.local/lib/python3.6/site-packages/pandas/core/indexing.py:670: SettingWithCopyWarning: \n",
      "A value is trying to be set on a copy of a slice from a DataFrame\n",
      "\n",
      "See the caveats in the documentation: https://pandas.pydata.org/pandas-docs/stable/user_guide/indexing.html#returning-a-view-versus-a-copy\n",
      "  self._setitem_with_indexer(indexer, value)\n"
     ]
    },
    {
     "name": "stdout",
     "output_type": "stream",
     "text": [
      "CTNM4.csv (5986, 9) (203317, 9)\n",
      "CVCB3.csv\n",
      "   Ativo        Data      Volume  Fechamento   Abertura     Mínimo     Máximo  \\\n",
      "0  CVCB3  2013-12-06         0.0   13.926493  13.926493  13.926493  13.926493   \n",
      "1  CVCB3  2013-12-09  55323167.0   13.491290  13.508698  13.064791  13.578331   \n",
      "2  CVCB3  2013-12-10  12054638.0   13.839452  13.343321  13.343321  13.926493   \n",
      "3  CVCB3  2013-12-11  12271975.0   13.708891  13.874269  13.499994  13.917789   \n",
      "4  CVCB3  2013-12-12   8288591.0   13.491290  13.839452  13.412953  13.839452   \n",
      "\n",
      "       Médio  Variacao  \n",
      "0  13.926493         0  \n",
      "1  13.352025         0  \n",
      "2  13.804636         0  \n",
      "3  13.752412         0  \n",
      "4  13.621851         0  \n"
     ]
    },
    {
     "name": "stderr",
     "output_type": "stream",
     "text": [
      "/home/alex/.local/lib/python3.6/site-packages/pandas/core/indexing.py:670: SettingWithCopyWarning: \n",
      "A value is trying to be set on a copy of a slice from a DataFrame\n",
      "\n",
      "See the caveats in the documentation: https://pandas.pydata.org/pandas-docs/stable/user_guide/indexing.html#returning-a-view-versus-a-copy\n",
      "  self._setitem_with_indexer(indexer, value)\n"
     ]
    },
    {
     "name": "stdout",
     "output_type": "stream",
     "text": [
      "CVCB3.csv (1545, 9) (209303, 9)\n",
      "CYRE3.csv\n",
      "   Ativo        Data   Volume  Fechamento  Abertura    Mínimo    Máximo  \\\n",
      "0  CYRE3  2005-07-01  85000.0    2.589684  2.589684  2.589684  2.589684   \n",
      "1  CYRE3  2005-07-04   4000.0    2.437349  2.437349  2.437349  2.437349   \n",
      "2  CYRE3  2005-07-05   4000.0    2.437349  2.437349  2.437349  2.437349   \n",
      "3  CYRE3  2005-07-06  12000.0    2.437349  2.437349  2.437349  2.437349   \n",
      "4  CYRE3  2005-07-07  24040.0    2.559217  2.437349  2.437349  2.559217   \n",
      "\n",
      "      Médio  Variacao  \n",
      "0  2.589684         0  \n",
      "1  2.437349         0  \n",
      "2  2.437349         0  \n",
      "3  2.437349         0  \n",
      "4  2.440396         0  \n"
     ]
    },
    {
     "name": "stderr",
     "output_type": "stream",
     "text": [
      "/home/alex/.local/lib/python3.6/site-packages/pandas/core/indexing.py:670: SettingWithCopyWarning: \n",
      "A value is trying to be set on a copy of a slice from a DataFrame\n",
      "\n",
      "See the caveats in the documentation: https://pandas.pydata.org/pandas-docs/stable/user_guide/indexing.html#returning-a-view-versus-a-copy\n",
      "  self._setitem_with_indexer(indexer, value)\n"
     ]
    },
    {
     "name": "stdout",
     "output_type": "stream",
     "text": [
      "CYRE3.csv (3618, 9) (210848, 9)\n",
      "DIRR3.csv\n",
      "   Ativo        Data      Volume  Fechamento  Abertura    Mínimo    Máximo  \\\n",
      "0  DIRR3  2009-11-18         0.0    6.619153  6.619153  6.619153  6.619153   \n",
      "1  DIRR3  2009-11-19  29792721.0    6.745232  6.694800  6.682192  6.776751   \n",
      "2  DIRR3  2009-11-23   2900996.0    6.909134  6.757840  6.726320  6.928046   \n",
      "3  DIRR3  2009-11-24    847846.0    6.858703  6.934350  6.795663  7.009998   \n",
      "4  DIRR3  2009-11-25   2042904.0    6.902830  6.808271  6.808271  6.965870   \n",
      "\n",
      "      Médio  Variacao  \n",
      "0  6.619153         0  \n",
      "1  6.688496         0  \n",
      "2  6.795663         0  \n",
      "3  6.827183         0  \n",
      "4  6.915438         0  \n"
     ]
    },
    {
     "name": "stderr",
     "output_type": "stream",
     "text": [
      "/home/alex/.local/lib/python3.6/site-packages/pandas/core/indexing.py:670: SettingWithCopyWarning: \n",
      "A value is trying to be set on a copy of a slice from a DataFrame\n",
      "\n",
      "See the caveats in the documentation: https://pandas.pydata.org/pandas-docs/stable/user_guide/indexing.html#returning-a-view-versus-a-copy\n",
      "  self._setitem_with_indexer(indexer, value)\n"
     ]
    },
    {
     "name": "stdout",
     "output_type": "stream",
     "text": [
      "DIRR3.csv (2530, 9) (214466, 9)\n",
      "DMMO11.csv\n",
      "    Ativo        Data    Volume  Fechamento  Abertura  Mínimo  Máximo  Médio  \\\n",
      "0  DMMO11  2019-01-11  235385.0        0.34      0.34    0.31    0.51   0.36   \n",
      "1  DMMO11  2019-01-14  120941.0        0.32      0.36    0.30    0.38   0.34   \n",
      "2  DMMO11  2019-01-15   55849.0        0.30      0.32    0.25    0.32   0.28   \n",
      "3  DMMO11  2019-01-16  131972.0        0.26      0.29    0.24    0.29   0.26   \n",
      "4  DMMO11  2019-01-17  243193.0        0.20      0.26    0.20    0.29   0.23   \n",
      "\n",
      "   Variacao  \n",
      "0         0  \n",
      "1         0  \n",
      "2         0  \n",
      "3         0  \n",
      "4         0  \n",
      "DMMO11.csv (289, 9) (216996, 9)\n",
      "DMMO3.csv\n",
      "   Ativo        Data     Volume  Fechamento    Abertura      Mínimo  \\\n",
      "0  DMMO3  2015-03-31     8100.0   13.379544   13.379544   13.379544   \n",
      "1  DMMO3  2015-04-07    22423.0   99.355502   33.944398   33.944398   \n",
      "2  DMMO3  2015-04-08   419898.0  317.062154   99.355502   99.355502   \n",
      "3  DMMO3  2015-04-09  1071324.0  313.841153  330.359108  151.965190   \n",
      "4  DMMO3  2015-04-10   710821.0  309.711664  313.841153  256.028309   \n",
      "\n",
      "       Máximo       Médio  Variacao  \n",
      "0   13.379544   13.379544         0  \n",
      "1  107.366710   92.583140         0  \n",
      "2  495.538662  343.325703         0  \n",
      "3  442.928974  303.021892         0  \n",
      "4  412.948885  326.147030         0  \n"
     ]
    },
    {
     "name": "stderr",
     "output_type": "stream",
     "text": [
      "/home/alex/.local/lib/python3.6/site-packages/pandas/core/indexing.py:670: SettingWithCopyWarning: \n",
      "A value is trying to be set on a copy of a slice from a DataFrame\n",
      "\n",
      "See the caveats in the documentation: https://pandas.pydata.org/pandas-docs/stable/user_guide/indexing.html#returning-a-view-versus-a-copy\n",
      "  self._setitem_with_indexer(indexer, value)\n",
      "/home/alex/.local/lib/python3.6/site-packages/pandas/core/indexing.py:670: SettingWithCopyWarning: \n",
      "A value is trying to be set on a copy of a slice from a DataFrame\n",
      "\n",
      "See the caveats in the documentation: https://pandas.pydata.org/pandas-docs/stable/user_guide/indexing.html#returning-a-view-versus-a-copy\n",
      "  self._setitem_with_indexer(indexer, value)\n"
     ]
    },
    {
     "name": "stdout",
     "output_type": "stream",
     "text": [
      "DMMO3.csv (1136, 9) (217285, 9)\n",
      "EALT4.csv\n",
      "   Ativo        Data        Volume    Fechamento      Abertura        Mínimo  \\\n",
      "0  EALT4  1987-04-03  1.158690e-05  3.786294e-10  4.231741e-10  3.786294e-10   \n",
      "1  EALT4  1987-04-06  6.181818e-07  3.786294e-10  3.786294e-10  3.786294e-10   \n",
      "2  EALT4  1987-04-07  1.467491e-05  3.786294e-10  4.009017e-10  3.786294e-10   \n",
      "3  EALT4  1987-04-08  1.309091e-06  4.009017e-10  4.009017e-10  4.009017e-10   \n",
      "4  EALT4  1987-04-10  6.000000e-08  3.674933e-10  3.674933e-10  3.674933e-10   \n",
      "\n",
      "         Máximo         Médio  Variacao  \n",
      "0  4.231741e-10  4.075834e-10         0  \n",
      "1  3.786294e-10  3.786294e-10         0  \n",
      "2  4.231741e-10  3.942200e-10         0  \n",
      "3  4.009017e-10  4.009017e-10         0  \n",
      "4  3.674933e-10  3.674933e-10         0  \n"
     ]
    },
    {
     "name": "stderr",
     "output_type": "stream",
     "text": [
      "/home/alex/.local/lib/python3.6/site-packages/pandas/core/indexing.py:670: SettingWithCopyWarning: \n",
      "A value is trying to be set on a copy of a slice from a DataFrame\n",
      "\n",
      "See the caveats in the documentation: https://pandas.pydata.org/pandas-docs/stable/user_guide/indexing.html#returning-a-view-versus-a-copy\n",
      "  self._setitem_with_indexer(indexer, value)\n"
     ]
    },
    {
     "name": "stdout",
     "output_type": "stream",
     "text": [
      "EALT4.csv (3662, 9) (218421, 9)\n",
      "EGIE3.csv\n",
      "   Ativo        Data     Volume  Fechamento  Abertura    Mínimo    Máximo  \\\n",
      "0  EGIE3  1998-06-01   187227.0    0.451295  0.515766  0.440550  0.558746   \n",
      "1  EGIE3  1998-06-02   208835.0    0.419060  0.451295  0.386824  0.451295   \n",
      "2  EGIE3  1998-06-03   140600.0    0.376079  0.419060  0.376079  0.419060   \n",
      "3  EGIE3  1998-06-04   164016.0    0.354589  0.367483  0.354589  0.376079   \n",
      "4  EGIE3  1998-06-05  1900106.0    0.384675  0.365334  0.365334  0.401868   \n",
      "\n",
      "      Médio  Variacao  \n",
      "0  0.526511         0  \n",
      "1  0.406166         0  \n",
      "2  0.395421         0  \n",
      "3  0.363185         0  \n",
      "4  0.373930         0  \n"
     ]
    },
    {
     "name": "stderr",
     "output_type": "stream",
     "text": [
      "/home/alex/.local/lib/python3.6/site-packages/pandas/core/indexing.py:670: SettingWithCopyWarning: \n",
      "A value is trying to be set on a copy of a slice from a DataFrame\n",
      "\n",
      "See the caveats in the documentation: https://pandas.pydata.org/pandas-docs/stable/user_guide/indexing.html#returning-a-view-versus-a-copy\n",
      "  self._setitem_with_indexer(indexer, value)\n"
     ]
    },
    {
     "name": "stdout",
     "output_type": "stream",
     "text": [
      "EGIE3.csv (5389, 9) (222083, 9)\n",
      "ENEV3.csv\n",
      "   Ativo        Data       Volume  Fechamento    Abertura      Mínimo  \\\n",
      "0  ENEV3  2007-12-13          0.0  665.098451  665.098451  665.098451   \n",
      "1  ENEV3  2007-12-14  190996520.0  665.342917  665.091844  660.717891   \n",
      "2  ENEV3  2007-12-17   95904501.0  640.896355  665.342917  640.896355   \n",
      "3  ENEV3  2007-12-18    4270225.0  647.298711  664.014874  634.289176   \n",
      "4  ENEV3  2007-12-19    4030199.0  647.503534  647.503534  646.182098   \n",
      "\n",
      "       Máximo       Médio  Variacao  \n",
      "0  665.098451  665.098451         0  \n",
      "1  673.932249  664.880414         0  \n",
      "2  666.003635  643.962086         0  \n",
      "3  664.014874  641.233321         0  \n",
      "4  660.717891  649.472473         0  \n"
     ]
    },
    {
     "name": "stderr",
     "output_type": "stream",
     "text": [
      "/home/alex/.local/lib/python3.6/site-packages/pandas/core/indexing.py:670: SettingWithCopyWarning: \n",
      "A value is trying to be set on a copy of a slice from a DataFrame\n",
      "\n",
      "See the caveats in the documentation: https://pandas.pydata.org/pandas-docs/stable/user_guide/indexing.html#returning-a-view-versus-a-copy\n",
      "  self._setitem_with_indexer(indexer, value)\n"
     ]
    },
    {
     "name": "stdout",
     "output_type": "stream",
     "text": [
      "ENEV3.csv (3022, 9) (227472, 9)\n",
      "ESTR4.csv\n",
      "   Ativo        Data    Volume  Fechamento  Abertura    Mínimo    Máximo  \\\n",
      "0  ESTR4  1986-01-02  0.000296    0.000003  0.000003  0.000003  0.000003   \n",
      "1  ESTR4  1986-01-03  0.000460    0.000003  0.000003  0.000003  0.000003   \n",
      "2  ESTR4  1986-01-06  0.001027    0.000004  0.000003  0.000003  0.000004   \n",
      "3  ESTR4  1986-01-07  0.001005    0.000004  0.000004  0.000004  0.000004   \n",
      "4  ESTR4  1986-01-08  0.000292    0.000004  0.000004  0.000004  0.000004   \n",
      "\n",
      "      Médio  Variacao  \n",
      "0  0.000003         0  \n",
      "1  0.000003         0  \n",
      "2  0.000004         0  \n",
      "3  0.000004         0  \n",
      "4  0.000004         0  \n"
     ]
    },
    {
     "name": "stderr",
     "output_type": "stream",
     "text": [
      "/home/alex/.local/lib/python3.6/site-packages/pandas/core/indexing.py:670: SettingWithCopyWarning: \n",
      "A value is trying to be set on a copy of a slice from a DataFrame\n",
      "\n",
      "See the caveats in the documentation: https://pandas.pydata.org/pandas-docs/stable/user_guide/indexing.html#returning-a-view-versus-a-copy\n",
      "  self._setitem_with_indexer(indexer, value)\n"
     ]
    },
    {
     "name": "stdout",
     "output_type": "stream",
     "text": [
      "ESTR4.csv (6851, 9) (230494, 9)\n",
      "ETER3.csv\n",
      "   Ativo        Data    Volume    Fechamento      Abertura        Mínimo  \\\n",
      "0  ETER3  1987-01-09  0.000495  3.577153e-10  3.577153e-10  3.577153e-10   \n",
      "1  ETER3  1987-02-02  0.000495  3.577153e-10  3.577153e-10  3.577153e-10   \n",
      "2  ETER3  1987-02-23  0.000495  3.577153e-10  3.577153e-10  3.577153e-10   \n",
      "3  ETER3  1987-03-06  0.000035  3.997994e-10  3.997994e-10  3.997994e-10   \n",
      "4  ETER3  1987-04-07  0.000127  3.241617e-10  3.241617e-10  3.241617e-10   \n",
      "\n",
      "         Máximo         Médio  Variacao  \n",
      "0  3.577153e-10  3.577153e-10         0  \n",
      "1  3.577153e-10  3.577153e-10         0  \n",
      "2  3.577153e-10  3.577153e-10         0  \n",
      "3  3.997994e-10  3.997994e-10         0  \n",
      "4  3.241617e-10  3.241617e-10         0  \n"
     ]
    },
    {
     "name": "stderr",
     "output_type": "stream",
     "text": [
      "/home/alex/.local/lib/python3.6/site-packages/pandas/core/indexing.py:670: SettingWithCopyWarning: \n",
      "A value is trying to be set on a copy of a slice from a DataFrame\n",
      "\n",
      "See the caveats in the documentation: https://pandas.pydata.org/pandas-docs/stable/user_guide/indexing.html#returning-a-view-versus-a-copy\n",
      "  self._setitem_with_indexer(indexer, value)\n"
     ]
    },
    {
     "name": "stdout",
     "output_type": "stream",
     "text": [
      "ETER3.csv (6866, 9) (237345, 9)\n",
      "EUCA4.csv\n",
      "   Ativo        Data        Volume    Fechamento      Abertura        Mínimo  \\\n",
      "0  EUCA4  1986-01-06  9.818182e-07  3.519726e-10  3.519726e-10  3.519726e-10   \n",
      "1  EUCA4  1986-01-08  6.872727e-06  3.519726e-09  3.519726e-09  3.519726e-09   \n",
      "2  EUCA4  1986-01-13  1.812911e-05  4.041167e-09  3.910807e-09  3.910807e-09   \n",
      "3  EUCA4  1986-01-14  7.675346e-05  4.054203e-09  4.041167e-09  4.041167e-09   \n",
      "4  EUCA4  1986-01-15  2.057705e-05  4.171527e-09  4.170223e-09  3.910807e-09   \n",
      "\n",
      "         Máximo         Médio  Variacao  \n",
      "0  3.519726e-10  3.519726e-10         0  \n",
      "1  3.519726e-09  3.519726e-09         0  \n",
      "2  4.041167e-09  4.024220e-09         0  \n",
      "3  4.054203e-09  4.046381e-09         0  \n",
      "4  4.171527e-09  4.167616e-09         0  \n"
     ]
    },
    {
     "name": "stderr",
     "output_type": "stream",
     "text": [
      "/home/alex/.local/lib/python3.6/site-packages/pandas/core/indexing.py:670: SettingWithCopyWarning: \n",
      "A value is trying to be set on a copy of a slice from a DataFrame\n",
      "\n",
      "See the caveats in the documentation: https://pandas.pydata.org/pandas-docs/stable/user_guide/indexing.html#returning-a-view-versus-a-copy\n",
      "  self._setitem_with_indexer(indexer, value)\n"
     ]
    },
    {
     "name": "stdout",
     "output_type": "stream",
     "text": [
      "EUCA4.csv (5078, 9) (244211, 9)\n",
      "EVEN3.csv\n",
      "   Ativo        Data      Volume  Fechamento  Abertura    Mínimo    Máximo  \\\n",
      "0  EVEN3  2007-03-30         0.0    8.632247  8.632247  8.632247  8.632247   \n",
      "1  EVEN3  2007-04-02  45180584.0    8.331995  7.874110  7.618896  8.482121   \n",
      "2  EVEN3  2007-04-03  11532520.0    8.782373  8.444589  8.256932  8.917486   \n",
      "3  EVEN3  2007-04-04   3081937.0    8.857436  8.632247  8.497133  8.857436   \n",
      "4  EVEN3  2007-04-05   2685202.0    8.632247  8.654766  8.504640  8.737335   \n",
      "\n",
      "      Médio  Variacao  \n",
      "0  8.632247         0  \n",
      "1  7.986705         0  \n",
      "2  8.594715         0  \n",
      "3  8.774867         0  \n",
      "4  8.639753         0  \n"
     ]
    },
    {
     "name": "stderr",
     "output_type": "stream",
     "text": [
      "/home/alex/.local/lib/python3.6/site-packages/pandas/core/indexing.py:670: SettingWithCopyWarning: \n",
      "A value is trying to be set on a copy of a slice from a DataFrame\n",
      "\n",
      "See the caveats in the documentation: https://pandas.pydata.org/pandas-docs/stable/user_guide/indexing.html#returning-a-view-versus-a-copy\n",
      "  self._setitem_with_indexer(indexer, value)\n"
     ]
    },
    {
     "name": "stdout",
     "output_type": "stream",
     "text": [
      "EVEN3.csv (3200, 9) (249289, 9)\n",
      "EZTC3.csv\n",
      "   Ativo        Data       Volume  Fechamento  Abertura    Mínimo    Máximo  \\\n",
      "0  EZTC3  2007-06-21          0.0    4.793687  4.793687  4.793687  4.793687   \n",
      "1  EZTC3  2007-06-22  120273747.0    4.575792  4.880845  4.379687  4.889561   \n",
      "2  EZTC3  2007-06-25   10339506.0    4.619371  4.575792  4.488634  4.662950   \n",
      "3  EZTC3  2007-06-26    9938524.0    4.728318  4.658592  4.584508  4.728318   \n",
      "4  EZTC3  2007-06-27    5886122.0    4.750108  4.767539  4.575792  4.767539   \n",
      "\n",
      "      Médio  Variacao  \n",
      "0  4.793687         0  \n",
      "1  4.745750         0  \n",
      "2  4.575792         0  \n",
      "3  4.693455         0  \n",
      "4  4.689097         0  \n"
     ]
    },
    {
     "name": "stderr",
     "output_type": "stream",
     "text": [
      "/home/alex/.local/lib/python3.6/site-packages/pandas/core/indexing.py:670: SettingWithCopyWarning: \n",
      "A value is trying to be set on a copy of a slice from a DataFrame\n",
      "\n",
      "See the caveats in the documentation: https://pandas.pydata.org/pandas-docs/stable/user_guide/indexing.html#returning-a-view-versus-a-copy\n",
      "  self._setitem_with_indexer(indexer, value)\n"
     ]
    },
    {
     "name": "stdout",
     "output_type": "stream",
     "text": [
      "EZTC3.csv (3144, 9) (252489, 9)\n",
      "FESA4.csv\n",
      "   Ativo        Data    Volume    Fechamento      Abertura        Mínimo  \\\n",
      "0  FESA4  1986-01-02  0.000120  8.110782e-10  7.603858e-10  7.603858e-10   \n",
      "1  FESA4  1986-01-03  0.000485  8.871168e-10  8.110782e-10  8.110782e-10   \n",
      "2  FESA4  1986-01-06  0.000149  9.378092e-10  9.124629e-10  9.124629e-10   \n",
      "3  FESA4  1986-01-07  0.000406  9.127164e-10  9.378092e-10  8.871168e-10   \n",
      "4  FESA4  1986-01-08  0.000212  8.871168e-10  9.124629e-10  8.744437e-10   \n",
      "\n",
      "         Máximo         Médio  Variacao  \n",
      "0  8.110782e-10  7.844647e-10         0  \n",
      "1  8.871168e-10  8.853426e-10         0  \n",
      "2  9.631553e-10  9.238688e-10         0  \n",
      "3  9.378092e-10  9.205738e-10         0  \n",
      "4  9.124629e-10  8.893979e-10         0  \n"
     ]
    },
    {
     "name": "stderr",
     "output_type": "stream",
     "text": [
      "/home/alex/.local/lib/python3.6/site-packages/pandas/core/indexing.py:670: SettingWithCopyWarning: \n",
      "A value is trying to be set on a copy of a slice from a DataFrame\n",
      "\n",
      "See the caveats in the documentation: https://pandas.pydata.org/pandas-docs/stable/user_guide/indexing.html#returning-a-view-versus-a-copy\n",
      "  self._setitem_with_indexer(indexer, value)\n"
     ]
    },
    {
     "name": "stdout",
     "output_type": "stream",
     "text": [
      "FESA4.csv (7207, 9) (255633, 9)\n",
      "FLRY3.csv\n",
      "   Ativo        Data       Volume  Fechamento  Abertura    Mínimo    Máximo  \\\n",
      "0  FLRY3  2009-12-16          0.0    5.672239  5.672239  5.672239  5.672239   \n",
      "1  FLRY3  2009-12-17  163257664.0    6.469898  6.026754  5.959397  6.469898   \n",
      "2  FLRY3  2009-12-18   22820466.0    6.257189  6.537256  6.257189  6.540801   \n",
      "3  FLRY3  2009-12-21   19478805.0    6.097657  6.271370  6.001938  6.271370   \n",
      "4  FLRY3  2009-12-22    9798615.0    6.133109  6.165015  6.048025  6.175651   \n",
      "\n",
      "      Médio  Variacao  \n",
      "0  5.672239         0  \n",
      "1  6.143744         0  \n",
      "2  6.384815         0  \n",
      "3  6.076386         0  \n",
      "4  6.115383         0  \n"
     ]
    },
    {
     "name": "stderr",
     "output_type": "stream",
     "text": [
      "/home/alex/.local/lib/python3.6/site-packages/pandas/core/indexing.py:670: SettingWithCopyWarning: \n",
      "A value is trying to be set on a copy of a slice from a DataFrame\n",
      "\n",
      "See the caveats in the documentation: https://pandas.pydata.org/pandas-docs/stable/user_guide/indexing.html#returning-a-view-versus-a-copy\n",
      "  self._setitem_with_indexer(indexer, value)\n"
     ]
    },
    {
     "name": "stdout",
     "output_type": "stream",
     "text": [
      "FLRY3.csv (2529, 9) (262840, 9)\n",
      "FRAS3.csv\n",
      "   Ativo        Data      Volume  Fechamento  Abertura    Mínimo    Máximo  \\\n",
      "0  FRAS3  1993-07-19   69.236364    0.005801  0.005801  0.005801  0.005801   \n",
      "1  FRAS3  1993-07-20  139.194182    0.005796  0.005849  0.005796  0.005849   \n",
      "2  FRAS3  1993-07-21    4.363636    0.005849  0.005849  0.005849  0.005849   \n",
      "3  FRAS3  1993-07-26   23.636364    0.006337  0.006337  0.006337  0.006337   \n",
      "4  FRAS3  1993-07-27   23.490909    0.006288  0.006337  0.006288  0.006337   \n",
      "\n",
      "      Médio  Variacao  \n",
      "0  0.005801         0  \n",
      "1  0.005831         0  \n",
      "2  0.005849         0  \n",
      "3  0.006337         0  \n",
      "4  0.006298         0  \n"
     ]
    },
    {
     "name": "stderr",
     "output_type": "stream",
     "text": [
      "/home/alex/.local/lib/python3.6/site-packages/pandas/core/indexing.py:670: SettingWithCopyWarning: \n",
      "A value is trying to be set on a copy of a slice from a DataFrame\n",
      "\n",
      "See the caveats in the documentation: https://pandas.pydata.org/pandas-docs/stable/user_guide/indexing.html#returning-a-view-versus-a-copy\n",
      "  self._setitem_with_indexer(indexer, value)\n"
     ]
    },
    {
     "name": "stdout",
     "output_type": "stream",
     "text": [
      "FRAS3.csv (1705, 9) (265369, 9)\n",
      "GBIO33.csv\n",
      "    Ativo        Data       Volume  Fechamento  Abertura  Mínimo  Máximo  \\\n",
      "0  GBIO33  2017-07-25  256766346.0       27.27     27.90   27.05   27.95   \n",
      "1  GBIO33  2017-07-26   37786689.0       27.70     27.50   27.26   27.80   \n",
      "2  GBIO33  2017-07-27   22058034.0       27.75     27.75   27.34   27.85   \n",
      "3  GBIO33  2017-07-28   14258179.0       27.21     27.69   27.16   27.69   \n",
      "4  GBIO33  2017-07-31   39246563.0       27.25     27.35   27.12   27.39   \n",
      "\n",
      "   Médio  Variacao  \n",
      "0  27.61         0  \n",
      "1  27.61         0  \n",
      "2  27.65         0  \n",
      "3  27.32         0  \n",
      "4  27.28         0  \n",
      "GBIO33.csv (648, 9) (267074, 9)\n",
      "GFSA3.csv\n",
      "   Ativo        Data       Volume  Fechamento   Abertura     Mínimo  \\\n",
      "0  GFSA3  2006-02-16          0.0   58.293021  58.293021  58.293021   \n",
      "1  GFSA3  2006-02-17  262058202.0   75.465830  69.006333  64.594969   \n",
      "2  GFSA3  2006-02-20   50096576.0   72.472404  75.465830  70.896917   \n",
      "3  GFSA3  2006-02-21   64575923.0   77.545473  72.566933  72.566933   \n",
      "4  GFSA3  2006-02-22   52678586.0   80.980034  78.553784  74.867145   \n",
      "\n",
      "      Máximo      Médio  Variacao  \n",
      "0  58.293021  58.293021         0  \n",
      "1  75.938476  69.541998         0  \n",
      "2  75.938476  73.795813         0  \n",
      "3  78.459255  76.442632         0  \n",
      "4  81.641739  78.711333         0  \n"
     ]
    },
    {
     "name": "stderr",
     "output_type": "stream",
     "text": [
      "/home/alex/.local/lib/python3.6/site-packages/pandas/core/indexing.py:670: SettingWithCopyWarning: \n",
      "A value is trying to be set on a copy of a slice from a DataFrame\n",
      "\n",
      "See the caveats in the documentation: https://pandas.pydata.org/pandas-docs/stable/user_guide/indexing.html#returning-a-view-versus-a-copy\n",
      "  self._setitem_with_indexer(indexer, value)\n",
      "/home/alex/.local/lib/python3.6/site-packages/pandas/core/indexing.py:670: SettingWithCopyWarning: \n",
      "A value is trying to be set on a copy of a slice from a DataFrame\n",
      "\n",
      "See the caveats in the documentation: https://pandas.pydata.org/pandas-docs/stable/user_guide/indexing.html#returning-a-view-versus-a-copy\n",
      "  self._setitem_with_indexer(indexer, value)\n"
     ]
    },
    {
     "name": "stdout",
     "output_type": "stream",
     "text": [
      "GFSA3.csv (3474, 9) (267722, 9)\n",
      "GOAU4.csv\n",
      "   Ativo        Data    Volume    Fechamento      Abertura        Mínimo  \\\n",
      "0  GOAU4  1986-07-14  0.000005  6.694545e-10  6.694545e-10  6.694545e-10   \n",
      "1  GOAU4  1986-07-15  0.000009  7.230109e-10  7.230109e-10  7.230109e-10   \n",
      "2  GOAU4  1986-07-16  0.000006  7.587151e-10  7.587151e-10  7.587151e-10   \n",
      "3  GOAU4  1986-07-17  0.000007  8.488683e-10  8.488683e-10  8.488683e-10   \n",
      "4  GOAU4  1986-07-18  0.000002  9.193842e-10  9.193842e-10  9.193842e-10   \n",
      "\n",
      "         Máximo         Médio  Variacao  \n",
      "0  6.694545e-10  6.694545e-10         0  \n",
      "1  7.230109e-10  7.230109e-10         0  \n",
      "2  7.587151e-10  7.587151e-10         0  \n",
      "3  8.488683e-10  8.488683e-10         0  \n",
      "4  9.193842e-10  9.193842e-10         0  \n"
     ]
    },
    {
     "name": "stderr",
     "output_type": "stream",
     "text": [
      "/home/alex/.local/lib/python3.6/site-packages/pandas/core/indexing.py:670: SettingWithCopyWarning: \n",
      "A value is trying to be set on a copy of a slice from a DataFrame\n",
      "\n",
      "See the caveats in the documentation: https://pandas.pydata.org/pandas-docs/stable/user_guide/indexing.html#returning-a-view-versus-a-copy\n",
      "  self._setitem_with_indexer(indexer, value)\n"
     ]
    },
    {
     "name": "stdout",
     "output_type": "stream",
     "text": [
      "GOAU4.csv (7729, 9) (271196, 9)\n",
      "GOLL4.csv\n",
      "   Ativo        Data      Volume  Fechamento   Abertura     Mínimo     Máximo  \\\n",
      "0  GOLL4  2004-06-23         0.0   23.878052  23.878052  23.878052  23.878052   \n",
      "1  GOLL4  2004-06-24  64969733.0   25.163171  25.612513  25.163171  26.061855   \n",
      "2  GOLL4  2004-06-25  25536723.0   25.163171  25.693395  24.264486  25.693395   \n",
      "3  GOLL4  2004-06-28  16229021.0   23.967920  25.163171  23.365801  25.163171   \n",
      "4  GOLL4  2004-06-29  14452617.0   23.815144  24.084749  23.725275  24.174617   \n",
      "\n",
      "       Médio  Variacao  \n",
      "0  23.878052         0  \n",
      "1  25.648460         0  \n",
      "2  25.064315         0  \n",
      "3  24.156644         0  \n",
      "4  23.824130         0  \n"
     ]
    },
    {
     "name": "stderr",
     "output_type": "stream",
     "text": [
      "/home/alex/.local/lib/python3.6/site-packages/pandas/core/indexing.py:670: SettingWithCopyWarning: \n",
      "A value is trying to be set on a copy of a slice from a DataFrame\n",
      "\n",
      "See the caveats in the documentation: https://pandas.pydata.org/pandas-docs/stable/user_guide/indexing.html#returning-a-view-versus-a-copy\n",
      "  self._setitem_with_indexer(indexer, value)\n"
     ]
    },
    {
     "name": "stdout",
     "output_type": "stream",
     "text": [
      "GOLL4.csv (3886, 9) (278925, 9)\n",
      "GRND3.csv\n",
      "   Ativo        Data      Volume  Fechamento  Abertura    Mínimo    Máximo  \\\n",
      "0  GRND3  2004-10-28         0.0    1.507956  1.507956  1.507956  1.507956   \n",
      "1  GRND3  2004-10-29  84866530.0    1.690370  1.673831  1.653887  1.692802   \n",
      "2  GRND3  2004-11-01  11030877.0    1.702531  1.706423  1.683560  1.726853   \n",
      "3  GRND3  2004-11-03  21963127.0    1.690370  1.722475  1.675777  1.748743   \n",
      "4  GRND3  2004-11-04  17626236.0    1.724421  1.700099  1.687938  1.726853   \n",
      "\n",
      "      Médio  Variacao  \n",
      "0  1.507956         0  \n",
      "1  1.670913         0  \n",
      "2  1.706909         0  \n",
      "3  1.699126         0  \n",
      "4  1.704963         0  \n"
     ]
    },
    {
     "name": "stderr",
     "output_type": "stream",
     "text": [
      "/home/alex/.local/lib/python3.6/site-packages/pandas/core/indexing.py:670: SettingWithCopyWarning: \n",
      "A value is trying to be set on a copy of a slice from a DataFrame\n",
      "\n",
      "See the caveats in the documentation: https://pandas.pydata.org/pandas-docs/stable/user_guide/indexing.html#returning-a-view-versus-a-copy\n",
      "  self._setitem_with_indexer(indexer, value)\n"
     ]
    },
    {
     "name": "stdout",
     "output_type": "stream",
     "text": [
      "GRND3.csv (3798, 9) (282811, 9)\n",
      "GSHP3.csv\n",
      "   Ativo        Data      Volume  Fechamento  Abertura    Mínimo    Máximo  \\\n",
      "0  GSHP3  2007-07-27         0.0    0.703916  0.703916  0.703916  0.703916   \n",
      "1  GSHP3  2007-07-30  45289622.0    0.703916  0.703916  0.703916  0.714475   \n",
      "2  GSHP3  2007-07-31   8888369.0    0.703916  0.699894  0.696374  0.706933   \n",
      "3  GSHP3  2007-08-01    506821.0    0.701905  0.693860  0.693860  0.701905   \n",
      "4  GSHP3  2007-08-02    612863.0    0.703916  0.703916  0.693860  0.703916   \n",
      "\n",
      "      Médio  Variacao  \n",
      "0  0.703916         0  \n",
      "1  0.705424         0  \n",
      "2  0.701402         0  \n",
      "3  0.696374         0  \n",
      "4  0.700397         0  \n"
     ]
    },
    {
     "name": "stderr",
     "output_type": "stream",
     "text": [
      "/home/alex/.local/lib/python3.6/site-packages/pandas/core/indexing.py:670: SettingWithCopyWarning: \n",
      "A value is trying to be set on a copy of a slice from a DataFrame\n",
      "\n",
      "See the caveats in the documentation: https://pandas.pydata.org/pandas-docs/stable/user_guide/indexing.html#returning-a-view-versus-a-copy\n",
      "  self._setitem_with_indexer(indexer, value)\n"
     ]
    },
    {
     "name": "stdout",
     "output_type": "stream",
     "text": [
      "GSHP3.csv (3056, 9) (286609, 9)\n",
      "HBOR3.csv\n",
      "   Ativo        Data      Volume  Fechamento  Abertura    Mínimo    Máximo  \\\n",
      "0  HBOR3  2007-10-26         0.0    1.687896  1.687896  1.687896  1.687896   \n",
      "1  HBOR3  2007-10-29  17385010.0    1.687896  1.687896  1.657207  1.726257   \n",
      "2  HBOR3  2007-10-30   2656886.0    1.686362  1.664879  1.664879  1.687896   \n",
      "3  HBOR3  2007-10-31   2719968.0    1.672552  1.687896  1.657207  1.687896   \n",
      "4  HBOR3  2007-11-01   1675583.0    1.680224  1.672552  1.672552  1.687896   \n",
      "\n",
      "      Médio  Variacao  \n",
      "0  1.687896         0  \n",
      "1  1.689430         0  \n",
      "2  1.675620         0  \n",
      "3  1.667948         0  \n",
      "4  1.681758         0  \n"
     ]
    },
    {
     "name": "stderr",
     "output_type": "stream",
     "text": [
      "/home/alex/.local/lib/python3.6/site-packages/pandas/core/indexing.py:670: SettingWithCopyWarning: \n",
      "A value is trying to be set on a copy of a slice from a DataFrame\n",
      "\n",
      "See the caveats in the documentation: https://pandas.pydata.org/pandas-docs/stable/user_guide/indexing.html#returning-a-view-versus-a-copy\n",
      "  self._setitem_with_indexer(indexer, value)\n"
     ]
    },
    {
     "name": "stdout",
     "output_type": "stream",
     "text": [
      "HBOR3.csv (3051, 9) (289665, 9)\n",
      "HGTX3.csv\n",
      "   Ativo        Data  Volume  Fechamento  Abertura    Mínimo    Máximo  \\\n",
      "0  HGTX3  1999-10-19   260.0    1.349273  1.349273  1.349273  1.349273   \n",
      "1  HGTX3  1999-12-01    64.0    1.328515  1.328515  1.328515  1.328515   \n",
      "2  HGTX3  2000-01-18   640.0    1.328515  1.328515  1.328515  1.328515   \n",
      "3  HGTX3  2000-01-31  5460.0    1.349273  1.349273  1.349273  1.349273   \n",
      "4  HGTX3  2000-02-28  4140.0    1.245483  1.245483  1.245483  1.245483   \n",
      "\n",
      "      Médio  Variacao  \n",
      "0  1.349273         0  \n",
      "1  1.328515         0  \n",
      "2  1.328515         0  \n",
      "3  1.349273         0  \n",
      "4  1.245483         0  \n"
     ]
    },
    {
     "name": "stderr",
     "output_type": "stream",
     "text": [
      "/home/alex/.local/lib/python3.6/site-packages/pandas/core/indexing.py:670: SettingWithCopyWarning: \n",
      "A value is trying to be set on a copy of a slice from a DataFrame\n",
      "\n",
      "See the caveats in the documentation: https://pandas.pydata.org/pandas-docs/stable/user_guide/indexing.html#returning-a-view-versus-a-copy\n",
      "  self._setitem_with_indexer(indexer, value)\n"
     ]
    },
    {
     "name": "stdout",
     "output_type": "stream",
     "text": [
      "HGTX3.csv (3617, 9) (292716, 9)\n",
      "HOOT4.csv\n",
      "   Ativo        Data    Volume  Fechamento  Abertura    Mínimo    Máximo  \\\n",
      "0  HOOT4  1993-07-02  0.363636    0.003636  0.003636  0.003636  0.003636   \n",
      "1  HOOT4  1993-07-08  0.727273    0.007273  0.007273  0.007273  0.007273   \n",
      "2  HOOT4  1993-07-14  3.636364    0.003636  0.003636  0.003636  0.003636   \n",
      "3  HOOT4  1993-11-16  5.454545    0.010909  0.010909  0.010909  0.010909   \n",
      "4  HOOT4  1993-12-10  6.181818    0.012364  0.012364  0.012364  0.012364   \n",
      "\n",
      "      Médio  Variacao  \n",
      "0  0.003636         0  \n",
      "1  0.007273         0  \n",
      "2  0.003636         0  \n",
      "3  0.010909         0  \n",
      "4  0.012364         0  \n"
     ]
    },
    {
     "name": "stderr",
     "output_type": "stream",
     "text": [
      "/home/alex/.local/lib/python3.6/site-packages/pandas/core/indexing.py:670: SettingWithCopyWarning: \n",
      "A value is trying to be set on a copy of a slice from a DataFrame\n",
      "\n",
      "See the caveats in the documentation: https://pandas.pydata.org/pandas-docs/stable/user_guide/indexing.html#returning-a-view-versus-a-copy\n",
      "  self._setitem_with_indexer(indexer, value)\n"
     ]
    },
    {
     "name": "stdout",
     "output_type": "stream",
     "text": [
      "HOOT4.csv (3101, 9) (296333, 9)\n",
      "HYPE3.csv\n",
      "   Ativo        Data      Volume  Fechamento  Abertura    Mínimo    Máximo  \\\n",
      "0  HYPE3  2008-04-17         0.0    6.994756  6.994756  6.994756  6.994756   \n",
      "1  HYPE3  2008-04-18  81819298.0    6.871319  6.933037  6.521581  6.974183   \n",
      "2  HYPE3  2008-04-22  53325559.0    6.706736  6.789027  6.628560  7.015328   \n",
      "3  HYPE3  2008-04-23  20900024.0    6.377571  6.665591  6.377571  6.706736   \n",
      "4  HYPE3  2008-04-24  14946721.0    6.377571  6.287051  6.171843  6.562727   \n",
      "\n",
      "      Médio  Variacao  \n",
      "0  6.994756         0  \n",
      "1  6.772569         0  \n",
      "2  6.764340         0  \n",
      "3  6.476321         0  \n",
      "4  6.369342         0  \n"
     ]
    },
    {
     "name": "stderr",
     "output_type": "stream",
     "text": [
      "/home/alex/.local/lib/python3.6/site-packages/pandas/core/indexing.py:670: SettingWithCopyWarning: \n",
      "A value is trying to be set on a copy of a slice from a DataFrame\n",
      "\n",
      "See the caveats in the documentation: https://pandas.pydata.org/pandas-docs/stable/user_guide/indexing.html#returning-a-view-versus-a-copy\n",
      "  self._setitem_with_indexer(indexer, value)\n"
     ]
    },
    {
     "name": "stdout",
     "output_type": "stream",
     "text": [
      "HYPE3.csv (2943, 9) (299434, 9)\n",
      "IGBR3.csv\n",
      "   Ativo        Data  Volume  Fechamento  Abertura    Mínimo    Máximo  \\\n",
      "0  IGBR3  1999-12-28  9000.0    5.415887  5.415887  5.415887  5.415887   \n",
      "1  IGBR3  2000-01-04   900.0    5.415887  5.415887  5.415887  5.415887   \n",
      "2  IGBR3  2000-01-05   900.0    5.415887  5.415887  5.415887  5.415887   \n",
      "3  IGBR3  2000-01-07   900.0    5.415887  5.415887  5.415887  5.415887   \n",
      "4  IGBR3  2000-01-18  5820.0    5.837123  5.837123  5.837123  5.837123   \n",
      "\n",
      "      Médio  Variacao  \n",
      "0  5.415887         0  \n",
      "1  5.415887         0  \n",
      "2  5.415887         0  \n",
      "3  5.415887         0  \n",
      "4  5.837123         0  \n"
     ]
    },
    {
     "name": "stderr",
     "output_type": "stream",
     "text": [
      "/home/alex/.local/lib/python3.6/site-packages/pandas/core/indexing.py:670: SettingWithCopyWarning: \n",
      "A value is trying to be set on a copy of a slice from a DataFrame\n",
      "\n",
      "See the caveats in the documentation: https://pandas.pydata.org/pandas-docs/stable/user_guide/indexing.html#returning-a-view-versus-a-copy\n",
      "  self._setitem_with_indexer(indexer, value)\n"
     ]
    },
    {
     "name": "stdout",
     "output_type": "stream",
     "text": [
      "IGBR3.csv (3298, 9) (302377, 9)\n",
      "IGTA3.csv\n",
      "   Ativo        Data       Volume  Fechamento   Abertura     Mínimo  \\\n",
      "0  IGTA3  2007-02-06          0.0   11.269156  11.269156  11.269156   \n",
      "1  IGTA3  2007-02-07  250340192.0   12.621455  12.602673  12.396072   \n",
      "2  IGTA3  2007-02-08   32600514.0   12.433635  12.621455  12.396072   \n",
      "3  IGTA3  2007-02-09   24019440.0   12.396072  12.444905  12.396072   \n",
      "4  IGTA3  2007-02-12   19073085.0   12.403584  12.437392  12.396072   \n",
      "\n",
      "      Máximo      Médio  Variacao  \n",
      "0  11.269156  11.269156         0  \n",
      "1  12.959529  12.655262         0  \n",
      "2  12.621455  12.418610         0  \n",
      "3  12.471199  12.411097         0  \n",
      "4  12.437392  12.411097         0  \n"
     ]
    },
    {
     "name": "stderr",
     "output_type": "stream",
     "text": [
      "/home/alex/.local/lib/python3.6/site-packages/pandas/core/indexing.py:670: SettingWithCopyWarning: \n",
      "A value is trying to be set on a copy of a slice from a DataFrame\n",
      "\n",
      "See the caveats in the documentation: https://pandas.pydata.org/pandas-docs/stable/user_guide/indexing.html#returning-a-view-versus-a-copy\n",
      "  self._setitem_with_indexer(indexer, value)\n"
     ]
    },
    {
     "name": "stdout",
     "output_type": "stream",
     "text": [
      "IGTA3.csv (3236, 9) (305675, 9)\n",
      "INEP4.csv\n",
      "   Ativo        Data    Volume  Fechamento  Abertura    Mínimo    Máximo  \\\n",
      "0  INEP4  1988-06-01  0.000267    0.000013  0.000014  0.000013  0.000014   \n",
      "1  INEP4  1988-06-02  0.000206    0.000015  0.000013  0.000013  0.000015   \n",
      "2  INEP4  1988-06-03  0.000902    0.000016  0.000015  0.000015  0.000016   \n",
      "3  INEP4  1988-06-06  0.000289    0.000015  0.000016  0.000014  0.000016   \n",
      "4  INEP4  1988-06-07  0.000153    0.000015  0.000015  0.000015  0.000015   \n",
      "\n",
      "      Médio  Variacao  \n",
      "0  0.000014         0  \n",
      "1  0.000014         0  \n",
      "2  0.000016         0  \n",
      "3  0.000014         0  \n",
      "4  0.000015         0  \n"
     ]
    },
    {
     "name": "stderr",
     "output_type": "stream",
     "text": [
      "/home/alex/.local/lib/python3.6/site-packages/pandas/core/indexing.py:670: SettingWithCopyWarning: \n",
      "A value is trying to be set on a copy of a slice from a DataFrame\n",
      "\n",
      "See the caveats in the documentation: https://pandas.pydata.org/pandas-docs/stable/user_guide/indexing.html#returning-a-view-versus-a-copy\n",
      "  self._setitem_with_indexer(indexer, value)\n"
     ]
    },
    {
     "name": "stdout",
     "output_type": "stream",
     "text": [
      "INEP4.csv (7622, 9) (308911, 9)\n",
      "IRBR3.csv\n",
      "   Ativo        Data       Volume  Fechamento  Abertura    Mínimo    Máximo  \\\n",
      "0  IRBR3  2017-07-28          0.0    8.239174  8.239174  8.239174  8.239174   \n",
      "1  IRBR3  2017-07-31  318090881.0    8.859230  8.547690  8.490221  8.952994   \n",
      "2  IRBR3  2017-08-01  112291163.0    8.892501  8.946945  8.859230  8.983241   \n",
      "3  IRBR3  2017-08-02   32971542.0    8.907624  8.892501  8.798737  8.916698   \n",
      "4  IRBR3  2017-08-03   19786752.0    8.874353  8.847131  8.813860  8.910649   \n",
      "\n",
      "      Médio  Variacao  \n",
      "0  8.239174         0  \n",
      "1  8.665652         0  \n",
      "2  8.928797         0  \n",
      "3  8.856205         0  \n",
      "4  8.865279         0  \n",
      "IRBR3.csv (645, 9) (316533, 9)\n",
      "ITSA3.csv\n",
      "   Ativo        Data    Volume    Fechamento      Abertura        Mínimo  \\\n",
      "0  ITSA3  1988-06-01  0.000309  9.902359e-10  9.902359e-10  9.902359e-10   \n",
      "1  ITSA3  1988-06-02  0.005726  1.043476e-09  9.902359e-10  9.902359e-10   \n",
      "2  ITSA3  1988-06-07  0.000697  1.048485e-09  1.048485e-09  1.048485e-09   \n",
      "3  ITSA3  1988-06-08  0.001248  1.049767e-09  1.048485e-09  1.048485e-09   \n",
      "4  ITSA3  1988-06-09  0.000678  1.049767e-09  1.049767e-09  1.049767e-09   \n",
      "\n",
      "         Máximo         Médio  Variacao  \n",
      "0  9.902359e-10  9.902359e-10         0  \n",
      "1  1.043592e-09  1.038699e-09         0  \n",
      "2  1.048485e-09  1.048485e-09         0  \n",
      "3  1.049767e-09  1.049533e-09         0  \n",
      "4  1.049767e-09  1.049767e-09         0  \n"
     ]
    },
    {
     "name": "stderr",
     "output_type": "stream",
     "text": [
      "/home/alex/.local/lib/python3.6/site-packages/pandas/core/indexing.py:670: SettingWithCopyWarning: \n",
      "A value is trying to be set on a copy of a slice from a DataFrame\n",
      "\n",
      "See the caveats in the documentation: https://pandas.pydata.org/pandas-docs/stable/user_guide/indexing.html#returning-a-view-versus-a-copy\n",
      "  self._setitem_with_indexer(indexer, value)\n",
      "/home/alex/.local/lib/python3.6/site-packages/pandas/core/indexing.py:670: SettingWithCopyWarning: \n",
      "A value is trying to be set on a copy of a slice from a DataFrame\n",
      "\n",
      "See the caveats in the documentation: https://pandas.pydata.org/pandas-docs/stable/user_guide/indexing.html#returning-a-view-versus-a-copy\n",
      "  self._setitem_with_indexer(indexer, value)\n"
     ]
    },
    {
     "name": "stdout",
     "output_type": "stream",
     "text": [
      "ITSA3.csv (5628, 9) (317178, 9)\n",
      "ITSA4.csv\n",
      "   Ativo        Data    Volume    Fechamento      Abertura        Mínimo  \\\n",
      "0  ITSA4  1986-01-02  0.000295  5.572482e-11  5.572482e-11  5.537213e-11   \n",
      "1  ITSA4  1986-01-03  0.001057  5.748827e-11  5.643020e-11  5.643020e-11   \n",
      "2  ITSA4  1986-01-06  0.000989  6.701086e-11  5.996414e-11  5.995709e-11   \n",
      "3  ITSA4  1986-01-07  0.000718  7.053775e-11  6.701086e-11  6.701086e-11   \n",
      "4  ITSA4  1986-01-08  0.000765  6.348398e-11  7.230119e-11  6.348398e-11   \n",
      "\n",
      "         Máximo         Médio  Variacao  \n",
      "0  5.572482e-11  5.571072e-11         0  \n",
      "1  5.889902e-11  5.719553e-11         0  \n",
      "2  6.701439e-11  6.352277e-11         0  \n",
      "3  7.230119e-11  6.930334e-11         0  \n",
      "4  7.230119e-11  6.550841e-11         0  \n"
     ]
    },
    {
     "name": "stderr",
     "output_type": "stream",
     "text": [
      "/home/alex/.local/lib/python3.6/site-packages/pandas/core/indexing.py:670: SettingWithCopyWarning: \n",
      "A value is trying to be set on a copy of a slice from a DataFrame\n",
      "\n",
      "See the caveats in the documentation: https://pandas.pydata.org/pandas-docs/stable/user_guide/indexing.html#returning-a-view-versus-a-copy\n",
      "  self._setitem_with_indexer(indexer, value)\n"
     ]
    },
    {
     "name": "stdout",
     "output_type": "stream",
     "text": [
      "ITSA4.csv (8398, 9) (322806, 9)\n",
      "ITUB3.csv\n",
      "   Ativo        Data    Volume    Fechamento      Abertura        Mínimo  \\\n",
      "0  ITUB3  1986-01-02  0.000068  7.231394e-11  7.231394e-11  7.231394e-11   \n",
      "1  ITUB3  1986-01-03  0.000187  8.369822e-11  7.231394e-11  7.231394e-11   \n",
      "2  ITUB3  1986-01-06  0.000043  9.504118e-11  9.710729e-11  9.504118e-11   \n",
      "3  ITUB3  1986-01-07  0.000090  9.090895e-11  9.504118e-11  8.987590e-11   \n",
      "4  ITUB3  1986-01-08  0.000020  8.987590e-11  9.090895e-11  8.987590e-11   \n",
      "\n",
      "         Máximo         Médio  Variacao  \n",
      "0  7.334700e-11  7.231394e-11         0  \n",
      "1  8.884284e-11  8.010319e-11         0  \n",
      "2  9.710729e-11  9.543374e-11         0  \n",
      "3  9.504118e-11  9.076433e-11         0  \n",
      "4  9.090895e-11  8.993788e-11         0  \n"
     ]
    },
    {
     "name": "stderr",
     "output_type": "stream",
     "text": [
      "/home/alex/.local/lib/python3.6/site-packages/pandas/core/indexing.py:670: SettingWithCopyWarning: \n",
      "A value is trying to be set on a copy of a slice from a DataFrame\n",
      "\n",
      "See the caveats in the documentation: https://pandas.pydata.org/pandas-docs/stable/user_guide/indexing.html#returning-a-view-versus-a-copy\n",
      "  self._setitem_with_indexer(indexer, value)\n"
     ]
    },
    {
     "name": "stdout",
     "output_type": "stream",
     "text": [
      "ITUB3.csv (7339, 9) (331204, 9)\n",
      "ITUB4.csv\n",
      "   Ativo        Data    Volume    Fechamento      Abertura        Mínimo  \\\n",
      "0  ITUB4  1986-01-02  0.001277  9.747052e-11  9.273847e-11  9.273847e-11   \n",
      "1  ITUB4  1986-01-03  0.002359  1.212734e-10  9.987220e-11  9.773208e-11   \n",
      "2  ITUB4  1986-01-06  0.003177  1.284071e-10  1.212972e-10  1.212972e-10   \n",
      "3  ITUB4  1986-01-07  0.001905  1.189193e-10  1.284071e-10  1.188955e-10   \n",
      "4  ITUB4  1986-01-08  0.002494  1.117617e-10  1.212734e-10  1.070059e-10   \n",
      "\n",
      "         Máximo         Médio  Variacao  \n",
      "0  9.749429e-11  9.599621e-11         0  \n",
      "1  1.215112e-10  1.159231e-10         0  \n",
      "2  1.319740e-10  1.283833e-10         0  \n",
      "3  1.307850e-10  1.243647e-10         0  \n",
      "4  1.212734e-10  1.116904e-10         0  \n"
     ]
    },
    {
     "name": "stderr",
     "output_type": "stream",
     "text": [
      "/home/alex/.local/lib/python3.6/site-packages/pandas/core/indexing.py:670: SettingWithCopyWarning: \n",
      "A value is trying to be set on a copy of a slice from a DataFrame\n",
      "\n",
      "See the caveats in the documentation: https://pandas.pydata.org/pandas-docs/stable/user_guide/indexing.html#returning-a-view-versus-a-copy\n",
      "  self._setitem_with_indexer(indexer, value)\n"
     ]
    },
    {
     "name": "stdout",
     "output_type": "stream",
     "text": [
      "ITUB4.csv (8426, 9) (338543, 9)\n",
      "JBSS3.csv\n",
      "   Ativo        Data       Volume  Fechamento  Abertura    Mínimo    Máximo  \\\n",
      "0  JBSS3  2007-03-28          0.0    7.312336  7.312336  7.312336  7.312336   \n",
      "1  JBSS3  2007-03-29  243339040.0    6.398294  7.294056  6.398294  7.294056   \n",
      "2  JBSS3  2007-03-30   96897540.0    6.946720  6.489699  5.986975  7.120388   \n",
      "3  JBSS3  2007-04-02   31604019.0    6.855315  6.855315  6.718209  6.992422   \n",
      "4  JBSS3  2007-04-03   11893228.0    7.038124  6.891877  6.718209  7.038124   \n",
      "\n",
      "      Médio  Variacao  \n",
      "0  7.312336         0  \n",
      "1  6.882737         0  \n",
      "2  6.645086         0  \n",
      "3  6.827894         0  \n",
      "4  6.882737         0  \n"
     ]
    },
    {
     "name": "stderr",
     "output_type": "stream",
     "text": [
      "/home/alex/.local/lib/python3.6/site-packages/pandas/core/indexing.py:670: SettingWithCopyWarning: \n",
      "A value is trying to be set on a copy of a slice from a DataFrame\n",
      "\n",
      "See the caveats in the documentation: https://pandas.pydata.org/pandas-docs/stable/user_guide/indexing.html#returning-a-view-versus-a-copy\n",
      "  self._setitem_with_indexer(indexer, value)\n"
     ]
    },
    {
     "name": "stdout",
     "output_type": "stream",
     "text": [
      "JBSS3.csv (3202, 9) (346969, 9)\n",
      "JHSF3.csv\n",
      "   Ativo        Data      Volume  Fechamento  Abertura    Mínimo    Máximo  \\\n",
      "0  JHSF3  2007-04-11         0.0    5.656306  5.656306  5.656306  5.656306   \n",
      "1  JHSF3  2007-04-12  41448799.0    5.868417  5.691658  5.663376  5.932051   \n",
      "2  JHSF3  2007-04-13   3681700.0    5.797714  5.797714  5.663376  5.833065   \n",
      "3  JHSF3  2007-04-16    893216.0    5.762362  5.691658  5.691658  5.769432   \n",
      "4  JHSF3  2007-04-17    560641.0    5.762362  5.762362  5.755291  5.797714   \n",
      "\n",
      "      Médio  Variacao  \n",
      "0  5.656306         0  \n",
      "1  5.762362         0  \n",
      "2  5.790643         0  \n",
      "3  5.755291         0  \n",
      "4  5.769432         0  \n"
     ]
    },
    {
     "name": "stderr",
     "output_type": "stream",
     "text": [
      "/home/alex/.local/lib/python3.6/site-packages/pandas/core/indexing.py:670: SettingWithCopyWarning: \n",
      "A value is trying to be set on a copy of a slice from a DataFrame\n",
      "\n",
      "See the caveats in the documentation: https://pandas.pydata.org/pandas-docs/stable/user_guide/indexing.html#returning-a-view-versus-a-copy\n",
      "  self._setitem_with_indexer(indexer, value)\n"
     ]
    },
    {
     "name": "stdout",
     "output_type": "stream",
     "text": [
      "JHSF3.csv (3192, 9) (350171, 9)\n",
      "KLBN11.csv\n",
      "    Ativo        Data     Volume  Fechamento   Abertura     Mínimo     Máximo  \\\n",
      "0  KLBN11  2014-01-23   205520.0    9.351001   9.351001   9.351001   9.351001   \n",
      "1  KLBN11  2014-01-24     6125.0    9.753896   9.753896   9.753896   9.753896   \n",
      "2  KLBN11  2014-01-27     6300.0   10.032579  10.032579  10.032579  10.032579   \n",
      "3  KLBN11  2014-01-28  1087039.0   10.021432  10.099463   9.873332  10.099463   \n",
      "4  KLBN11  2014-01-29   812955.0    9.833520   9.761859   9.758674   9.841482   \n",
      "\n",
      "       Médio  Variacao  \n",
      "0   9.351001         0  \n",
      "1   9.753896         0  \n",
      "2  10.032579         0  \n",
      "3  10.005507         0  \n",
      "4   9.808040         0  \n"
     ]
    },
    {
     "name": "stderr",
     "output_type": "stream",
     "text": [
      "/home/alex/.local/lib/python3.6/site-packages/pandas/core/indexing.py:670: SettingWithCopyWarning: \n",
      "A value is trying to be set on a copy of a slice from a DataFrame\n",
      "\n",
      "See the caveats in the documentation: https://pandas.pydata.org/pandas-docs/stable/user_guide/indexing.html#returning-a-view-versus-a-copy\n",
      "  self._setitem_with_indexer(indexer, value)\n"
     ]
    },
    {
     "name": "stdout",
     "output_type": "stream",
     "text": [
      "KLBN11.csv (1515, 9) (353363, 9)\n",
      "KLBN3.csv\n",
      "   Ativo        Data    Volume    Fechamento      Abertura        Mínimo  \\\n",
      "0  KLBN3  1986-01-02  0.000012  1.801299e-10  1.576136e-10  1.538609e-10   \n",
      "1  KLBN3  1986-01-03  0.000015  1.800923e-10  1.838826e-10  1.800923e-10   \n",
      "2  KLBN3  1986-01-06  0.000028  1.913880e-10  1.876353e-10  1.801299e-10   \n",
      "3  KLBN3  1986-01-07  0.000079  2.026461e-10  1.913880e-10  1.876353e-10   \n",
      "4  KLBN3  1986-01-08  0.000008  1.876353e-10  1.913880e-10  1.838451e-10   \n",
      "\n",
      "         Máximo         Médio  Variacao  \n",
      "0  1.801299e-10  1.562251e-10         0  \n",
      "1  1.913880e-10  1.826067e-10         0  \n",
      "2  1.913880e-10  1.805427e-10         0  \n",
      "3  2.026461e-10  1.912379e-10         0  \n",
      "4  1.951407e-10  1.927014e-10         0  \n"
     ]
    },
    {
     "name": "stderr",
     "output_type": "stream",
     "text": [
      "/home/alex/.local/lib/python3.6/site-packages/pandas/core/indexing.py:670: SettingWithCopyWarning: \n",
      "A value is trying to be set on a copy of a slice from a DataFrame\n",
      "\n",
      "See the caveats in the documentation: https://pandas.pydata.org/pandas-docs/stable/user_guide/indexing.html#returning-a-view-versus-a-copy\n",
      "  self._setitem_with_indexer(indexer, value)\n"
     ]
    },
    {
     "name": "stdout",
     "output_type": "stream",
     "text": [
      "KLBN3.csv (2535, 9) (354878, 9)\n",
      "KLBN4.csv\n",
      "   Ativo        Data    Volume    Fechamento      Abertura        Mínimo  \\\n",
      "0  KLBN4  1986-01-02  0.000064  1.038220e-10  1.038220e-10  1.038220e-10   \n",
      "1  KLBN4  1986-01-03  0.000069  1.150460e-10  1.038220e-10  1.038220e-10   \n",
      "2  KLBN4  1986-01-06  0.000104  1.276730e-10  1.262981e-10  1.262981e-10   \n",
      "3  KLBN4  1986-01-07  0.000212  1.290760e-10  1.276730e-10  1.276730e-10   \n",
      "4  KLBN4  1986-01-08  0.000158  1.262139e-10  1.290760e-10  1.234640e-10   \n",
      "\n",
      "         Máximo         Médio  Variacao  \n",
      "0  1.038220e-10  1.038220e-10         0  \n",
      "1  1.150460e-10  1.121278e-10         0  \n",
      "2  1.290760e-10  1.266348e-10         0  \n",
      "3  1.290760e-10  1.284026e-10         0  \n",
      "4  1.290760e-10  1.262139e-10         0  \n"
     ]
    },
    {
     "name": "stderr",
     "output_type": "stream",
     "text": [
      "/home/alex/.local/lib/python3.6/site-packages/pandas/core/indexing.py:670: SettingWithCopyWarning: \n",
      "A value is trying to be set on a copy of a slice from a DataFrame\n",
      "\n",
      "See the caveats in the documentation: https://pandas.pydata.org/pandas-docs/stable/user_guide/indexing.html#returning-a-view-versus-a-copy\n",
      "  self._setitem_with_indexer(indexer, value)\n"
     ]
    },
    {
     "name": "stdout",
     "output_type": "stream",
     "text": [
      "KLBN4.csv (8405, 9) (357413, 9)\n",
      "LAME3.csv\n",
      "   Ativo        Data    Volume    Fechamento      Abertura        Mínimo  \\\n",
      "0  LAME3  1986-01-03  0.000393  1.786306e-10  1.786306e-10  1.786306e-10   \n",
      "1  LAME3  1986-01-08  0.000002  1.786306e-10  1.786306e-10  1.786306e-10   \n",
      "2  LAME3  1986-01-09  0.000303  1.935164e-10  1.786306e-10  1.786306e-10   \n",
      "3  LAME3  1986-01-10  0.000007  1.786306e-10  1.786306e-10  1.786306e-10   \n",
      "4  LAME3  1986-01-14  0.000194  1.726762e-10  1.726762e-10  1.726762e-10   \n",
      "\n",
      "         Máximo         Médio  Variacao  \n",
      "0  1.786306e-10  1.786306e-10         0  \n",
      "1  1.786306e-10  1.786306e-10         0  \n",
      "2  1.935164e-10  1.931919e-10         0  \n",
      "3  1.786306e-10  1.786306e-10         0  \n",
      "4  1.726762e-10  1.726762e-10         0  \n"
     ]
    },
    {
     "name": "stderr",
     "output_type": "stream",
     "text": [
      "/home/alex/.local/lib/python3.6/site-packages/pandas/core/indexing.py:670: SettingWithCopyWarning: \n",
      "A value is trying to be set on a copy of a slice from a DataFrame\n",
      "\n",
      "See the caveats in the documentation: https://pandas.pydata.org/pandas-docs/stable/user_guide/indexing.html#returning-a-view-versus-a-copy\n",
      "  self._setitem_with_indexer(indexer, value)\n"
     ]
    },
    {
     "name": "stdout",
     "output_type": "stream",
     "text": [
      "LAME3.csv (6514, 9) (365818, 9)\n",
      "LAME4.csv\n",
      "   Ativo        Data    Volume    Fechamento      Abertura        Mínimo  \\\n",
      "0  LAME4  1986-01-03  0.000009  1.296698e-10  1.296698e-10  1.296698e-10   \n",
      "1  LAME4  1986-01-07  0.000002  1.365671e-10  1.365671e-10  1.365671e-10   \n",
      "2  LAME4  1986-01-09  0.000002  1.365671e-10  1.365671e-10  1.365671e-10   \n",
      "3  LAME4  1986-01-10  0.000028  1.365671e-10  1.365671e-10  1.365671e-10   \n",
      "4  LAME4  1986-01-16  0.000013  1.365671e-10  1.365671e-10  1.365671e-10   \n",
      "\n",
      "         Máximo         Médio  Variacao  \n",
      "0  1.296698e-10  1.296698e-10         0  \n",
      "1  1.365671e-10  1.365671e-10         0  \n",
      "2  1.365671e-10  1.365671e-10         0  \n",
      "3  1.365671e-10  1.365671e-10         0  \n",
      "4  1.365671e-10  1.365671e-10         0  \n"
     ]
    },
    {
     "name": "stderr",
     "output_type": "stream",
     "text": [
      "/home/alex/.local/lib/python3.6/site-packages/pandas/core/indexing.py:670: SettingWithCopyWarning: \n",
      "A value is trying to be set on a copy of a slice from a DataFrame\n",
      "\n",
      "See the caveats in the documentation: https://pandas.pydata.org/pandas-docs/stable/user_guide/indexing.html#returning-a-view-versus-a-copy\n",
      "  self._setitem_with_indexer(indexer, value)\n"
     ]
    },
    {
     "name": "stdout",
     "output_type": "stream",
     "text": [
      "LAME4.csv (7695, 9) (372332, 9)\n",
      "LCAM3.csv\n",
      "   Ativo        Data     Volume  Fechamento  Abertura    Mínimo    Máximo  \\\n",
      "0  LCAM3  2012-04-20        0.0    2.113120  2.113120  2.113120  2.113120   \n",
      "1  LCAM3  2012-04-23  9029302.0    1.995724  2.084945  1.974593  2.084945   \n",
      "2  LCAM3  2012-04-24  1404935.0    2.042682  2.019203  1.995724  2.052074   \n",
      "3  LCAM3  2012-04-25  1311191.0    2.042682  2.080249  2.019203  2.082597   \n",
      "4  LCAM3  2012-04-26  2150374.0    2.042682  2.040334  2.021551  2.042682   \n",
      "\n",
      "      Médio  Variacao  \n",
      "0  2.113120         0  \n",
      "1  2.054422         0  \n",
      "2  2.021551         0  \n",
      "3  2.047378         0  \n",
      "4  2.037987         0  \n"
     ]
    },
    {
     "name": "stderr",
     "output_type": "stream",
     "text": [
      "/home/alex/.local/lib/python3.6/site-packages/pandas/core/indexing.py:670: SettingWithCopyWarning: \n",
      "A value is trying to be set on a copy of a slice from a DataFrame\n",
      "\n",
      "See the caveats in the documentation: https://pandas.pydata.org/pandas-docs/stable/user_guide/indexing.html#returning-a-view-versus-a-copy\n",
      "  self._setitem_with_indexer(indexer, value)\n"
     ]
    },
    {
     "name": "stdout",
     "output_type": "stream",
     "text": [
      "LCAM3.csv (1943, 9) (380027, 9)\n",
      "LEVE3.csv\n",
      "   Ativo        Data       Volume  Fechamento  Abertura    Mínimo    Máximo  \\\n",
      "0  LEVE3  1991-12-03  7880.894745    0.000195  0.000195  0.000195  0.000195   \n",
      "1  LEVE3  1992-05-14     0.101818    0.000394  0.000394  0.000394  0.000394   \n",
      "2  LEVE3  1992-05-18     0.020364    0.000394  0.000394  0.000394  0.000394   \n",
      "3  LEVE3  1992-06-03     0.054545    0.000423  0.000423  0.000423  0.000423   \n",
      "4  LEVE3  1992-06-04     0.109091    0.000423  0.000423  0.000423  0.000423   \n",
      "\n",
      "      Médio  Variacao  \n",
      "0  0.000195         0  \n",
      "1  0.000394         0  \n",
      "2  0.000394         0  \n",
      "3  0.000423         0  \n",
      "4  0.000423         0  \n"
     ]
    },
    {
     "name": "stderr",
     "output_type": "stream",
     "text": [
      "/home/alex/.local/lib/python3.6/site-packages/pandas/core/indexing.py:670: SettingWithCopyWarning: \n",
      "A value is trying to be set on a copy of a slice from a DataFrame\n",
      "\n",
      "See the caveats in the documentation: https://pandas.pydata.org/pandas-docs/stable/user_guide/indexing.html#returning-a-view-versus-a-copy\n",
      "  self._setitem_with_indexer(indexer, value)\n"
     ]
    },
    {
     "name": "stdout",
     "output_type": "stream",
     "text": [
      "LEVE3.csv (2284, 9) (381970, 9)\n",
      "LINX3.csv\n",
      "   Ativo        Data       Volume  Fechamento  Abertura    Mínimo    Máximo  \\\n",
      "0  LINX3  2013-02-07          0.0    8.316911  8.316911  8.316911  8.316911   \n",
      "1  LINX3  2013-02-08  251882209.0    9.857079  9.244092  9.244092  9.857079   \n",
      "2  LINX3  2013-02-13   20748046.0    9.783151  9.903284  9.644536  9.909445   \n",
      "3  LINX3  2013-02-14   14097405.0    9.564447  9.752348  9.549046  9.826276   \n",
      "4  LINX3  2013-02-15   23646505.0    9.545965  9.552126  9.505921  9.564447   \n",
      "\n",
      "      Médio  Variacao  \n",
      "0  8.316911         0  \n",
      "1  9.385788         0  \n",
      "2  9.838597         0  \n",
      "3  9.644536         0  \n",
      "4  9.549046         0  \n"
     ]
    },
    {
     "name": "stderr",
     "output_type": "stream",
     "text": [
      "/home/alex/.local/lib/python3.6/site-packages/pandas/core/indexing.py:670: SettingWithCopyWarning: \n",
      "A value is trying to be set on a copy of a slice from a DataFrame\n",
      "\n",
      "See the caveats in the documentation: https://pandas.pydata.org/pandas-docs/stable/user_guide/indexing.html#returning-a-view-versus-a-copy\n",
      "  self._setitem_with_indexer(indexer, value)\n"
     ]
    },
    {
     "name": "stdout",
     "output_type": "stream",
     "text": [
      "LINX3.csv (1753, 9) (384254, 9)\n",
      "LIQO3.csv\n",
      "   Ativo        Data     Volume   Fechamento     Abertura       Mínimo  \\\n",
      "0  LIQO3  2005-08-29  3887009.0  3355.236064  3023.613895  3023.613895   \n",
      "1  LIQO3  2005-08-30  1640659.0  3413.757623  3511.293555  3179.671386   \n",
      "2  LIQO3  2005-08-31  4052193.0  3355.236064  3433.264809  3277.207318   \n",
      "3  LIQO3  2005-09-01  6910081.0  3511.293555  3413.757623  3238.192945   \n",
      "4  LIQO3  2005-09-02  2730285.0  3511.293555  3511.293555  3257.700132   \n",
      "\n",
      "        Máximo        Médio  Variacao  \n",
      "0  3608.829487  3472.279182         0  \n",
      "1  3569.815114  3335.728877         0  \n",
      "2  3511.293555  3355.236064         0  \n",
      "3  3511.293555  3374.743250         0  \n",
      "4  3901.437283  3394.250437         0  \n"
     ]
    },
    {
     "name": "stderr",
     "output_type": "stream",
     "text": [
      "/home/alex/.local/lib/python3.6/site-packages/pandas/core/indexing.py:670: SettingWithCopyWarning: \n",
      "A value is trying to be set on a copy of a slice from a DataFrame\n",
      "\n",
      "See the caveats in the documentation: https://pandas.pydata.org/pandas-docs/stable/user_guide/indexing.html#returning-a-view-versus-a-copy\n",
      "  self._setitem_with_indexer(indexer, value)\n"
     ]
    },
    {
     "name": "stdout",
     "output_type": "stream",
     "text": [
      "LIQO3.csv (2909, 9) (386007, 9)\n",
      "LLIS3.csv\n",
      "   Ativo        Data      Volume  Fechamento   Abertura     Mínimo     Máximo  \\\n",
      "0  LLIS3  2008-04-28         0.0   12.176014  12.176014  12.176014  12.176014   \n",
      "1  LLIS3  2008-04-29  17904220.0    9.740811  10.823124   9.740811  10.823124   \n",
      "2  LLIS3  2008-04-30   5054001.0   10.191775   9.921197   9.560426  10.191775   \n",
      "3  LLIS3  2008-05-02   2148182.0   12.266207  10.191775  10.191775  12.266207   \n",
      "4  LLIS3  2008-05-05    908164.0   12.176014  12.266207  11.454472  12.266207   \n",
      "\n",
      "       Médio  Variacao  \n",
      "0  12.176014         0  \n",
      "1  10.426276         0  \n",
      "2   9.885119         0  \n",
      "3  10.895278         0  \n",
      "4  12.157975         0  \n"
     ]
    },
    {
     "name": "stderr",
     "output_type": "stream",
     "text": [
      "/home/alex/.local/lib/python3.6/site-packages/pandas/core/indexing.py:670: SettingWithCopyWarning: \n",
      "A value is trying to be set on a copy of a slice from a DataFrame\n",
      "\n",
      "See the caveats in the documentation: https://pandas.pydata.org/pandas-docs/stable/user_guide/indexing.html#returning-a-view-versus-a-copy\n",
      "  self._setitem_with_indexer(indexer, value)\n"
     ]
    },
    {
     "name": "stdout",
     "output_type": "stream",
     "text": [
      "LLIS3.csv (2853, 9) (388916, 9)\n",
      "LOGG3.csv\n",
      "   Ativo        Data      Volume  Fechamento   Abertura     Mínimo     Máximo  \\\n",
      "0  LOGG3  2018-12-21  75888912.0   17.371006  15.882062  15.882062  18.562160   \n",
      "1  LOGG3  2018-12-26  15252261.0   17.668794  17.768057  17.480195  18.691202   \n",
      "2  LOGG3  2018-12-27   6276761.0   18.214740  17.867320  17.807762  18.264372   \n",
      "3  LOGG3  2018-12-28  10513065.0   17.887173  18.403340  17.877246  18.661423   \n",
      "4  LOGG3  2019-01-02  27126689.0   16.725797  18.135330  16.537197  18.264372   \n",
      "\n",
      "       Médio  Variacao  \n",
      "0  17.440490         0  \n",
      "1  17.996362         0  \n",
      "2  18.016214         0  \n",
      "3  18.145256         0  \n",
      "4  16.914396         0  \n",
      "LOGG3.csv (300, 9) (391769, 9)\n",
      "LPSB3.csv\n",
      "   Ativo        Data       Volume  Fechamento   Abertura     Mínimo  \\\n",
      "0  LPSB3  2006-12-15          0.0    8.594877   8.594877   8.594877   \n",
      "1  LPSB3  2006-12-18  151450633.0    9.948570   8.917185   8.917185   \n",
      "2  LPSB3  2006-12-19   41241241.0   10.034519   9.948570   9.630559   \n",
      "3  LPSB3  2006-12-20   33672741.0   10.743596  10.013031  10.013031   \n",
      "4  LPSB3  2006-12-21   10218332.0   10.876816  10.808057  10.808057   \n",
      "\n",
      "      Máximo      Médio  Variacao  \n",
      "0   8.594877   8.594877         0  \n",
      "1   9.948570   9.372713         0  \n",
      "2  10.305257  10.056006         0  \n",
      "3  11.603084  10.631862         0  \n",
      "4  11.375319  11.018632         0  \n"
     ]
    },
    {
     "name": "stderr",
     "output_type": "stream",
     "text": [
      "/home/alex/.local/lib/python3.6/site-packages/pandas/core/indexing.py:670: SettingWithCopyWarning: \n",
      "A value is trying to be set on a copy of a slice from a DataFrame\n",
      "\n",
      "See the caveats in the documentation: https://pandas.pydata.org/pandas-docs/stable/user_guide/indexing.html#returning-a-view-versus-a-copy\n",
      "  self._setitem_with_indexer(indexer, value)\n",
      "/home/alex/.local/lib/python3.6/site-packages/pandas/core/indexing.py:670: SettingWithCopyWarning: \n",
      "A value is trying to be set on a copy of a slice from a DataFrame\n",
      "\n",
      "See the caveats in the documentation: https://pandas.pydata.org/pandas-docs/stable/user_guide/indexing.html#returning-a-view-versus-a-copy\n",
      "  self._setitem_with_indexer(indexer, value)\n"
     ]
    },
    {
     "name": "stdout",
     "output_type": "stream",
     "text": [
      "LPSB3.csv (3266, 9) (392069, 9)\n",
      "LREN3.csv\n",
      "   Ativo        Data        Volume  Fechamento  Abertura    Mínimo    Máximo  \\\n",
      "0  LREN3  1994-03-29  1.745455e+01    0.003340  0.003340  0.003340  0.003340   \n",
      "1  LREN3  1994-04-19  9.040000e+01    0.003674  0.003674  0.003674  0.003674   \n",
      "2  LREN3  1994-09-05  1.104888e+06    0.026683  0.026729  0.026683  0.026729   \n",
      "3  LREN3  1994-09-14  6.010000e+01    0.027602  0.027602  0.027602  0.027602   \n",
      "4  LREN3  1994-09-23  1.200000e+01    0.027556  0.027556  0.027556  0.027556   \n",
      "\n",
      "      Médio  Variacao  \n",
      "0  0.003340         0  \n",
      "1  0.003674         0  \n",
      "2  0.026683         0  \n",
      "3  0.027602         0  \n",
      "4  0.027556         0  \n"
     ]
    },
    {
     "name": "stderr",
     "output_type": "stream",
     "text": [
      "/home/alex/.local/lib/python3.6/site-packages/pandas/core/indexing.py:670: SettingWithCopyWarning: \n",
      "A value is trying to be set on a copy of a slice from a DataFrame\n",
      "\n",
      "See the caveats in the documentation: https://pandas.pydata.org/pandas-docs/stable/user_guide/indexing.html#returning-a-view-versus-a-copy\n",
      "  self._setitem_with_indexer(indexer, value)\n"
     ]
    },
    {
     "name": "stdout",
     "output_type": "stream",
     "text": [
      "LREN3.csv (3713, 9) (395335, 9)\n",
      "LUPA3.csv\n",
      "   Ativo        Data       Volume   Fechamento     Abertura       Mínimo  \\\n",
      "0  LUPA3  2006-05-12          0.0  3648.442041  3648.442041  3648.442041   \n",
      "1  LUPA3  2006-05-15  150829937.0  3865.690181  3815.938699  3650.100424   \n",
      "2  LUPA3  2006-05-16   47940360.0  4063.037728  3981.776973  3922.075194   \n",
      "3  LUPA3  2006-05-17   10784452.0  3946.950935  4063.037728  3946.950935   \n",
      "4  LUPA3  2006-05-18    7883630.0  4063.037728  3938.659022  3938.659022   \n",
      "\n",
      "        Máximo        Médio  Variacao  \n",
      "0  3648.442041  3648.442041         0  \n",
      "1  4013.286245  3829.205760         0  \n",
      "2  4187.416434  4063.037728         0  \n",
      "3  4094.547000  4014.944628         0  \n",
      "4  4063.037728  4004.994332         0  \n"
     ]
    },
    {
     "name": "stderr",
     "output_type": "stream",
     "text": [
      "/home/alex/.local/lib/python3.6/site-packages/pandas/core/indexing.py:670: SettingWithCopyWarning: \n",
      "A value is trying to be set on a copy of a slice from a DataFrame\n",
      "\n",
      "See the caveats in the documentation: https://pandas.pydata.org/pandas-docs/stable/user_guide/indexing.html#returning-a-view-versus-a-copy\n",
      "  self._setitem_with_indexer(indexer, value)\n"
     ]
    },
    {
     "name": "stdout",
     "output_type": "stream",
     "text": [
      "LUPA3.csv (3403, 9) (399048, 9)\n",
      "MDIA3.csv\n",
      "   Ativo        Data      Volume  Fechamento  Abertura    Mínimo    Máximo  \\\n",
      "0  MDIA3  2006-10-17         0.0    5.819419  5.819419  5.819419  5.819419   \n",
      "1  MDIA3  2006-10-18  55166260.0    5.860986  5.819419  5.683632  5.930265   \n",
      "2  MDIA3  2006-10-19   8104664.0    5.841588  5.847130  5.791707  5.902553   \n",
      "3  MDIA3  2006-10-20   7547788.0    5.874842  5.822190  5.819419  5.874842   \n",
      "4  MDIA3  2006-10-23   7086585.0    5.930265  5.885927  5.833275  5.994001   \n",
      "\n",
      "      Médio  Variacao  \n",
      "0  5.819419         0  \n",
      "1  5.824961         0  \n",
      "2  5.830503         0  \n",
      "3  5.844359         0  \n",
      "4  5.938578         0  \n"
     ]
    },
    {
     "name": "stderr",
     "output_type": "stream",
     "text": [
      "/home/alex/.local/lib/python3.6/site-packages/pandas/core/indexing.py:670: SettingWithCopyWarning: \n",
      "A value is trying to be set on a copy of a slice from a DataFrame\n",
      "\n",
      "See the caveats in the documentation: https://pandas.pydata.org/pandas-docs/stable/user_guide/indexing.html#returning-a-view-versus-a-copy\n",
      "  self._setitem_with_indexer(indexer, value)\n"
     ]
    },
    {
     "name": "stdout",
     "output_type": "stream",
     "text": [
      "MDIA3.csv (3305, 9) (402451, 9)\n",
      "MGLU3.csv\n",
      "   Ativo        Data       Volume  Fechamento  Abertura    Mínimo    Máximo  \\\n",
      "0  MGLU3  2011-04-29          0.0    1.847767  1.847767  1.847767  1.847767   \n",
      "1  MGLU3  2011-05-02  143468804.0    1.899736  1.859316  1.859316  1.917058   \n",
      "2  MGLU3  2011-05-03   17214126.0    1.882413  1.905510  1.870864  1.927452   \n",
      "3  MGLU3  2011-05-04   20066685.0    1.903200  1.884723  1.884723  1.903200   \n",
      "4  MGLU3  2011-05-05   17966316.0    1.891652  1.895116  1.884723  1.895116   \n",
      "\n",
      "      Médio  Variacao  \n",
      "0  1.847767         0  \n",
      "1  1.893961         0  \n",
      "2  1.889342         0  \n",
      "3  1.891652         0  \n",
      "4  1.891652         0  \n"
     ]
    },
    {
     "name": "stderr",
     "output_type": "stream",
     "text": [
      "/home/alex/.local/lib/python3.6/site-packages/pandas/core/indexing.py:670: SettingWithCopyWarning: \n",
      "A value is trying to be set on a copy of a slice from a DataFrame\n",
      "\n",
      "See the caveats in the documentation: https://pandas.pydata.org/pandas-docs/stable/user_guide/indexing.html#returning-a-view-versus-a-copy\n",
      "  self._setitem_with_indexer(indexer, value)\n"
     ]
    },
    {
     "name": "stdout",
     "output_type": "stream",
     "text": [
      "MGLU3.csv (2194, 9) (405756, 9)\n",
      "MOVI3.csv\n",
      "   Ativo        Data      Volume  Fechamento  Abertura    Mínimo    Máximo  \\\n",
      "0  MOVI3  2017-02-07         0.0    6.971251  6.971251  6.971251  6.971251   \n",
      "1  MOVI3  2017-02-08  68711487.0    6.785351  6.831826  6.608746  6.952661   \n",
      "2  MOVI3  2017-02-09  18457157.0    7.017726  6.850416  6.738876  7.027021   \n",
      "3  MOVI3  2017-02-10  27698959.0    7.157151  7.017726  6.943366  7.231511   \n",
      "4  MOVI3  2017-02-13   5253305.0    7.008431  7.212921  6.980546  7.212921   \n",
      "\n",
      "      Médio  Variacao  \n",
      "0  6.971251         0  \n",
      "1  6.831826         0  \n",
      "2  6.859711         0  \n",
      "3  7.119971         0  \n",
      "4  7.054906         0  \n",
      "MOVI3.csv (762, 9) (407950, 9)\n",
      "MRFG3.csv\n",
      "   Ativo        Data      Volume  Fechamento   Abertura     Mínimo     Máximo  \\\n",
      "0  MRFG3  2007-06-28         0.0   16.221134  16.221134  16.221134  16.221134   \n",
      "1  MRFG3  2007-06-29  77332869.0   17.471116  16.268843  16.268843  17.556992   \n",
      "2  MRFG3  2007-07-02  30792034.0   18.702014  17.452032  16.994024  19.064604   \n",
      "3  MRFG3  2007-07-03  12940217.0   18.129503  18.654304  17.499741  18.663846   \n",
      "4  MRFG3  2007-07-04   4669061.0   17.652411  17.661953  17.652411  18.119961   \n",
      "\n",
      "       Médio  Variacao  \n",
      "0  16.221134         0  \n",
      "1  16.803187         0  \n",
      "2  18.396675         0  \n",
      "3  18.158128         0  \n",
      "4  17.766913         0  \n"
     ]
    },
    {
     "name": "stderr",
     "output_type": "stream",
     "text": [
      "/home/alex/.local/lib/python3.6/site-packages/pandas/core/indexing.py:670: SettingWithCopyWarning: \n",
      "A value is trying to be set on a copy of a slice from a DataFrame\n",
      "\n",
      "See the caveats in the documentation: https://pandas.pydata.org/pandas-docs/stable/user_guide/indexing.html#returning-a-view-versus-a-copy\n",
      "  self._setitem_with_indexer(indexer, value)\n",
      "/home/alex/.local/lib/python3.6/site-packages/pandas/core/indexing.py:670: SettingWithCopyWarning: \n",
      "A value is trying to be set on a copy of a slice from a DataFrame\n",
      "\n",
      "See the caveats in the documentation: https://pandas.pydata.org/pandas-docs/stable/user_guide/indexing.html#returning-a-view-versus-a-copy\n",
      "  self._setitem_with_indexer(indexer, value)\n"
     ]
    },
    {
     "name": "stdout",
     "output_type": "stream",
     "text": [
      "MRFG3.csv (3139, 9) (408712, 9)\n",
      "MRVE3.csv\n",
      "   Ativo        Data       Volume  Fechamento  Abertura    Mínimo    Máximo  \\\n",
      "0  MRVE3  2007-07-20          0.0    4.662654  4.662654  4.662654  4.662654   \n",
      "1  MRVE3  2007-07-23  359765212.0    5.559319  5.559319  5.406886  5.596978   \n",
      "2  MRVE3  2007-07-24   81569376.0    5.810385  5.523452  5.397919  5.935918   \n",
      "3  MRVE3  2007-07-25   60809235.0    5.720718  5.812178  5.640018  6.007651   \n",
      "4  MRVE3  2007-07-26   51095307.0    5.738651  5.562905  5.379986  5.783485   \n",
      "\n",
      "      Médio  Variacao  \n",
      "0  4.662654         0  \n",
      "1  5.536005         0  \n",
      "2  5.749411         0  \n",
      "3  5.745825         0  \n",
      "4  5.541385         0  \n"
     ]
    },
    {
     "name": "stderr",
     "output_type": "stream",
     "text": [
      "/home/alex/.local/lib/python3.6/site-packages/pandas/core/indexing.py:670: SettingWithCopyWarning: \n",
      "A value is trying to be set on a copy of a slice from a DataFrame\n",
      "\n",
      "See the caveats in the documentation: https://pandas.pydata.org/pandas-docs/stable/user_guide/indexing.html#returning-a-view-versus-a-copy\n",
      "  self._setitem_with_indexer(indexer, value)\n"
     ]
    },
    {
     "name": "stdout",
     "output_type": "stream",
     "text": [
      "MRVE3.csv (3124, 9) (411851, 9)\n",
      "MULT3.csv\n",
      "   Ativo        Data      Volume  Fechamento  Abertura    Mínimo    Máximo  \\\n",
      "0  MULT3  2007-07-26         0.0    6.778745  6.778745  6.778745  6.778745   \n",
      "1  MULT3  2007-07-27  96953353.0    6.507596  6.510307  6.263561  6.738073   \n",
      "2  MULT3  2007-07-30  15096750.0    6.480481  6.567249  6.401847  6.640459   \n",
      "3  MULT3  2007-07-31  53780396.0    6.643171  6.521153  6.483192  6.738073   \n",
      "4  MULT3  2007-08-01  20937276.0    6.643171  6.507596  6.466923  6.643171   \n",
      "\n",
      "      Médio  Variacao  \n",
      "0  6.778745         0  \n",
      "1  6.529288         0  \n",
      "2  6.507596         0  \n",
      "3  6.670285         0  \n",
      "4  6.504884         0  \n"
     ]
    },
    {
     "name": "stderr",
     "output_type": "stream",
     "text": [
      "/home/alex/.local/lib/python3.6/site-packages/pandas/core/indexing.py:670: SettingWithCopyWarning: \n",
      "A value is trying to be set on a copy of a slice from a DataFrame\n",
      "\n",
      "See the caveats in the documentation: https://pandas.pydata.org/pandas-docs/stable/user_guide/indexing.html#returning-a-view-versus-a-copy\n",
      "  self._setitem_with_indexer(indexer, value)\n"
     ]
    },
    {
     "name": "stdout",
     "output_type": "stream",
     "text": [
      "MULT3.csv (3120, 9) (414975, 9)\n",
      "MYPK3.csv\n",
      "   Ativo        Data     Volume  Fechamento  Abertura    Mínimo    Máximo  \\\n",
      "0  MYPK3  1993-08-04   8.727273    0.024069  0.024069  0.024069  0.024069   \n",
      "1  MYPK3  1993-08-18   2.727273    0.030086  0.030086  0.030086  0.030086   \n",
      "2  MYPK3  1993-09-09  66.909091    0.032091  0.032091  0.032091  0.032091   \n",
      "3  MYPK3  1993-09-10   4.363273    0.048133  0.048133  0.048133  0.048133   \n",
      "4  MYPK3  1993-09-24  11.272727    0.062177  0.062177  0.062177  0.062177   \n",
      "\n",
      "      Médio  Variacao  \n",
      "0  0.024069         0  \n",
      "1  0.030086         0  \n",
      "2  0.032091         0  \n",
      "3  0.048133         0  \n",
      "4  0.062177         0  \n"
     ]
    },
    {
     "name": "stderr",
     "output_type": "stream",
     "text": [
      "/home/alex/.local/lib/python3.6/site-packages/pandas/core/indexing.py:670: SettingWithCopyWarning: \n",
      "A value is trying to be set on a copy of a slice from a DataFrame\n",
      "\n",
      "See the caveats in the documentation: https://pandas.pydata.org/pandas-docs/stable/user_guide/indexing.html#returning-a-view-versus-a-copy\n",
      "  self._setitem_with_indexer(indexer, value)\n"
     ]
    },
    {
     "name": "stdout",
     "output_type": "stream",
     "text": [
      "MYPK3.csv (3600, 9) (418095, 9)\n",
      "NEOE3.csv\n",
      "   Ativo        Data        Volume  Fechamento   Abertura     Mínimo  \\\n",
      "0  NEOE3  2019-06-28  0.000000e+00   15.291662  15.291662  15.291662   \n",
      "1  NEOE3  2019-07-01  1.005674e+09   16.571667  16.473957  16.415330   \n",
      "2  NEOE3  2019-07-02  2.732391e+08   17.265410  16.757316  16.610751   \n",
      "3  NEOE3  2019-07-03  1.914882e+08   17.372891  17.294723  17.109074   \n",
      "4  NEOE3  2019-07-04  6.668460e+07   17.569897  17.530191  17.272103   \n",
      "\n",
      "      Máximo      Médio  Variacao  \n",
      "0  15.291662  15.291662         0  \n",
      "1  16.855027  16.552125         0  \n",
      "2  17.343578  17.040676         0  \n",
      "3  17.568312  17.411975         0  \n",
      "4  17.649309  17.480559         0  \n",
      "NEOE3.csv (175, 9) (421695, 9)\n",
      "NTCO3.csv\n",
      "   Ativo        Data       Volume  Fechamento  Abertura    Mínimo    Máximo  \\\n",
      "0  NTCO3  2004-05-25          0.0    2.067926  2.067926  2.067926  2.067926   \n",
      "1  NTCO3  2004-05-26  159519277.0    2.390862  2.266220  2.210698  2.436187   \n",
      "2  NTCO3  2004-05-27   59216779.0    2.419190  2.429954  2.379531  2.453183   \n",
      "3  NTCO3  2004-05-28   15349351.0    2.453183  2.436187  2.436187  2.464514   \n",
      "4  NTCO3  2004-05-31    4062902.0    2.419190  2.425422  2.334207  2.432221   \n",
      "\n",
      "      Médio  Variacao  \n",
      "0  2.067926         0  \n",
      "1  2.294548         0  \n",
      "2  2.406726         0  \n",
      "3  2.445251         0  \n",
      "4  2.373299         0  \n"
     ]
    },
    {
     "name": "stderr",
     "output_type": "stream",
     "text": [
      "/home/alex/.local/lib/python3.6/site-packages/pandas/core/indexing.py:670: SettingWithCopyWarning: \n",
      "A value is trying to be set on a copy of a slice from a DataFrame\n",
      "\n",
      "See the caveats in the documentation: https://pandas.pydata.org/pandas-docs/stable/user_guide/indexing.html#returning-a-view-versus-a-copy\n",
      "  self._setitem_with_indexer(indexer, value)\n",
      "/home/alex/.local/lib/python3.6/site-packages/pandas/core/indexing.py:670: SettingWithCopyWarning: \n",
      "A value is trying to be set on a copy of a slice from a DataFrame\n",
      "\n",
      "See the caveats in the documentation: https://pandas.pydata.org/pandas-docs/stable/user_guide/indexing.html#returning-a-view-versus-a-copy\n",
      "  self._setitem_with_indexer(indexer, value)\n"
     ]
    },
    {
     "name": "stdout",
     "output_type": "stream",
     "text": [
      "NTCO3.csv (3906, 9) (421870, 9)\n",
      "ODPV3.csv\n",
      "   Ativo        Data       Volume  Fechamento  Abertura    Mínimo    Máximo  \\\n",
      "0  ODPV3  2006-11-30          0.0    1.278601  1.278601  1.278601  1.278601   \n",
      "1  ODPV3  2006-12-01  193970156.0    1.479067  1.420616  1.416507  1.499616   \n",
      "2  ODPV3  2006-12-04   31353019.0    1.488656  1.468107  1.461258  1.493223   \n",
      "3  ODPV3  2006-12-05   12008707.0    1.532037  1.481807  1.470391  1.551673   \n",
      "4  ODPV3  2006-12-06   23095690.0    1.538887  1.529754  1.506922  1.570852   \n",
      "\n",
      "      Médio  Variacao  \n",
      "0  1.278601         0  \n",
      "1  1.437512         0  \n",
      "2  1.480893         0  \n",
      "3  1.512858         0  \n",
      "4  1.543453         0  \n"
     ]
    },
    {
     "name": "stderr",
     "output_type": "stream",
     "text": [
      "/home/alex/.local/lib/python3.6/site-packages/pandas/core/indexing.py:670: SettingWithCopyWarning: \n",
      "A value is trying to be set on a copy of a slice from a DataFrame\n",
      "\n",
      "See the caveats in the documentation: https://pandas.pydata.org/pandas-docs/stable/user_guide/indexing.html#returning-a-view-versus-a-copy\n",
      "  self._setitem_with_indexer(indexer, value)\n"
     ]
    },
    {
     "name": "stdout",
     "output_type": "stream",
     "text": [
      "ODPV3.csv (3280, 9) (425776, 9)\n",
      "OFSA3.csv\n",
      "   Ativo        Data      Volume  Fechamento   Abertura     Mínimo     Máximo  \\\n",
      "0  OFSA3  2014-10-20         0.0   26.057025  26.057025  26.057025  26.057025   \n",
      "1  OFSA3  2014-10-21  52291129.0   26.684323  26.153532  26.076326  26.800132   \n",
      "2  OFSA3  2014-10-22   8153010.0   26.819434  26.636070  26.636070  27.765207   \n",
      "3  OFSA3  2014-10-23   3686793.0   26.829085  26.964195  26.105278  26.964195   \n",
      "4  OFSA3  2014-10-24   3778777.0   26.539562  26.809783  26.201786  26.809783   \n",
      "\n",
      "       Médio  Variacao  \n",
      "0  26.057025         0  \n",
      "1  26.443055         0  \n",
      "2  27.051052         0  \n",
      "3  26.510610         0  \n",
      "4  26.443055         0  \n"
     ]
    },
    {
     "name": "stderr",
     "output_type": "stream",
     "text": [
      "/home/alex/.local/lib/python3.6/site-packages/pandas/core/indexing.py:670: SettingWithCopyWarning: \n",
      "A value is trying to be set on a copy of a slice from a DataFrame\n",
      "\n",
      "See the caveats in the documentation: https://pandas.pydata.org/pandas-docs/stable/user_guide/indexing.html#returning-a-view-versus-a-copy\n",
      "  self._setitem_with_indexer(indexer, value)\n"
     ]
    },
    {
     "name": "stdout",
     "output_type": "stream",
     "text": [
      "OFSA3.csv (1288, 9) (429056, 9)\n",
      "OIBR3.csv\n",
      "   Ativo        Data    Volume  Fechamento  Abertura    Mínimo    Máximo  \\\n",
      "0  OIBR3  1992-07-20  5.549091    0.010002  0.010002  0.010002  0.010002   \n",
      "1  OIBR3  1992-07-21  7.581818    0.009859  0.010002  0.009859  0.010002   \n",
      "2  OIBR3  1992-07-22  1.772727    0.009287  0.009287  0.009287  0.009287   \n",
      "3  OIBR3  1992-07-24  4.933636    0.005787  0.005787  0.005787  0.005787   \n",
      "4  OIBR3  1992-07-27  0.231441    0.005684  0.005684  0.005684  0.005684   \n",
      "\n",
      "      Médio  Variacao  \n",
      "0  0.010002         0  \n",
      "1  0.009930         0  \n",
      "2  0.009287         0  \n",
      "3  0.005787         0  \n",
      "4  0.005684         0  \n"
     ]
    },
    {
     "name": "stderr",
     "output_type": "stream",
     "text": [
      "/home/alex/.local/lib/python3.6/site-packages/pandas/core/indexing.py:670: SettingWithCopyWarning: \n",
      "A value is trying to be set on a copy of a slice from a DataFrame\n",
      "\n",
      "See the caveats in the documentation: https://pandas.pydata.org/pandas-docs/stable/user_guide/indexing.html#returning-a-view-versus-a-copy\n",
      "  self._setitem_with_indexer(indexer, value)\n"
     ]
    },
    {
     "name": "stdout",
     "output_type": "stream",
     "text": [
      "OIBR3.csv (6014, 9) (430344, 9)\n",
      "OIBR4.csv\n",
      "   Ativo        Data    Volume  Fechamento  Abertura    Mínimo    Máximo  \\\n",
      "0  OIBR4  1992-07-14  2.727273    0.007198  0.007198  0.007198  0.007198   \n",
      "1  OIBR4  1992-07-17  0.814545    0.006718  0.006718  0.006718  0.006718   \n",
      "2  OIBR4  1992-07-20  5.549090    0.006718  0.006718  0.006718  0.006718   \n",
      "3  OIBR4  1992-07-21  7.581818    0.006622  0.006718  0.006622  0.006718   \n",
      "4  OIBR4  1992-07-22  1.772727    0.006238  0.006238  0.006238  0.006238   \n",
      "\n",
      "      Médio  Variacao  \n",
      "0  0.007198         0  \n",
      "1  0.006718         0  \n",
      "2  0.006718         0  \n",
      "3  0.006670         0  \n",
      "4  0.006238         0  \n"
     ]
    },
    {
     "name": "stderr",
     "output_type": "stream",
     "text": [
      "/home/alex/.local/lib/python3.6/site-packages/pandas/core/indexing.py:670: SettingWithCopyWarning: \n",
      "A value is trying to be set on a copy of a slice from a DataFrame\n",
      "\n",
      "See the caveats in the documentation: https://pandas.pydata.org/pandas-docs/stable/user_guide/indexing.html#returning-a-view-versus-a-copy\n",
      "  self._setitem_with_indexer(indexer, value)\n"
     ]
    },
    {
     "name": "stdout",
     "output_type": "stream",
     "text": [
      "OIBR4.csv (6811, 9) (436358, 9)\n",
      "OSXB3.csv\n",
      "   Ativo        Data       Volume  Fechamento  Abertura   Mínimo   Máximo  \\\n",
      "0  OSXB3  2010-03-19          0.0      3200.0   3200.00  3200.00  3200.00   \n",
      "1  OSXB3  2010-03-22  367816052.0      2800.0   3000.00  2720.04  3040.00   \n",
      "2  OSXB3  2010-03-23   95524653.0      2872.0   2800.00  2720.00  2879.60   \n",
      "3  OSXB3  2010-03-24   72726963.0      2948.0   2855.96  2855.96  2955.56   \n",
      "4  OSXB3  2010-03-25   31278224.0      2880.0   2968.00  2880.00  2968.00   \n",
      "\n",
      "     Médio  Variacao  \n",
      "0  3200.00         0  \n",
      "1  2835.36         0  \n",
      "2  2822.00         0  \n",
      "3  2923.68         0  \n",
      "4  2936.92         0  \n"
     ]
    },
    {
     "name": "stderr",
     "output_type": "stream",
     "text": [
      "/home/alex/.local/lib/python3.6/site-packages/pandas/core/indexing.py:670: SettingWithCopyWarning: \n",
      "A value is trying to be set on a copy of a slice from a DataFrame\n",
      "\n",
      "See the caveats in the documentation: https://pandas.pydata.org/pandas-docs/stable/user_guide/indexing.html#returning-a-view-versus-a-copy\n",
      "  self._setitem_with_indexer(indexer, value)\n"
     ]
    },
    {
     "name": "stdout",
     "output_type": "stream",
     "text": [
      "OSXB3.csv (2288, 9) (443169, 9)\n",
      "PARD3.csv\n",
      "   Ativo        Data       Volume  Fechamento   Abertura     Mínimo  \\\n",
      "0  PARD3  2017-02-13          0.0   17.150589  17.150589  17.150589   \n",
      "1  PARD3  2017-02-14  213521317.0   18.685116  18.522636  18.206705   \n",
      "2  PARD3  2017-02-15   11972458.0   18.594849  18.874675  18.333077   \n",
      "3  PARD3  2017-02-16   14980398.0   18.459450  18.594849  18.315024   \n",
      "4  PARD3  2017-02-17    4566954.0   18.504583  18.459450  18.414317   \n",
      "\n",
      "      Máximo      Médio  Variacao  \n",
      "0  17.150589  17.150589         0  \n",
      "1  18.730249  18.540690         0  \n",
      "2  18.919808  18.567770         0  \n",
      "3  18.594849  18.504583         0  \n",
      "4  18.775382  18.531663         0  \n",
      "PARD3.csv (758, 9) (445457, 9)\n",
      "PCAR4.csv\n",
      "   Ativo        Data        Volume  Fechamento  Abertura    Mínimo    Máximo  \\\n",
      "0  PCAR4  1995-10-13    108.000003    4.060637  4.060637  4.060637  4.060637   \n",
      "1  PCAR4  1995-10-16    111.999996    4.211031  4.211031  4.211031  4.211031   \n",
      "2  PCAR4  1995-10-17    108.000003    4.060637  4.060637  4.060637  4.060637   \n",
      "3  PCAR4  1995-10-24    980.999973    3.688412  3.688412  3.688412  3.688412   \n",
      "4  PCAR4  1995-10-25  10815.359696    3.947841  3.684652  3.684652  3.947841   \n",
      "\n",
      "      Médio  Variacao  \n",
      "0  4.060637         0  \n",
      "1  4.211031         0  \n",
      "2  4.060637         0  \n",
      "3  3.688412         0  \n",
      "4  3.940322         0  \n"
     ]
    },
    {
     "name": "stderr",
     "output_type": "stream",
     "text": [
      "/home/alex/.local/lib/python3.6/site-packages/pandas/core/indexing.py:670: SettingWithCopyWarning: \n",
      "A value is trying to be set on a copy of a slice from a DataFrame\n",
      "\n",
      "See the caveats in the documentation: https://pandas.pydata.org/pandas-docs/stable/user_guide/indexing.html#returning-a-view-versus-a-copy\n",
      "  self._setitem_with_indexer(indexer, value)\n",
      "/home/alex/.local/lib/python3.6/site-packages/pandas/core/indexing.py:670: SettingWithCopyWarning: \n",
      "A value is trying to be set on a copy of a slice from a DataFrame\n",
      "\n",
      "See the caveats in the documentation: https://pandas.pydata.org/pandas-docs/stable/user_guide/indexing.html#returning-a-view-versus-a-copy\n",
      "  self._setitem_with_indexer(indexer, value)\n"
     ]
    },
    {
     "name": "stdout",
     "output_type": "stream",
     "text": [
      "PCAR4.csv (5962, 9) (446215, 9)\n",
      "PDGR3.csv\n",
      "   Ativo        Data       Volume   Fechamento     Abertura       Mínimo  \\\n",
      "0  PDGR3  2007-01-24          0.0  1458.227227  1458.227227  1458.227227   \n",
      "1  PDGR3  2007-01-26  107740911.0  1458.227227  1479.059044  1438.437000   \n",
      "2  PDGR3  2007-01-29   53024347.0  1426.979501  1458.227227  1421.771546   \n",
      "3  PDGR3  2007-01-30   10374765.0  1453.019272  1432.187455  1390.523820   \n",
      "4  PDGR3  2007-01-31    6542612.0  1458.227227  1453.019272  1407.189274   \n",
      "\n",
      "        Máximo        Médio  Variacao  \n",
      "0  1458.227227  1458.227227         0  \n",
      "1  1484.266999  1468.643135         0  \n",
      "2  1463.435181  1454.060863         0  \n",
      "3  1453.019272  1422.813137         0  \n",
      "4  1458.227227  1437.395409         0  \n"
     ]
    },
    {
     "name": "stderr",
     "output_type": "stream",
     "text": [
      "/home/alex/.local/lib/python3.6/site-packages/pandas/core/indexing.py:670: SettingWithCopyWarning: \n",
      "A value is trying to be set on a copy of a slice from a DataFrame\n",
      "\n",
      "See the caveats in the documentation: https://pandas.pydata.org/pandas-docs/stable/user_guide/indexing.html#returning-a-view-versus-a-copy\n",
      "  self._setitem_with_indexer(indexer, value)\n"
     ]
    },
    {
     "name": "stdout",
     "output_type": "stream",
     "text": [
      "PDGR3.csv (3244, 9) (452177, 9)\n",
      "PETR3.csv\n",
      "   Ativo        Data    Volume    Fechamento      Abertura        Mínimo  \\\n",
      "0  PETR3  1986-01-02  0.000049  4.428216e-10  4.271925e-10  4.271925e-10   \n",
      "1  PETR3  1986-01-03  0.000137  4.584610e-10  4.480312e-10  4.480312e-10   \n",
      "2  PETR3  1986-01-06  0.000086  5.209665e-10  4.792892e-10  4.792892e-10   \n",
      "3  PETR3  1986-01-07  0.000092  5.209665e-10  5.209665e-10  5.209665e-10   \n",
      "4  PETR3  1986-01-08  0.000075  5.574342e-10  4.792892e-10  4.688699e-10   \n",
      "\n",
      "         Máximo         Médio  Variacao  \n",
      "0  4.428216e-10  4.403626e-10         0  \n",
      "1  4.584610e-10  4.536681e-10         0  \n",
      "2  5.209665e-10  5.013157e-10         0  \n",
      "3  5.574342e-10  5.443579e-10         0  \n",
      "4  5.574342e-10  4.998778e-10         0  \n"
     ]
    },
    {
     "name": "stderr",
     "output_type": "stream",
     "text": [
      "/home/alex/.local/lib/python3.6/site-packages/pandas/core/indexing.py:670: SettingWithCopyWarning: \n",
      "A value is trying to be set on a copy of a slice from a DataFrame\n",
      "\n",
      "See the caveats in the documentation: https://pandas.pydata.org/pandas-docs/stable/user_guide/indexing.html#returning-a-view-versus-a-copy\n",
      "  self._setitem_with_indexer(indexer, value)\n"
     ]
    },
    {
     "name": "stdout",
     "output_type": "stream",
     "text": [
      "PETR3.csv (8163, 9) (455421, 9)\n",
      "PETR4.csv\n",
      "   Ativo        Data    Volume    Fechamento      Abertura        Mínimo  \\\n",
      "0  PETR4  1986-01-02  0.003364  8.937798e-10  8.937798e-10  8.937693e-10   \n",
      "1  PETR4  1986-01-03  0.016925  9.200674e-10  8.937798e-10  8.937798e-10   \n",
      "2  PETR4  1986-01-06  0.010787  9.726427e-10  9.463550e-10  9.463550e-10   \n",
      "3  PETR4  1986-01-07  0.017559  9.463550e-10  9.779002e-10  8.937798e-10   \n",
      "4  PETR4  1986-01-08  0.011167  9.673852e-10  9.148099e-10  9.042948e-10   \n",
      "\n",
      "         Máximo         Médio  Variacao  \n",
      "0  9.043054e-10  8.948524e-10         0  \n",
      "1  9.358400e-10  9.124545e-10         0  \n",
      "2  9.989303e-10  9.717069e-10         0  \n",
      "3  9.989303e-10  9.404246e-10         0  \n",
      "4  9.989303e-10  9.531373e-10         0  \n"
     ]
    },
    {
     "name": "stderr",
     "output_type": "stream",
     "text": [
      "/home/alex/.local/lib/python3.6/site-packages/pandas/core/indexing.py:670: SettingWithCopyWarning: \n",
      "A value is trying to be set on a copy of a slice from a DataFrame\n",
      "\n",
      "See the caveats in the documentation: https://pandas.pydata.org/pandas-docs/stable/user_guide/indexing.html#returning-a-view-versus-a-copy\n",
      "  self._setitem_with_indexer(indexer, value)\n"
     ]
    },
    {
     "name": "stdout",
     "output_type": "stream",
     "text": [
      "PETR4.csv (8425, 9) (463584, 9)\n",
      "PMAM3.csv\n",
      "   Ativo        Data    Volume  Fechamento  Abertura    Mínimo    Máximo  \\\n",
      "0  PMAM3  1988-06-03  0.000872    0.000007  0.000007  0.000007  0.000007   \n",
      "1  PMAM3  1988-06-07  0.000782    0.000007  0.000007  0.000007  0.000007   \n",
      "2  PMAM3  1988-06-09  0.000270    0.000007  0.000007  0.000007  0.000007   \n",
      "3  PMAM3  1988-06-13  0.009215    0.000008  0.000008  0.000008  0.000008   \n",
      "4  PMAM3  1988-06-14  0.004936    0.000008  0.000008  0.000008  0.000008   \n",
      "\n",
      "      Médio  Variacao  \n",
      "0  0.000007         0  \n",
      "1  0.000007         0  \n",
      "2  0.000007         0  \n",
      "3  0.000008         0  \n",
      "4  0.000008         0  \n"
     ]
    },
    {
     "name": "stderr",
     "output_type": "stream",
     "text": [
      "/home/alex/.local/lib/python3.6/site-packages/pandas/core/indexing.py:670: SettingWithCopyWarning: \n",
      "A value is trying to be set on a copy of a slice from a DataFrame\n",
      "\n",
      "See the caveats in the documentation: https://pandas.pydata.org/pandas-docs/stable/user_guide/indexing.html#returning-a-view-versus-a-copy\n",
      "  self._setitem_with_indexer(indexer, value)\n"
     ]
    },
    {
     "name": "stdout",
     "output_type": "stream",
     "text": [
      "PMAM3.csv (4170, 9) (472009, 9)\n",
      "POMO3.csv\n",
      "   Ativo        Data    Volume    Fechamento      Abertura        Mínimo  \\\n",
      "0  POMO3  1988-06-01  0.000560  5.508553e-09  5.653515e-09  5.508553e-09   \n",
      "1  POMO3  1988-06-06  0.000497  5.508553e-09  5.508553e-09  5.508553e-09   \n",
      "2  POMO3  1988-06-07  0.000305  6.088401e-09  6.088401e-09  6.088401e-09   \n",
      "3  POMO3  1988-06-09  0.000059  5.363591e-09  5.363591e-09  5.363591e-09   \n",
      "4  POMO3  1988-06-13  0.000018  5.508553e-09  5.508553e-09  5.508553e-09   \n",
      "\n",
      "         Máximo         Médio  Variacao  \n",
      "0  5.653515e-09  5.581034e-09         0  \n",
      "1  5.508553e-09  5.508553e-09         0  \n",
      "2  6.088401e-09  6.088401e-09         0  \n",
      "3  5.363591e-09  5.363591e-09         0  \n",
      "4  5.508553e-09  5.508553e-09         0  \n"
     ]
    },
    {
     "name": "stderr",
     "output_type": "stream",
     "text": [
      "/home/alex/.local/lib/python3.6/site-packages/pandas/core/indexing.py:670: SettingWithCopyWarning: \n",
      "A value is trying to be set on a copy of a slice from a DataFrame\n",
      "\n",
      "See the caveats in the documentation: https://pandas.pydata.org/pandas-docs/stable/user_guide/indexing.html#returning-a-view-versus-a-copy\n",
      "  self._setitem_with_indexer(indexer, value)\n"
     ]
    },
    {
     "name": "stdout",
     "output_type": "stream",
     "text": [
      "POMO3.csv (3993, 9) (476179, 9)\n",
      "POMO4.csv\n",
      "   Ativo        Data    Volume    Fechamento      Abertura        Mínimo  \\\n",
      "0  POMO4  1989-04-05  0.001321  1.737923e-08  1.737923e-08  1.737923e-08   \n",
      "1  POMO4  1989-04-06  0.000436  1.813485e-08  1.813485e-08  1.813485e-08   \n",
      "2  POMO4  1989-04-07  0.001155  1.919272e-08  1.919272e-08  1.919272e-08   \n",
      "3  POMO4  1989-04-10  0.000186  1.934384e-08  1.934384e-08  1.934384e-08   \n",
      "4  POMO4  1989-04-11  0.036041  1.873934e-08  1.934384e-08  1.873783e-08   \n",
      "\n",
      "         Máximo         Médio  Variacao  \n",
      "0  1.737923e-08  1.737923e-08         0  \n",
      "1  1.813485e-08  1.813485e-08         0  \n",
      "2  1.919272e-08  1.919272e-08         0  \n",
      "3  1.934384e-08  1.934384e-08         0  \n",
      "4  1.964609e-08  1.933931e-08         0  \n"
     ]
    },
    {
     "name": "stderr",
     "output_type": "stream",
     "text": [
      "/home/alex/.local/lib/python3.6/site-packages/pandas/core/indexing.py:670: SettingWithCopyWarning: \n",
      "A value is trying to be set on a copy of a slice from a DataFrame\n",
      "\n",
      "See the caveats in the documentation: https://pandas.pydata.org/pandas-docs/stable/user_guide/indexing.html#returning-a-view-versus-a-copy\n",
      "  self._setitem_with_indexer(indexer, value)\n"
     ]
    },
    {
     "name": "stdout",
     "output_type": "stream",
     "text": [
      "POMO4.csv (6903, 9) (480172, 9)\n",
      "POSI3.csv\n",
      "   Ativo        Data       Volume  Fechamento   Abertura     Mínimo  \\\n",
      "0  POSI3  2006-12-08          0.0   18.954334  18.954334  18.954334   \n",
      "1  POSI3  2006-12-11  213191722.0   18.672036  19.357618  18.672036   \n",
      "2  POSI3  2006-12-12   27718531.0   18.736561  18.680101  18.389737   \n",
      "3  POSI3  2006-12-13   20352436.0   19.034991  18.752692  18.551051   \n",
      "4  POSI3  2006-12-14    6518714.0   19.188239  19.357618  19.043057   \n",
      "\n",
      "      Máximo      Médio  Variacao  \n",
      "0  18.954334  18.954334         0  \n",
      "1  19.744770  19.059188         0  \n",
      "2  18.857546  18.591379         0  \n",
      "3  19.034991  18.930137         0  \n",
      "4  19.357618  19.188239         0  \n"
     ]
    },
    {
     "name": "stderr",
     "output_type": "stream",
     "text": [
      "/home/alex/.local/lib/python3.6/site-packages/pandas/core/indexing.py:670: SettingWithCopyWarning: \n",
      "A value is trying to be set on a copy of a slice from a DataFrame\n",
      "\n",
      "See the caveats in the documentation: https://pandas.pydata.org/pandas-docs/stable/user_guide/indexing.html#returning-a-view-versus-a-copy\n",
      "  self._setitem_with_indexer(indexer, value)\n"
     ]
    },
    {
     "name": "stdout",
     "output_type": "stream",
     "text": [
      "POSI3.csv (3274, 9) (487075, 9)\n",
      "PRIO3.csv\n",
      "   Ativo        Data       Volume  Fechamento  Abertura   Mínimo  Máximo  \\\n",
      "0  PRIO3  2010-10-22          0.0       120.0   120.000  120.000  120.00   \n",
      "1  PRIO3  2010-10-25  590550369.0       116.7   120.500  110.504  122.00   \n",
      "2  PRIO3  2010-10-26  163944504.0       112.5   114.001  112.500  117.00   \n",
      "3  PRIO3  2010-10-27   84097094.0       113.5   112.500  111.012  116.00   \n",
      "4  PRIO3  2010-10-28   64907026.0       112.5   113.550  110.500  113.55   \n",
      "\n",
      "     Médio  Variacao  \n",
      "0  120.000         0  \n",
      "1  117.266         0  \n",
      "2  113.850         0  \n",
      "3  114.107         0  \n",
      "4  111.909         0  \n"
     ]
    },
    {
     "name": "stderr",
     "output_type": "stream",
     "text": [
      "/home/alex/.local/lib/python3.6/site-packages/pandas/core/indexing.py:670: SettingWithCopyWarning: \n",
      "A value is trying to be set on a copy of a slice from a DataFrame\n",
      "\n",
      "See the caveats in the documentation: https://pandas.pydata.org/pandas-docs/stable/user_guide/indexing.html#returning-a-view-versus-a-copy\n",
      "  self._setitem_with_indexer(indexer, value)\n"
     ]
    },
    {
     "name": "stdout",
     "output_type": "stream",
     "text": [
      "PRIO3.csv (2319, 9) (490349, 9)\n",
      "PSSA3.csv\n",
      "   Ativo        Data      Volume  Fechamento  Abertura    Mínimo    Máximo  \\\n",
      "0  PSSA3  2004-11-19         0.0    3.013243  3.013243  3.013243  3.013243   \n",
      "1  PSSA3  2004-11-22  83693698.0    3.206091  3.358762  3.135380  3.358762   \n",
      "2  PSSA3  2004-11-23  14356606.0    3.173950  3.215733  3.141808  3.276802   \n",
      "3  PSSA3  2004-11-24   7075225.0    3.148237  3.181985  3.085561  3.230197   \n",
      "4  PSSA3  2004-11-25   5815279.0    3.072705  3.165914  3.037349  3.165914   \n",
      "\n",
      "      Médio  Variacao  \n",
      "0  3.013243         0  \n",
      "1  3.280016         0  \n",
      "2  3.186806         0  \n",
      "3  3.125738         0  \n",
      "4  3.077526         0  \n"
     ]
    },
    {
     "name": "stderr",
     "output_type": "stream",
     "text": [
      "/home/alex/.local/lib/python3.6/site-packages/pandas/core/indexing.py:670: SettingWithCopyWarning: \n",
      "A value is trying to be set on a copy of a slice from a DataFrame\n",
      "\n",
      "See the caveats in the documentation: https://pandas.pydata.org/pandas-docs/stable/user_guide/indexing.html#returning-a-view-versus-a-copy\n",
      "  self._setitem_with_indexer(indexer, value)\n"
     ]
    },
    {
     "name": "stdout",
     "output_type": "stream",
     "text": [
      "PSSA3.csv (3784, 9) (492668, 9)\n",
      "PTBL3.csv\n",
      "   Ativo        Data         Volume  Fechamento  Abertura   Mínimo   Máximo  \\\n",
      "0  PTBL3  1995-01-06   34249.999523     0.84134   0.84134  0.84134  0.84134   \n",
      "1  PTBL3  1995-01-16   34249.999523     0.84134   0.84134  0.84134  0.84134   \n",
      "2  PTBL3  1995-02-17   34249.999523     0.84134   0.84134  0.84134  0.84134   \n",
      "3  PTBL3  1995-03-16   34249.999523     0.84134   0.84134  0.84134  0.84134   \n",
      "4  PTBL3  1995-04-07  294549.995900     0.84134   0.84134  0.84134  0.84134   \n",
      "\n",
      "     Médio  Variacao  \n",
      "0  0.84134         0  \n",
      "1  0.84134         0  \n",
      "2  0.84134         0  \n",
      "3  0.84134         0  \n",
      "4  0.84134         0  \n"
     ]
    },
    {
     "name": "stderr",
     "output_type": "stream",
     "text": [
      "/home/alex/.local/lib/python3.6/site-packages/pandas/core/indexing.py:670: SettingWithCopyWarning: \n",
      "A value is trying to be set on a copy of a slice from a DataFrame\n",
      "\n",
      "See the caveats in the documentation: https://pandas.pydata.org/pandas-docs/stable/user_guide/indexing.html#returning-a-view-versus-a-copy\n",
      "  self._setitem_with_indexer(indexer, value)\n"
     ]
    },
    {
     "name": "stdout",
     "output_type": "stream",
     "text": [
      "PTBL3.csv (3677, 9) (496452, 9)\n",
      "QUAL3.csv\n",
      "   Ativo        Data       Volume  Fechamento  Abertura    Mínimo    Máximo  \\\n",
      "0  QUAL3  2011-06-28          0.0    8.088945  8.088945  8.088945  8.088945   \n",
      "1  QUAL3  2011-06-29  141035713.0    9.364509  8.182279  8.101389  9.426732   \n",
      "2  QUAL3  2011-06-30   12000959.0    9.271175  9.445399  9.084507  9.445399   \n",
      "3  QUAL3  2011-07-01    5215710.0    9.333398  9.022285  8.972507  9.457843   \n",
      "4  QUAL3  2011-07-04    5281001.0    9.177841  9.215175  9.084507  9.264953   \n",
      "\n",
      "      Médio  Variacao  \n",
      "0  8.088945         0  \n",
      "1  8.692505         0  \n",
      "2  9.246286         0  \n",
      "3  9.246286         0  \n",
      "4  9.165397         0  \n"
     ]
    },
    {
     "name": "stderr",
     "output_type": "stream",
     "text": [
      "/home/alex/.local/lib/python3.6/site-packages/pandas/core/indexing.py:670: SettingWithCopyWarning: \n",
      "A value is trying to be set on a copy of a slice from a DataFrame\n",
      "\n",
      "See the caveats in the documentation: https://pandas.pydata.org/pandas-docs/stable/user_guide/indexing.html#returning-a-view-versus-a-copy\n",
      "  self._setitem_with_indexer(indexer, value)\n"
     ]
    },
    {
     "name": "stdout",
     "output_type": "stream",
     "text": [
      "QUAL3.csv (2153, 9) (500129, 9)\n",
      "RADL3.csv\n",
      "   Ativo        Data   Volume  Fechamento  Abertura    Mínimo    Máximo  \\\n",
      "0  RADL3  1996-04-29   3000.0    0.104518  0.104518  0.104518  0.104518   \n",
      "1  RADL3  1996-05-03   3000.0    0.104518  0.104518  0.104518  0.104518   \n",
      "2  RADL3  1996-08-12  12488.0    0.111486  0.108350  0.108350  0.111486   \n",
      "3  RADL3  1996-10-11   1500.0    0.104518  0.104518  0.104518  0.104518   \n",
      "4  RADL3  1997-10-09   1600.0    0.113237  0.113237  0.113237  0.113237   \n",
      "\n",
      "      Médio  Variacao  \n",
      "0  0.104518         0  \n",
      "1  0.104518         0  \n",
      "2  0.108768         0  \n",
      "3  0.104518         0  \n",
      "4  0.113237         0  \n"
     ]
    },
    {
     "name": "stderr",
     "output_type": "stream",
     "text": [
      "/home/alex/.local/lib/python3.6/site-packages/pandas/core/indexing.py:670: SettingWithCopyWarning: \n",
      "A value is trying to be set on a copy of a slice from a DataFrame\n",
      "\n",
      "See the caveats in the documentation: https://pandas.pydata.org/pandas-docs/stable/user_guide/indexing.html#returning-a-view-versus-a-copy\n",
      "  self._setitem_with_indexer(indexer, value)\n"
     ]
    },
    {
     "name": "stdout",
     "output_type": "stream",
     "text": [
      "RADL3.csv (3211, 9) (502282, 9)\n",
      "RAIL3.csv\n",
      "   Ativo        Data      Volume  Fechamento  Abertura  Mínimo  Máximo  Médio  \\\n",
      "0  RAIL3  2017-03-13  26261057.0        8.74      8.70    8.55    8.83   8.73   \n",
      "1  RAIL3  2017-03-14  27203869.0        8.66      8.73    8.36    8.85   8.64   \n",
      "2  RAIL3  2017-03-15  51274353.0        8.95      8.65    8.42    8.95   8.76   \n",
      "3  RAIL3  2017-03-16  50903409.0        8.88      9.00    8.73    9.06   8.95   \n",
      "4  RAIL3  2017-03-17  62810462.0        9.00      8.91    8.70    9.05   8.94   \n",
      "\n",
      "   Variacao  \n",
      "0         0  \n",
      "1         0  \n",
      "2         0  \n",
      "3         0  \n",
      "4         0  \n",
      "RAIL3.csv (740, 9) (505493, 9)\n",
      "RANI3.csv\n",
      "   Ativo        Data    Volume    Fechamento      Abertura        Mínimo  \\\n",
      "0  RANI3  1988-06-02  0.000073  1.020994e-08  1.020994e-08  1.020994e-08   \n",
      "1  RANI3  1988-06-08  0.000080  8.984746e-09  8.984746e-09  8.984746e-09   \n",
      "2  RANI3  1988-06-09  0.004608  9.393144e-09  9.393144e-09  9.393144e-09   \n",
      "3  RANI3  1988-06-10  0.000510  9.393144e-09  9.393144e-09  9.393144e-09   \n",
      "4  RANI3  1988-06-17  0.000017  9.393144e-09  9.393552e-09  9.393144e-09   \n",
      "\n",
      "         Máximo         Médio  Variacao  \n",
      "0  1.020994e-08  1.020994e-08         0  \n",
      "1  8.984746e-09  8.984746e-09         0  \n",
      "2  9.393144e-09  9.393144e-09         0  \n",
      "3  9.393144e-09  9.393144e-09         0  \n",
      "4  9.393552e-09  9.393552e-09         0  \n"
     ]
    },
    {
     "name": "stderr",
     "output_type": "stream",
     "text": [
      "/home/alex/.local/lib/python3.6/site-packages/pandas/core/indexing.py:670: SettingWithCopyWarning: \n",
      "A value is trying to be set on a copy of a slice from a DataFrame\n",
      "\n",
      "See the caveats in the documentation: https://pandas.pydata.org/pandas-docs/stable/user_guide/indexing.html#returning-a-view-versus-a-copy\n",
      "  self._setitem_with_indexer(indexer, value)\n",
      "/home/alex/.local/lib/python3.6/site-packages/pandas/core/indexing.py:670: SettingWithCopyWarning: \n",
      "A value is trying to be set on a copy of a slice from a DataFrame\n",
      "\n",
      "See the caveats in the documentation: https://pandas.pydata.org/pandas-docs/stable/user_guide/indexing.html#returning-a-view-versus-a-copy\n",
      "  self._setitem_with_indexer(indexer, value)\n"
     ]
    },
    {
     "name": "stdout",
     "output_type": "stream",
     "text": [
      "RANI3.csv (3232, 9) (506233, 9)\n",
      "RAPT3.csv\n",
      "   Ativo        Data     Volume  Fechamento  Abertura    Mínimo    Máximo  \\\n",
      "0  RAPT3  1993-07-23   2.000000    0.001996  0.001996  0.001996  0.001996   \n",
      "1  RAPT3  1993-08-13  21.814545    0.002177  0.002177  0.002177  0.002177   \n",
      "2  RAPT3  1993-08-16  34.925455    0.002358  0.002177  0.002177  0.002358   \n",
      "3  RAPT3  1993-08-17   2.800000    0.002540  0.002540  0.002540  0.002540   \n",
      "4  RAPT3  1993-08-26   1.363636    0.002721  0.002721  0.002721  0.002721   \n",
      "\n",
      "      Médio  Variacao  \n",
      "0  0.001996         0  \n",
      "1  0.002177         0  \n",
      "2  0.002323         0  \n",
      "3  0.002540         0  \n",
      "4  0.002721         0  \n"
     ]
    },
    {
     "name": "stderr",
     "output_type": "stream",
     "text": [
      "/home/alex/.local/lib/python3.6/site-packages/pandas/core/indexing.py:670: SettingWithCopyWarning: \n",
      "A value is trying to be set on a copy of a slice from a DataFrame\n",
      "\n",
      "See the caveats in the documentation: https://pandas.pydata.org/pandas-docs/stable/user_guide/indexing.html#returning-a-view-versus-a-copy\n",
      "  self._setitem_with_indexer(indexer, value)\n"
     ]
    },
    {
     "name": "stdout",
     "output_type": "stream",
     "text": [
      "RAPT3.csv (2960, 9) (509465, 9)\n",
      "RAPT4.csv\n",
      "   Ativo        Data    Volume    Fechamento      Abertura        Mínimo  \\\n",
      "0  RAPT4  1986-01-02  0.000106  9.539129e-10  9.850187e-10  9.539129e-10   \n",
      "1  RAPT4  1986-01-03  0.000199  1.036862e-09  9.850187e-10  9.850187e-10   \n",
      "2  RAPT4  1986-01-06  0.000097  1.233865e-09  1.140548e-09  1.088705e-09   \n",
      "3  RAPT4  1986-01-07  0.000106  1.245271e-09  1.244234e-09  1.192391e-09   \n",
      "4  RAPT4  1986-01-08  0.000042  1.182022e-09  1.244234e-09  1.171654e-09   \n",
      "\n",
      "         Máximo         Médio  Variacao  \n",
      "0  9.850187e-10  9.539129e-10         0  \n",
      "1  1.088705e-09  1.043083e-09         0  \n",
      "2  1.243197e-09  1.142622e-09         0  \n",
      "3  1.245271e-09  1.224534e-09         0  \n",
      "4  1.244234e-09  1.182022e-09         0  \n"
     ]
    },
    {
     "name": "stderr",
     "output_type": "stream",
     "text": [
      "/home/alex/.local/lib/python3.6/site-packages/pandas/core/indexing.py:670: SettingWithCopyWarning: \n",
      "A value is trying to be set on a copy of a slice from a DataFrame\n",
      "\n",
      "See the caveats in the documentation: https://pandas.pydata.org/pandas-docs/stable/user_guide/indexing.html#returning-a-view-versus-a-copy\n",
      "  self._setitem_with_indexer(indexer, value)\n"
     ]
    },
    {
     "name": "stdout",
     "output_type": "stream",
     "text": [
      "RAPT4.csv (7859, 9) (512425, 9)\n",
      "RDNI3.csv\n",
      "   Ativo        Data      Volume  Fechamento   Abertura     Mínimo     Máximo  \\\n",
      "0  RDNI3  2007-01-30         0.0   13.936366  13.936366  13.936366  13.936366   \n",
      "1  RDNI3  2007-01-31  91803469.0   16.259093  14.386618  14.386618  16.373443   \n",
      "2  RDNI3  2007-02-01  30007526.0   15.723079  16.337709  15.451499  16.973779   \n",
      "3  RDNI3  2007-02-02  12476676.0   15.751667  15.572995  15.508674  15.780254   \n",
      "4  RDNI3  2007-02-05  10123083.0   16.073275  15.580142  15.580142  16.151891   \n",
      "\n",
      "       Médio  Variacao  \n",
      "0  13.936366         0  \n",
      "1  15.394324         0  \n",
      "2  15.794548         0  \n",
      "3  15.715932         0  \n",
      "4  15.794548         0  \n"
     ]
    },
    {
     "name": "stderr",
     "output_type": "stream",
     "text": [
      "/home/alex/.local/lib/python3.6/site-packages/pandas/core/indexing.py:670: SettingWithCopyWarning: \n",
      "A value is trying to be set on a copy of a slice from a DataFrame\n",
      "\n",
      "See the caveats in the documentation: https://pandas.pydata.org/pandas-docs/stable/user_guide/indexing.html#returning-a-view-versus-a-copy\n",
      "  self._setitem_with_indexer(indexer, value)\n"
     ]
    },
    {
     "name": "stdout",
     "output_type": "stream",
     "text": [
      "RDNI3.csv (3153, 9) (520284, 9)\n",
      "RENT3.csv\n",
      "   Ativo        Data      Volume  Fechamento  Abertura    Mínimo    Máximo  \\\n",
      "0  RENT3  2005-05-20         0.0    0.812408  0.812408  0.812408  0.812408   \n",
      "1  RENT3  2005-05-23  32526660.0    0.812408  0.813114  0.791921  0.825830   \n",
      "2  RENT3  2005-05-24   6331217.0    0.811701  0.805343  0.791214  0.815940   \n",
      "3  RENT3  2005-05-25    844364.0    0.812408  0.812408  0.805343  0.812408   \n",
      "4  RENT3  2005-05-27   3598942.0    0.812408  0.812408  0.808875  0.812408   \n",
      "\n",
      "      Médio  Variacao  \n",
      "0  0.812408         0  \n",
      "1  0.813114         0  \n",
      "2  0.807462         0  \n",
      "3  0.810288         0  \n",
      "4  0.811701         0  \n"
     ]
    },
    {
     "name": "stderr",
     "output_type": "stream",
     "text": [
      "/home/alex/.local/lib/python3.6/site-packages/pandas/core/indexing.py:670: SettingWithCopyWarning: \n",
      "A value is trying to be set on a copy of a slice from a DataFrame\n",
      "\n",
      "See the caveats in the documentation: https://pandas.pydata.org/pandas-docs/stable/user_guide/indexing.html#returning-a-view-versus-a-copy\n",
      "  self._setitem_with_indexer(indexer, value)\n"
     ]
    },
    {
     "name": "stdout",
     "output_type": "stream",
     "text": [
      "RENT3.csv (3661, 9) (523437, 9)\n",
      "RLOG3.csv\n",
      "   Ativo        Data      Volume  Fechamento   Abertura     Mínimo     Máximo  \\\n",
      "0  RLOG3  2014-10-06  73278921.0   14.990156  15.525519  14.633248  16.596245   \n",
      "1  RLOG3  2014-10-07  27124199.0   14.990156  15.025847  14.704630  15.382756   \n",
      "2  RLOG3  2014-10-08  14214101.0   14.811702  15.275683  14.276339  16.060882   \n",
      "3  RLOG3  2014-10-09  18080854.0   14.526175  15.097229  14.133576  15.525519   \n",
      "4  RLOG3  2014-10-10  33278564.0   13.098541  14.276339  12.884396  14.276339   \n",
      "\n",
      "       Médio  Variacao  \n",
      "0  15.489828         0  \n",
      "1  14.918775         0  \n",
      "2  15.097229         0  \n",
      "3  14.490485         0  \n",
      "4  13.562522         0  \n"
     ]
    },
    {
     "name": "stderr",
     "output_type": "stream",
     "text": [
      "/home/alex/.local/lib/python3.6/site-packages/pandas/core/indexing.py:670: SettingWithCopyWarning: \n",
      "A value is trying to be set on a copy of a slice from a DataFrame\n",
      "\n",
      "See the caveats in the documentation: https://pandas.pydata.org/pandas-docs/stable/user_guide/indexing.html#returning-a-view-versus-a-copy\n",
      "  self._setitem_with_indexer(indexer, value)\n"
     ]
    },
    {
     "name": "stdout",
     "output_type": "stream",
     "text": [
      "RLOG3.csv (1341, 9) (527098, 9)\n",
      "RNEW11.csv\n",
      "    Ativo        Data     Volume  Fechamento    Abertura      Mínimo  \\\n",
      "0  RNEW11  2010-07-12        0.0  110.319237  110.319237  110.319237   \n",
      "1  RNEW11  2010-07-13  5357877.0  110.319237  110.319237  104.067813   \n",
      "2  RNEW11  2010-07-14  1320505.0  110.172144  108.480583  107.745121   \n",
      "3  RNEW11  2010-07-15   571881.0  108.112852  108.186398  108.112852   \n",
      "4  RNEW11  2010-07-16   378179.0  102.964621  108.701221  102.964621   \n",
      "\n",
      "       Máximo       Médio  Variacao  \n",
      "0  110.319237  110.319237         0  \n",
      "1  110.319237  108.627675         0  \n",
      "2  110.172144  109.216044         0  \n",
      "3  108.921860  108.701221         0  \n",
      "4  108.701221  104.950367         0  \n"
     ]
    },
    {
     "name": "stderr",
     "output_type": "stream",
     "text": [
      "/home/alex/.local/lib/python3.6/site-packages/pandas/core/indexing.py:670: SettingWithCopyWarning: \n",
      "A value is trying to be set on a copy of a slice from a DataFrame\n",
      "\n",
      "See the caveats in the documentation: https://pandas.pydata.org/pandas-docs/stable/user_guide/indexing.html#returning-a-view-versus-a-copy\n",
      "  self._setitem_with_indexer(indexer, value)\n"
     ]
    },
    {
     "name": "stdout",
     "output_type": "stream",
     "text": [
      "RNEW11.csv (2351, 9) (528439, 9)\n",
      "RNEW3.csv\n",
      "   Ativo        Data   Volume  Fechamento    Abertura      Mínimo      Máximo  \\\n",
      "0  RNEW3  2013-08-30  29988.0   60.310014   60.310014   60.310014   60.310014   \n",
      "1  RNEW3  2013-09-02  23562.0   60.310014   60.310014   60.310014   60.310014   \n",
      "2  RNEW3  2013-09-04   2000.0  112.623743  112.623743  112.623743  112.623743   \n",
      "3  RNEW3  2013-09-06  10000.0  112.623743  112.623743  112.623743  112.623743   \n",
      "4  RNEW3  2013-09-10   4000.0  112.623743  112.623743  112.623743  112.623743   \n",
      "\n",
      "        Médio  Variacao  \n",
      "0   60.310014         0  \n",
      "1   60.310014         0  \n",
      "2  112.623743         0  \n",
      "3  112.623743         0  \n",
      "4  112.623743         0  \n",
      "RNEW3.csv (747, 9) (530790, 9)\n",
      "RNEW4.csv\n",
      "   Ativo        Data     Volume  Fechamento  Abertura  Mínimo  Máximo  Médio  \\\n",
      "0  RNEW4  2017-03-28      820.0         2.0       2.0     2.0     2.0    2.0   \n",
      "1  RNEW4  2017-03-29   185108.0         8.5       3.6     3.6    11.8    8.7   \n",
      "2  RNEW4  2017-03-30  1485849.0        14.0      10.0     9.9    18.5   15.1   \n",
      "3  RNEW4  2017-03-31  2343442.0        17.1      16.4    15.5    19.0   17.4   \n",
      "4  RNEW4  2017-04-03  2863639.0        21.3      19.4    18.6    21.3   19.9   \n",
      "\n",
      "   Variacao  \n",
      "0         0  \n",
      "1         0  \n",
      "2         0  \n",
      "3         0  \n",
      "4         0  \n"
     ]
    },
    {
     "name": "stderr",
     "output_type": "stream",
     "text": [
      "/home/alex/.local/lib/python3.6/site-packages/pandas/core/indexing.py:670: SettingWithCopyWarning: \n",
      "A value is trying to be set on a copy of a slice from a DataFrame\n",
      "\n",
      "See the caveats in the documentation: https://pandas.pydata.org/pandas-docs/stable/user_guide/indexing.html#returning-a-view-versus-a-copy\n",
      "  self._setitem_with_indexer(indexer, value)\n",
      "/home/alex/.local/lib/python3.6/site-packages/pandas/core/indexing.py:670: SettingWithCopyWarning: \n",
      "A value is trying to be set on a copy of a slice from a DataFrame\n",
      "\n",
      "See the caveats in the documentation: https://pandas.pydata.org/pandas-docs/stable/user_guide/indexing.html#returning-a-view-versus-a-copy\n",
      "  self._setitem_with_indexer(indexer, value)\n"
     ]
    },
    {
     "name": "stdout",
     "output_type": "stream",
     "text": [
      "RNEW4.csv (725, 9) (531537, 9)\n",
      "RPMG3.csv\n",
      "   Ativo        Data       Volume  Fechamento  Abertura    Mínimo    Máximo  \\\n",
      "0  RPMG3  1993-08-25    13.454582    0.008603  0.008603  0.008603  0.008603   \n",
      "1  RPMG3  1994-02-18   218.178182    0.139506  0.139506  0.139506  0.139506   \n",
      "2  RPMG3  1994-03-11   290.909091    0.186011  0.186011  0.186011  0.186011   \n",
      "3  RPMG3  1994-03-15   236.363636    0.151134  0.151134  0.151134  0.151134   \n",
      "4  RPMG3  1994-04-07  1563.636364    0.232514  0.255765  0.232514  0.255765   \n",
      "\n",
      "      Médio  Variacao  \n",
      "0  0.008603         0  \n",
      "1  0.139506         0  \n",
      "2  0.186011         0  \n",
      "3  0.151134         0  \n",
      "4  0.249952         0  \n"
     ]
    },
    {
     "name": "stderr",
     "output_type": "stream",
     "text": [
      "/home/alex/.local/lib/python3.6/site-packages/pandas/core/indexing.py:670: SettingWithCopyWarning: \n",
      "A value is trying to be set on a copy of a slice from a DataFrame\n",
      "\n",
      "See the caveats in the documentation: https://pandas.pydata.org/pandas-docs/stable/user_guide/indexing.html#returning-a-view-versus-a-copy\n",
      "  self._setitem_with_indexer(indexer, value)\n"
     ]
    },
    {
     "name": "stdout",
     "output_type": "stream",
     "text": [
      "RPMG3.csv (3190, 9) (532262, 9)\n",
      "RSID3.csv\n",
      "   Ativo        Data         Volume  Fechamento    Abertura      Mínimo  \\\n",
      "0  RSID3  1997-07-22   30499.999523  297.844934  297.844934  297.844934   \n",
      "1  RSID3  1997-07-23   62199.997902  303.704173  303.704173  303.704173   \n",
      "2  RSID3  1997-07-24   62199.997902  303.704173  303.704173  303.704173   \n",
      "3  RSID3  1997-07-25  123999.996180  301.751093  302.727633  301.751093   \n",
      "4  RSID3  1997-07-30  381249.994040  297.844934  297.844934  297.844934   \n",
      "\n",
      "       Máximo       Médio  Variacao  \n",
      "0  297.844934  297.844934         0  \n",
      "1  303.704173  303.704173         0  \n",
      "2  303.704173  303.704173         0  \n",
      "3  302.727633  302.727633         0  \n",
      "4  297.844934  297.844934         0  \n"
     ]
    },
    {
     "name": "stderr",
     "output_type": "stream",
     "text": [
      "/home/alex/.local/lib/python3.6/site-packages/pandas/core/indexing.py:670: SettingWithCopyWarning: \n",
      "A value is trying to be set on a copy of a slice from a DataFrame\n",
      "\n",
      "See the caveats in the documentation: https://pandas.pydata.org/pandas-docs/stable/user_guide/indexing.html#returning-a-view-versus-a-copy\n",
      "  self._setitem_with_indexer(indexer, value)\n"
     ]
    },
    {
     "name": "stdout",
     "output_type": "stream",
     "text": [
      "RSID3.csv (4535, 9) (535452, 9)\n",
      "SANB11.csv\n",
      "    Ativo        Data        Volume  Fechamento   Abertura     Mínimo  \\\n",
      "0  SANB11  2009-10-07  1.932741e+09   11.695258  12.150246  11.695258   \n",
      "1  SANB11  2009-10-08  6.690587e+08   11.710769  11.736621  11.374698   \n",
      "2  SANB11  2009-10-09  1.423615e+08   11.824516  11.700428  11.669407   \n",
      "3  SANB11  2009-10-13  1.593787e+08   11.783154  11.788324  11.576341   \n",
      "4  SANB11  2009-10-14  1.708645e+08   11.705599  11.834857  11.664236   \n",
      "\n",
      "      Máximo      Médio  Variacao  \n",
      "0  12.222631  11.933093         0  \n",
      "1  11.974455  11.659066         0  \n",
      "2  11.891730  11.819346         0  \n",
      "3  11.865879  11.700428         0  \n",
      "4  11.886560  11.731450         0  \n"
     ]
    },
    {
     "name": "stderr",
     "output_type": "stream",
     "text": [
      "/home/alex/.local/lib/python3.6/site-packages/pandas/core/indexing.py:670: SettingWithCopyWarning: \n",
      "A value is trying to be set on a copy of a slice from a DataFrame\n",
      "\n",
      "See the caveats in the documentation: https://pandas.pydata.org/pandas-docs/stable/user_guide/indexing.html#returning-a-view-versus-a-copy\n",
      "  self._setitem_with_indexer(indexer, value)\n"
     ]
    },
    {
     "name": "stdout",
     "output_type": "stream",
     "text": [
      "SANB11.csv (2576, 9) (539987, 9)\n",
      "SANB3.csv\n",
      "   Ativo        Data    Volume  Fechamento  Abertura    Mínimo    Máximo  \\\n",
      "0  SANB3  2007-04-03     80.00    4.078168  4.078168  4.078168  4.078168   \n",
      "1  SANB3  2007-04-04   3815.00    4.333054  4.432459  4.078168  4.432459   \n",
      "2  SANB3  2007-04-05   3972.50    4.192867  4.432459  4.192867  4.432459   \n",
      "3  SANB3  2007-04-09  48537.83    4.027191  3.950726  3.950726  4.129146   \n",
      "4  SANB3  2007-04-10   2573.44    4.129146  3.823283  3.823283  4.129146   \n",
      "\n",
      "      Médio  Variacao  \n",
      "0  4.078168         0  \n",
      "1  4.399834         0  \n",
      "2  4.402383         0  \n",
      "3  4.037642         0  \n",
      "4  3.975450         0  \n"
     ]
    },
    {
     "name": "stderr",
     "output_type": "stream",
     "text": [
      "/home/alex/.local/lib/python3.6/site-packages/pandas/core/indexing.py:670: SettingWithCopyWarning: \n",
      "A value is trying to be set on a copy of a slice from a DataFrame\n",
      "\n",
      "See the caveats in the documentation: https://pandas.pydata.org/pandas-docs/stable/user_guide/indexing.html#returning-a-view-versus-a-copy\n",
      "  self._setitem_with_indexer(indexer, value)\n"
     ]
    },
    {
     "name": "stdout",
     "output_type": "stream",
     "text": [
      "SANB3.csv (2924, 9) (542563, 9)\n",
      "SANB4.csv\n",
      "   Ativo        Data   Volume  Fechamento  Abertura    Mínimo    Máximo  \\\n",
      "0  SANB4  1999-04-20    900.0    0.330387  0.330387  0.330387  0.330387   \n",
      "1  SANB4  1999-04-22    432.0    0.330387  0.330387  0.330387  0.330387   \n",
      "2  SANB4  1999-05-05  14775.0    0.361590  0.361590  0.361590  0.361590   \n",
      "3  SANB4  1999-05-07  15400.0    0.367097  0.367097  0.367097  0.367097   \n",
      "4  SANB4  1999-05-14   1080.0    0.330387  0.330387  0.330387  0.330387   \n",
      "\n",
      "      Médio  Variacao  \n",
      "0  0.330387         0  \n",
      "1  0.330387         0  \n",
      "2  0.361590         0  \n",
      "3  0.367097         0  \n",
      "4  0.330387         0  \n"
     ]
    },
    {
     "name": "stderr",
     "output_type": "stream",
     "text": [
      "/home/alex/.local/lib/python3.6/site-packages/pandas/core/indexing.py:670: SettingWithCopyWarning: \n",
      "A value is trying to be set on a copy of a slice from a DataFrame\n",
      "\n",
      "See the caveats in the documentation: https://pandas.pydata.org/pandas-docs/stable/user_guide/indexing.html#returning-a-view-versus-a-copy\n",
      "  self._setitem_with_indexer(indexer, value)\n"
     ]
    },
    {
     "name": "stdout",
     "output_type": "stream",
     "text": [
      "SANB4.csv (3787, 9) (545487, 9)\n",
      "SAPR11.csv\n",
      "    Ativo        Data      Volume  Fechamento   Abertura     Mínimo  \\\n",
      "0  SAPR11  2017-11-22   9870738.0   52.564609  50.470021  50.470021   \n",
      "1  SAPR11  2017-11-23  22288777.0   52.147430  52.581991  51.278306   \n",
      "2  SAPR11  2017-11-24  14390587.0   51.808471  52.147430  51.730250   \n",
      "3  SAPR11  2017-11-27  23061153.0   51.278306  52.043135  50.322270   \n",
      "4  SAPR11  2017-11-28  21481923.0   49.887708  51.921457  49.887708   \n",
      "\n",
      "      Máximo      Médio  Variacao  \n",
      "0  52.747125  51.930149         0  \n",
      "1  52.581991  52.043135         0  \n",
      "2  52.295181  51.999679         0  \n",
      "3  52.043135  50.991495         0  \n",
      "4  51.921457  50.470021         0  \n",
      "SAPR11.csv (567, 9) (549274, 9)\n",
      "SAPR3.csv\n",
      "   Ativo        Data  Volume  Fechamento  Abertura    Mínimo    Máximo  \\\n",
      "0  SAPR3  2013-06-07  6560.0    5.336219  5.336219  5.336219  5.336219   \n",
      "1  SAPR3  2013-10-09   819.0    5.420345  5.420345  5.420345  5.420345   \n",
      "2  SAPR3  2014-08-11   787.0    5.500873  5.500873  5.500873  5.500873   \n",
      "3  SAPR3  2014-12-02   788.0    5.507862  5.507862  5.507862  5.507862   \n",
      "4  SAPR3  2015-05-21  1568.0    5.646166  5.646166  5.646166  5.646166   \n",
      "\n",
      "      Médio  Variacao  \n",
      "0  5.336219         0  \n",
      "1  5.420345         0  \n",
      "2  5.500873         0  \n",
      "3  5.507862         0  \n",
      "4  5.646166         0  \n"
     ]
    },
    {
     "name": "stderr",
     "output_type": "stream",
     "text": [
      "/home/alex/.local/lib/python3.6/site-packages/pandas/core/indexing.py:670: SettingWithCopyWarning: \n",
      "A value is trying to be set on a copy of a slice from a DataFrame\n",
      "\n",
      "See the caveats in the documentation: https://pandas.pydata.org/pandas-docs/stable/user_guide/indexing.html#returning-a-view-versus-a-copy\n",
      "  self._setitem_with_indexer(indexer, value)\n",
      "/home/alex/.local/lib/python3.6/site-packages/pandas/core/indexing.py:670: SettingWithCopyWarning: \n",
      "A value is trying to be set on a copy of a slice from a DataFrame\n",
      "\n",
      "See the caveats in the documentation: https://pandas.pydata.org/pandas-docs/stable/user_guide/indexing.html#returning-a-view-versus-a-copy\n",
      "  self._setitem_with_indexer(indexer, value)\n"
     ]
    },
    {
     "name": "stdout",
     "output_type": "stream",
     "text": [
      "SAPR3.csv (767, 9) (549841, 9)\n",
      "SAPR4.csv\n",
      "   Ativo        Data      Volume  Fechamento  Abertura    Mínimo    Máximo  \\\n",
      "0  SAPR4  2000-03-16  23200510.0    0.205904  0.233981  0.159107  0.233981   \n",
      "1  SAPR4  2000-03-17     19575.0    0.219943  0.215263  0.215263  0.219943   \n",
      "2  SAPR4  2000-03-20     12663.0    0.215263  0.216199  0.215263  0.216199   \n",
      "3  SAPR4  2000-03-21    381835.0    0.243341  0.215263  0.212455  0.252700   \n",
      "4  SAPR4  2000-03-22    469797.0    0.215263  0.243341  0.215263  0.243341   \n",
      "\n",
      "      Médio  Variacao  \n",
      "0  0.173146         0  \n",
      "1  0.215263         0  \n",
      "2  0.215263         0  \n",
      "3  0.216199         0  \n",
      "4  0.216199         0  \n"
     ]
    },
    {
     "name": "stderr",
     "output_type": "stream",
     "text": [
      "/home/alex/.local/lib/python3.6/site-packages/pandas/core/indexing.py:670: SettingWithCopyWarning: \n",
      "A value is trying to be set on a copy of a slice from a DataFrame\n",
      "\n",
      "See the caveats in the documentation: https://pandas.pydata.org/pandas-docs/stable/user_guide/indexing.html#returning-a-view-versus-a-copy\n",
      "  self._setitem_with_indexer(indexer, value)\n"
     ]
    },
    {
     "name": "stdout",
     "output_type": "stream",
     "text": [
      "SAPR4.csv (4750, 9) (550608, 9)\n",
      "SBSP3.csv\n",
      "   Ativo        Data        Volume  Fechamento  Abertura    Mínimo    Máximo  \\\n",
      "0  SBSP3  1996-11-11  1.000358e+07    0.726646  0.513985  0.513985  0.770977   \n",
      "1  SBSP3  1996-11-12  6.471490e+05    0.835225  0.783827  0.783827  0.835225   \n",
      "2  SBSP3  1996-11-13  5.214030e+05    0.963722  0.835225  0.835225  0.963722   \n",
      "3  SBSP3  1996-11-14  9.549300e+05    0.989421  0.970146  0.970146  1.027970   \n",
      "4  SBSP3  1996-11-18  7.311000e+04    1.012550  1.027970  1.002270  1.027970   \n",
      "\n",
      "      Médio  Variacao  \n",
      "0  0.517711         0  \n",
      "1  0.807342         0  \n",
      "2  0.887395         0  \n",
      "3  0.997644         0  \n",
      "4  1.021159         0  \n"
     ]
    },
    {
     "name": "stderr",
     "output_type": "stream",
     "text": [
      "/home/alex/.local/lib/python3.6/site-packages/pandas/core/indexing.py:670: SettingWithCopyWarning: \n",
      "A value is trying to be set on a copy of a slice from a DataFrame\n",
      "\n",
      "See the caveats in the documentation: https://pandas.pydata.org/pandas-docs/stable/user_guide/indexing.html#returning-a-view-versus-a-copy\n",
      "  self._setitem_with_indexer(indexer, value)\n"
     ]
    },
    {
     "name": "stdout",
     "output_type": "stream",
     "text": [
      "SBSP3.csv (5765, 9) (555358, 9)\n",
      "SCAR3.csv\n",
      "   Ativo        Data        Volume  Fechamento  Abertura    Mínimo    Máximo  \\\n",
      "0  SCAR3  1999-09-20    969.000000    1.593659  1.564328  1.564328  1.593659   \n",
      "1  SCAR3  1999-09-28  11769.000000    0.977705  0.879934  0.879934  1.013554   \n",
      "2  SCAR3  1999-09-29  18642.000000    0.912524  0.977705  0.912524  0.977705   \n",
      "3  SCAR3  1999-09-30  53365.000000    0.863639  0.977705  0.863639  0.977705   \n",
      "4  SCAR3  1999-10-01    292.000012    0.951633  0.951633  0.951633  0.951633   \n",
      "\n",
      "      Médio  Variacao  \n",
      "0  1.580623         0  \n",
      "1  0.984223         0  \n",
      "2  0.964669         0  \n",
      "3  0.961410         0  \n",
      "4  0.951633         0  \n"
     ]
    },
    {
     "name": "stderr",
     "output_type": "stream",
     "text": [
      "/home/alex/.local/lib/python3.6/site-packages/pandas/core/indexing.py:670: SettingWithCopyWarning: \n",
      "A value is trying to be set on a copy of a slice from a DataFrame\n",
      "\n",
      "See the caveats in the documentation: https://pandas.pydata.org/pandas-docs/stable/user_guide/indexing.html#returning-a-view-versus-a-copy\n",
      "  self._setitem_with_indexer(indexer, value)\n"
     ]
    },
    {
     "name": "stdout",
     "output_type": "stream",
     "text": [
      "SCAR3.csv (4011, 9) (561123, 9)\n",
      "SEER3.csv\n",
      "   Ativo        Data      Volume  Fechamento   Abertura     Mínimo     Máximo  \\\n",
      "0  SEER3  2013-10-28         0.0   14.527444  14.527444  14.527444  14.527444   \n",
      "1  SEER3  2013-10-29  73033521.0   14.261799  14.668567  14.162182  14.734978   \n",
      "2  SEER3  2013-10-30  19369335.0   14.527444  14.261799  14.187086  14.685170   \n",
      "3  SEER3  2013-10-31  21978425.0   14.901006  14.361416  14.361416  14.901006   \n",
      "4  SEER3  2013-11-01  14740143.0   15.150048  14.901006  14.901006  15.307775   \n",
      "\n",
      "       Médio  Variacao  \n",
      "0  14.527444         0  \n",
      "1  14.452731         0  \n",
      "2  14.386320         0  \n",
      "3  14.685170         0  \n",
      "4  15.208158         0  \n"
     ]
    },
    {
     "name": "stderr",
     "output_type": "stream",
     "text": [
      "/home/alex/.local/lib/python3.6/site-packages/pandas/core/indexing.py:670: SettingWithCopyWarning: \n",
      "A value is trying to be set on a copy of a slice from a DataFrame\n",
      "\n",
      "See the caveats in the documentation: https://pandas.pydata.org/pandas-docs/stable/user_guide/indexing.html#returning-a-view-versus-a-copy\n",
      "  self._setitem_with_indexer(indexer, value)\n"
     ]
    },
    {
     "name": "stdout",
     "output_type": "stream",
     "text": [
      "SEER3.csv (1572, 9) (565134, 9)\n",
      "SHUL4.csv\n",
      "   Ativo        Data         Volume  Fechamento  Abertura    Mínimo    Máximo  \\\n",
      "0  SHUL4  1995-05-05      73.600002    0.216515  0.216456  0.216456  0.216515   \n",
      "1  SHUL4  1995-05-09      37.500001    0.220633  0.220633  0.220633  0.220633   \n",
      "2  SHUL4  1995-05-12  174352.009480    0.200041  0.200041  0.200041  0.200041   \n",
      "3  SHUL4  1995-05-15  157310.999150    0.188274  0.194157  0.188274  0.194157   \n",
      "4  SHUL4  1995-05-16      35.000000    0.205924  0.205924  0.205924  0.205924   \n",
      "\n",
      "      Médio  Variacao  \n",
      "0  0.216515         0  \n",
      "1  0.220633         0  \n",
      "2  0.200041         0  \n",
      "3  0.194157         0  \n",
      "4  0.205924         0  \n"
     ]
    },
    {
     "name": "stderr",
     "output_type": "stream",
     "text": [
      "/home/alex/.local/lib/python3.6/site-packages/pandas/core/indexing.py:670: SettingWithCopyWarning: \n",
      "A value is trying to be set on a copy of a slice from a DataFrame\n",
      "\n",
      "See the caveats in the documentation: https://pandas.pydata.org/pandas-docs/stable/user_guide/indexing.html#returning-a-view-versus-a-copy\n",
      "  self._setitem_with_indexer(indexer, value)\n"
     ]
    },
    {
     "name": "stdout",
     "output_type": "stream",
     "text": [
      "SHUL4.csv (3811, 9) (566706, 9)\n",
      "SLED4.csv\n",
      "   Ativo        Data         Volume  Fechamento  Abertura    Mínimo    Máximo  \\\n",
      "0  SLED4  2000-03-10  167299.995420    7.741567  7.741567  7.741567  7.741567   \n",
      "1  SLED4  2000-03-15   16799.999237    7.773959  7.773959  7.773959  7.773959   \n",
      "2  SLED4  2000-03-16   17000.000000    7.866506  7.866506  7.866506  7.866506   \n",
      "3  SLED4  2000-03-21   34400.001526    7.959054  7.959054  7.959054  7.959054   \n",
      "4  SLED4  2000-03-23   17489.999771    8.093247  8.093247  8.093247  8.093247   \n",
      "\n",
      "      Médio  Variacao  \n",
      "0  7.741567         0  \n",
      "1  7.773959         0  \n",
      "2  7.866506         0  \n",
      "3  7.959054         0  \n",
      "4  8.093247         0  \n"
     ]
    },
    {
     "name": "stderr",
     "output_type": "stream",
     "text": [
      "/home/alex/.local/lib/python3.6/site-packages/pandas/core/indexing.py:670: SettingWithCopyWarning: \n",
      "A value is trying to be set on a copy of a slice from a DataFrame\n",
      "\n",
      "See the caveats in the documentation: https://pandas.pydata.org/pandas-docs/stable/user_guide/indexing.html#returning-a-view-versus-a-copy\n",
      "  self._setitem_with_indexer(indexer, value)\n"
     ]
    },
    {
     "name": "stdout",
     "output_type": "stream",
     "text": [
      "SLED4.csv (4444, 9) (570517, 9)\n",
      "SMLS3.csv\n",
      "   Ativo        Data       Volume  Fechamento   Abertura     Mínimo  \\\n",
      "0  SMLS3  2013-04-26          0.0   12.351453  12.351453  12.351453   \n",
      "1  SMLS3  2013-04-29  332832240.0   13.091402  12.949104  12.949104   \n",
      "2  SMLS3  2013-04-30   56086019.0   13.097094  13.091402  12.465292   \n",
      "3  SMLS3  2013-05-02    6864544.0   13.319079  12.920645  12.607589   \n",
      "4  SMLS3  2013-05-03   23681039.0   13.575215  13.313387  13.165397   \n",
      "\n",
      "      Máximo      Médio  Variacao  \n",
      "0  12.351453  12.351453         0  \n",
      "1  13.717513  13.228008         0  \n",
      "2  13.375998  12.920645         0  \n",
      "3  13.319079  13.085710         0  \n",
      "4  13.575215  13.330462         0  \n"
     ]
    },
    {
     "name": "stderr",
     "output_type": "stream",
     "text": [
      "/home/alex/.local/lib/python3.6/site-packages/pandas/core/indexing.py:670: SettingWithCopyWarning: \n",
      "A value is trying to be set on a copy of a slice from a DataFrame\n",
      "\n",
      "See the caveats in the documentation: https://pandas.pydata.org/pandas-docs/stable/user_guide/indexing.html#returning-a-view-versus-a-copy\n",
      "  self._setitem_with_indexer(indexer, value)\n"
     ]
    },
    {
     "name": "stdout",
     "output_type": "stream",
     "text": [
      "SMLS3.csv (1700, 9) (574961, 9)\n",
      "SMTO3.csv\n",
      "   Ativo        Data       Volume  Fechamento  Abertura    Mínimo    Máximo  \\\n",
      "0  SMTO3  2007-02-09          0.0    5.563857  5.563857  5.563857  5.563857   \n",
      "1  SMTO3  2007-02-12  163367675.0    6.582043  6.537533  6.292723  6.648810   \n",
      "2  SMTO3  2007-02-13   52473518.0    6.871364  6.676629  6.607081  7.066099   \n",
      "3  SMTO3  2007-02-14   28948073.0    6.940912  6.996551  6.899183  7.093918   \n",
      "4  SMTO3  2007-02-15   30796712.0    7.180158  6.996551  6.996551  7.455569   \n",
      "\n",
      "      Médio  Variacao  \n",
      "0  5.563857         0  \n",
      "1  6.498586         0  \n",
      "2  6.879710         0  \n",
      "3  6.965950         0  \n",
      "4  7.227451         0  \n"
     ]
    },
    {
     "name": "stderr",
     "output_type": "stream",
     "text": [
      "/home/alex/.local/lib/python3.6/site-packages/pandas/core/indexing.py:670: SettingWithCopyWarning: \n",
      "A value is trying to be set on a copy of a slice from a DataFrame\n",
      "\n",
      "See the caveats in the documentation: https://pandas.pydata.org/pandas-docs/stable/user_guide/indexing.html#returning-a-view-versus-a-copy\n",
      "  self._setitem_with_indexer(indexer, value)\n"
     ]
    },
    {
     "name": "stdout",
     "output_type": "stream",
     "text": [
      "SMTO3.csv (3233, 9) (576661, 9)\n",
      "STBP3.csv\n",
      "   Ativo        Data    Volume  Fechamento  Abertura    Mínimo    Máximo  \\\n",
      "0  STBP3  2016-08-22   21713.0    2.754436  2.604738  2.604738  2.794355   \n",
      "1  STBP3  2016-08-23   80212.0    2.794355  2.844254  2.594758  2.844254   \n",
      "2  STBP3  2016-08-24  243280.0    2.634678  2.794355  2.634678  2.794355   \n",
      "3  STBP3  2016-08-25   94764.0    2.514920  2.724496  2.445061  2.724496   \n",
      "4  STBP3  2016-08-26  286789.0    2.594758  2.644658  2.494960  2.834275   \n",
      "\n",
      "      Médio  Variacao  \n",
      "0  2.744456         0  \n",
      "1  2.674597         0  \n",
      "2  2.714517         0  \n",
      "3  2.524900         0  \n",
      "4  2.674597         0  \n",
      "STBP3.csv (877, 9) (579894, 9)\n",
      "SUZB3.csv\n",
      "   Ativo        Data      Volume  Fechamento   Abertura     Mínimo     Máximo  \\\n",
      "0  SUZB3  2017-11-10  44286032.0   20.035360  20.581071  19.294754  20.775967   \n",
      "1  SUZB3  2017-11-13  47959009.0   19.626078  19.918422  19.168071  19.918422   \n",
      "2  SUZB3  2017-11-14  73091439.0   19.197305  19.752760  18.524912  19.752760   \n",
      "3  SUZB3  2017-11-16  56066546.0   19.489650  19.138836  19.080368  19.665057   \n",
      "4  SUZB3  2017-11-17  35805389.0   19.869698  19.674802  19.450671  19.928167   \n",
      "\n",
      "       Médio  Variacao  \n",
      "0  19.655312         0  \n",
      "1  19.411692         0  \n",
      "2  19.021899         0  \n",
      "3  19.460416         0  \n",
      "4  19.684547         0  \n"
     ]
    },
    {
     "name": "stderr",
     "output_type": "stream",
     "text": [
      "/home/alex/.local/lib/python3.6/site-packages/pandas/core/indexing.py:670: SettingWithCopyWarning: \n",
      "A value is trying to be set on a copy of a slice from a DataFrame\n",
      "\n",
      "See the caveats in the documentation: https://pandas.pydata.org/pandas-docs/stable/user_guide/indexing.html#returning-a-view-versus-a-copy\n",
      "  self._setitem_with_indexer(indexer, value)\n",
      "/home/alex/.local/lib/python3.6/site-packages/pandas/core/indexing.py:670: SettingWithCopyWarning: \n",
      "A value is trying to be set on a copy of a slice from a DataFrame\n",
      "\n",
      "See the caveats in the documentation: https://pandas.pydata.org/pandas-docs/stable/user_guide/indexing.html#returning-a-view-versus-a-copy\n",
      "  self._setitem_with_indexer(indexer, value)\n"
     ]
    },
    {
     "name": "stdout",
     "output_type": "stream",
     "text": [
      "SUZB3.csv (573, 9) (580771, 9)\n",
      "TAEE11.csv\n",
      "    Ativo        Data       Volume  Fechamento  Abertura    Mínimo    Máximo  \\\n",
      "0  TAEE11  2006-10-26          0.0    1.687514  1.687514  1.687514  1.687514   \n",
      "1  TAEE11  2006-10-27  236102228.0    1.840194  1.816087  1.809658  1.887605   \n",
      "2  TAEE11  2006-10-30   24677844.0    1.824123  1.820105  1.820105  1.862694   \n",
      "3  TAEE11  2006-10-31   32402877.0    1.814480  1.828141  1.808051  1.835373   \n",
      "4  TAEE11  2006-11-01    7604627.0    1.812069  1.808051  1.808051  1.836176   \n",
      "\n",
      "      Médio  Variacao  \n",
      "0  1.687514         0  \n",
      "1  1.851444         0  \n",
      "2  1.832158         0  \n",
      "3  1.821712         0  \n",
      "4  1.816890         0  \n"
     ]
    },
    {
     "name": "stderr",
     "output_type": "stream",
     "text": [
      "/home/alex/.local/lib/python3.6/site-packages/pandas/core/indexing.py:670: SettingWithCopyWarning: \n",
      "A value is trying to be set on a copy of a slice from a DataFrame\n",
      "\n",
      "See the caveats in the documentation: https://pandas.pydata.org/pandas-docs/stable/user_guide/indexing.html#returning-a-view-versus-a-copy\n",
      "  self._setitem_with_indexer(indexer, value)\n"
     ]
    },
    {
     "name": "stdout",
     "output_type": "stream",
     "text": [
      "TAEE11.csv (3076, 9) (581344, 9)\n",
      "TAEE4.csv\n",
      "   Ativo        Data   Volume  Fechamento  Abertura    Mínimo    Máximo  \\\n",
      "0  TAEE4  2017-05-10   2400.0    9.316908  9.316908  9.316908  9.316908   \n",
      "1  TAEE4  2017-05-26  15994.0    7.869372  7.877249  7.861494  7.877249   \n",
      "2  TAEE4  2017-05-29   2000.0    7.877249  7.877249  7.877249  7.877249   \n",
      "3  TAEE4  2017-05-31  18800.0    7.010752  7.089524  7.010752  7.089524   \n",
      "4  TAEE4  2017-06-01    800.0    6.301799  6.301799  6.301799  6.301799   \n",
      "\n",
      "      Médio  Variacao  \n",
      "0  9.316908         0  \n",
      "1  7.877249         0  \n",
      "2  7.877249         0  \n",
      "3  7.050138         0  \n",
      "4  6.301799         0  \n",
      "TAEE4.csv (636, 9) (584420, 9)\n",
      "TASA3.csv\n",
      "   Ativo        Data      Volume  Fechamento  Abertura    Mínimo    Máximo  \\\n",
      "0  TASA3  1993-09-22    9.092727    0.011821  0.011821  0.011821  0.011821   \n",
      "1  TASA3  1993-10-08    1.818545    0.011821  0.011821  0.011821  0.011821   \n",
      "2  TASA3  1993-11-16   11.455636    0.024822  0.024822  0.024822  0.024822   \n",
      "3  TASA3  1994-06-15  210.909091    0.465623  0.465623  0.465623  0.465623   \n",
      "4  TASA3  1994-08-24  500.000000    0.883078  0.883078  0.883078  0.883078   \n",
      "\n",
      "      Médio  Variacao  \n",
      "0  0.011821         0  \n",
      "1  0.011821         0  \n",
      "2  0.024822         0  \n",
      "3  0.465623         0  \n",
      "4  0.883078         0  \n"
     ]
    },
    {
     "name": "stderr",
     "output_type": "stream",
     "text": [
      "/home/alex/.local/lib/python3.6/site-packages/pandas/core/indexing.py:670: SettingWithCopyWarning: \n",
      "A value is trying to be set on a copy of a slice from a DataFrame\n",
      "\n",
      "See the caveats in the documentation: https://pandas.pydata.org/pandas-docs/stable/user_guide/indexing.html#returning-a-view-versus-a-copy\n",
      "  self._setitem_with_indexer(indexer, value)\n",
      "/home/alex/.local/lib/python3.6/site-packages/pandas/core/indexing.py:670: SettingWithCopyWarning: \n",
      "A value is trying to be set on a copy of a slice from a DataFrame\n",
      "\n",
      "See the caveats in the documentation: https://pandas.pydata.org/pandas-docs/stable/user_guide/indexing.html#returning-a-view-versus-a-copy\n",
      "  self._setitem_with_indexer(indexer, value)\n"
     ]
    },
    {
     "name": "stdout",
     "output_type": "stream",
     "text": [
      "TASA3.csv (2349, 9) (585056, 9)\n",
      "TASA4.csv\n",
      "   Ativo        Data    Volume    Fechamento      Abertura        Mínimo  \\\n",
      "0  TASA4  1986-01-03  0.000011  1.390565e-08  1.390565e-08  1.390565e-08   \n",
      "1  TASA4  1986-01-06  0.000005  1.436917e-08  1.436917e-08  1.436917e-08   \n",
      "2  TASA4  1986-01-08  0.000040  1.529621e-08  1.529621e-08  1.529621e-08   \n",
      "3  TASA4  1986-01-09  0.000002  1.529853e-08  1.529853e-08  1.529853e-08   \n",
      "4  TASA4  1986-01-15  0.000008  1.647819e-08  1.647819e-08  1.647819e-08   \n",
      "\n",
      "         Máximo         Médio  Variacao  \n",
      "0  1.390565e-08  1.390565e-08         0  \n",
      "1  1.436917e-08  1.436917e-08         0  \n",
      "2  1.529621e-08  1.529621e-08         0  \n",
      "3  1.529853e-08  1.529853e-08         0  \n",
      "4  1.647819e-08  1.647819e-08         0  \n"
     ]
    },
    {
     "name": "stderr",
     "output_type": "stream",
     "text": [
      "/home/alex/.local/lib/python3.6/site-packages/pandas/core/indexing.py:670: SettingWithCopyWarning: \n",
      "A value is trying to be set on a copy of a slice from a DataFrame\n",
      "\n",
      "See the caveats in the documentation: https://pandas.pydata.org/pandas-docs/stable/user_guide/indexing.html#returning-a-view-versus-a-copy\n",
      "  self._setitem_with_indexer(indexer, value)\n"
     ]
    },
    {
     "name": "stdout",
     "output_type": "stream",
     "text": [
      "TASA4.csv (7809, 9) (587405, 9)\n",
      "TCSA3.csv\n",
      "   Ativo        Data       Volume  Fechamento  Abertura    Mínimo    Máximo  \\\n",
      "0  TCSA3  2007-01-31          0.0    8.788936  8.788936  8.788936  8.788936   \n",
      "1  TCSA3  2007-02-01  188550219.0    9.126972  9.667829  9.126972  9.796283   \n",
      "2  TCSA3  2007-02-02   15436654.0    9.133733  9.187818  8.876825  9.363597   \n",
      "3  TCSA3  2007-02-05   15024071.0    9.126972  9.099929  8.924150  9.181058   \n",
      "4  TCSA3  2007-02-06   18220581.0    9.093168  9.113450  9.005279  9.160775   \n",
      "\n",
      "      Médio  Variacao  \n",
      "0  8.788936         0  \n",
      "1  9.451486         0  \n",
      "2  9.113450         0  \n",
      "3  9.052604         0  \n",
      "4  9.106690         0  \n"
     ]
    },
    {
     "name": "stderr",
     "output_type": "stream",
     "text": [
      "/home/alex/.local/lib/python3.6/site-packages/pandas/core/indexing.py:670: SettingWithCopyWarning: \n",
      "A value is trying to be set on a copy of a slice from a DataFrame\n",
      "\n",
      "See the caveats in the documentation: https://pandas.pydata.org/pandas-docs/stable/user_guide/indexing.html#returning-a-view-versus-a-copy\n",
      "  self._setitem_with_indexer(indexer, value)\n"
     ]
    },
    {
     "name": "stdout",
     "output_type": "stream",
     "text": [
      "TCSA3.csv (3240, 9) (595214, 9)\n",
      "TELB4.csv\n",
      "   Ativo        Data    Volume  Fechamento   Abertura     Mínimo     Máximo  \\\n",
      "0  TELB4  1998-09-21     740.0    7.082373  16.997694   7.082373  16.997694   \n",
      "1  TELB4  1998-09-22    5094.0   11.331796   7.790610   7.790610  11.331796   \n",
      "2  TELB4  1998-09-23   25635.0   24.788304  12.040034  12.040034  28.329490   \n",
      "3  TELB4  1998-09-24  168019.0   31.162440  25.496542  24.788304  38.953050   \n",
      "4  TELB4  1998-09-25   69888.0   31.870677  29.745965  29.037729  34.703627   \n",
      "\n",
      "       Médio  Variacao  \n",
      "0   8.498847         0  \n",
      "1   9.207085         0  \n",
      "2  21.955356         0  \n",
      "3  31.162440         0  \n",
      "4  32.578915         0  \n"
     ]
    },
    {
     "name": "stderr",
     "output_type": "stream",
     "text": [
      "/home/alex/.local/lib/python3.6/site-packages/pandas/core/indexing.py:670: SettingWithCopyWarning: \n",
      "A value is trying to be set on a copy of a slice from a DataFrame\n",
      "\n",
      "See the caveats in the documentation: https://pandas.pydata.org/pandas-docs/stable/user_guide/indexing.html#returning-a-view-versus-a-copy\n",
      "  self._setitem_with_indexer(indexer, value)\n"
     ]
    },
    {
     "name": "stdout",
     "output_type": "stream",
     "text": [
      "TELB4.csv (5298, 9) (598454, 9)\n",
      "TIET4.csv\n",
      "   Ativo        Data   Volume  Fechamento  Abertura    Mínimo    Máximo  \\\n",
      "0  TIET4  2016-01-04   2504.0    2.191637  2.191637  2.191637  2.191637   \n",
      "1  TIET4  2016-01-05  55200.0    2.100611  2.100611  2.100611  2.100611   \n",
      "2  TIET4  2016-01-06  41538.0    2.107613  2.107613  2.107613  2.107613   \n",
      "3  TIET4  2016-01-07  75460.0    1.960570  2.100611  1.960570  2.100611   \n",
      "4  TIET4  2016-01-08  20480.0    1.960570  2.240652  1.960570  2.240652   \n",
      "\n",
      "      Médio  Variacao  \n",
      "0  2.191637         0  \n",
      "1  2.100611         0  \n",
      "2  2.107613         0  \n",
      "3  1.967572         0  \n",
      "4  1.967572         0  \n",
      "TIET4.csv (974, 9) (603752, 9)\n",
      "TIMP3.csv\n"
     ]
    },
    {
     "name": "stderr",
     "output_type": "stream",
     "text": [
      "/home/alex/.local/lib/python3.6/site-packages/pandas/core/indexing.py:670: SettingWithCopyWarning: \n",
      "A value is trying to be set on a copy of a slice from a DataFrame\n",
      "\n",
      "See the caveats in the documentation: https://pandas.pydata.org/pandas-docs/stable/user_guide/indexing.html#returning-a-view-versus-a-copy\n",
      "  self._setitem_with_indexer(indexer, value)\n",
      "/home/alex/.local/lib/python3.6/site-packages/pandas/core/indexing.py:670: SettingWithCopyWarning: \n",
      "A value is trying to be set on a copy of a slice from a DataFrame\n",
      "\n",
      "See the caveats in the documentation: https://pandas.pydata.org/pandas-docs/stable/user_guide/indexing.html#returning-a-view-versus-a-copy\n",
      "  self._setitem_with_indexer(indexer, value)\n"
     ]
    },
    {
     "name": "stdout",
     "output_type": "stream",
     "text": [
      "   Ativo        Data         Volume  Fechamento  Abertura    Mínimo    Máximo  \\\n",
      "0  TIMP3  1998-09-22    5200.000247    0.603073  0.603073  0.603073  0.603073   \n",
      "1  TIMP3  1998-09-23   19770.000000    0.603073  0.603073  0.542766  0.603073   \n",
      "2  TIMP3  1998-09-24    1800.000086    0.603073  0.603073  0.603073  0.603073   \n",
      "3  TIMP3  1998-09-25  161025.001400    0.452305  0.452305  0.452305  0.452305   \n",
      "4  TIMP3  1998-09-28  173952.000000    0.524673  0.512612  0.512612  0.542766   \n",
      "\n",
      "      Médio  Variacao  \n",
      "0  0.603073         0  \n",
      "1  0.603073         0  \n",
      "2  0.603073         0  \n",
      "3  0.452305         0  \n",
      "4  0.536735         0  \n",
      "TIMP3.csv (5309, 9) (604726, 9)\n",
      "TOTS3.csv\n",
      "   Ativo        Data      Volume  Fechamento  Abertura    Mínimo    Máximo  \\\n",
      "0  TOTS3  2006-03-08         0.0    4.871556  4.871556  4.871556  4.871556   \n",
      "1  TOTS3  2006-03-09  85455817.0    5.176028  5.023792  4.955286  5.176028   \n",
      "2  TOTS3  2006-03-10  28054058.0    5.328264  5.154715  5.145581  5.632737   \n",
      "3  TOTS3  2006-03-13   8152065.0    5.389159  5.404382  5.328264  5.518560   \n",
      "4  TOTS3  2006-03-14  10702673.0    5.404382  5.358712  5.343488  5.515515   \n",
      "\n",
      "      Médio  Variacao  \n",
      "0  4.871556         0  \n",
      "1  5.096865         0  \n",
      "2  5.326742         0  \n",
      "3  5.419606         0  \n",
      "4  5.418084         0  \n"
     ]
    },
    {
     "name": "stderr",
     "output_type": "stream",
     "text": [
      "/home/alex/.local/lib/python3.6/site-packages/pandas/core/indexing.py:670: SettingWithCopyWarning: \n",
      "A value is trying to be set on a copy of a slice from a DataFrame\n",
      "\n",
      "See the caveats in the documentation: https://pandas.pydata.org/pandas-docs/stable/user_guide/indexing.html#returning-a-view-versus-a-copy\n",
      "  self._setitem_with_indexer(indexer, value)\n"
     ]
    },
    {
     "name": "stdout",
     "output_type": "stream",
     "text": [
      "TOTS3.csv (3462, 9) (610035, 9)\n",
      "TPIS3.csv\n",
      "   Ativo        Data       Volume  Fechamento  Abertura    Mínimo    Máximo  \\\n",
      "0  TPIS3  2007-07-20          0.0    6.917054  6.917054  6.917054  6.917054   \n",
      "1  TPIS3  2007-07-23  157773035.0    6.917054  6.917054  6.676778  6.953460   \n",
      "2  TPIS3  2007-07-24   23851053.0    6.917054  6.917054  6.625810  6.989865   \n",
      "3  TPIS3  2007-07-25    7989893.0    6.909773  6.844243  6.662215  6.917054   \n",
      "4  TPIS3  2007-07-26   11325247.0    6.844243  6.633091  6.451063  6.844243   \n",
      "\n",
      "      Médio  Variacao  \n",
      "0  6.917054         0  \n",
      "1  6.917054         0  \n",
      "2  6.785994         0  \n",
      "3  6.793275         0  \n",
      "4  6.735026         0  \n"
     ]
    },
    {
     "name": "stderr",
     "output_type": "stream",
     "text": [
      "/home/alex/.local/lib/python3.6/site-packages/pandas/core/indexing.py:670: SettingWithCopyWarning: \n",
      "A value is trying to be set on a copy of a slice from a DataFrame\n",
      "\n",
      "See the caveats in the documentation: https://pandas.pydata.org/pandas-docs/stable/user_guide/indexing.html#returning-a-view-versus-a-copy\n",
      "  self._setitem_with_indexer(indexer, value)\n"
     ]
    },
    {
     "name": "stdout",
     "output_type": "stream",
     "text": [
      "TPIS3.csv (3116, 9) (613497, 9)\n",
      "TRPL4.csv\n",
      "   Ativo        Data    Volume  Fechamento  Abertura    Mínimo    Máximo  \\\n",
      "0  TRPL4  1999-07-26  121457.0    0.153321  0.168221  0.146592  0.187446   \n",
      "1  TRPL4  1999-07-27  364249.0    0.139383  0.154282  0.129770  0.168701   \n",
      "2  TRPL4  1999-07-28  219473.0    0.117754  0.139383  0.115351  0.144189   \n",
      "3  TRPL4  1999-07-29  278099.0    0.114390  0.115351  0.101894  0.115351   \n",
      "4  TRPL4  1999-07-30  154871.0    0.110545  0.115351  0.105739  0.117754   \n",
      "\n",
      "      Médio  Variacao  \n",
      "0  0.161973         0  \n",
      "1  0.141305         0  \n",
      "2  0.127367         0  \n",
      "3  0.108623         0  \n",
      "4  0.109103         0  \n"
     ]
    },
    {
     "name": "stderr",
     "output_type": "stream",
     "text": [
      "/home/alex/.local/lib/python3.6/site-packages/pandas/core/indexing.py:670: SettingWithCopyWarning: \n",
      "A value is trying to be set on a copy of a slice from a DataFrame\n",
      "\n",
      "See the caveats in the documentation: https://pandas.pydata.org/pandas-docs/stable/user_guide/indexing.html#returning-a-view-versus-a-copy\n",
      "  self._setitem_with_indexer(indexer, value)\n"
     ]
    },
    {
     "name": "stdout",
     "output_type": "stream",
     "text": [
      "TRPL4.csv (5106, 9) (616613, 9)\n",
      "UGPA3.csv\n",
      "   Ativo        Data  Volume  Fechamento  Abertura    Mínimo    Máximo  \\\n",
      "0  UGPA3  2002-12-17  8000.0    1.094671  1.094671  1.094671  1.094671   \n",
      "1  UGPA3  2002-12-18  4000.0    1.094671  1.094671  1.094671  1.094671   \n",
      "2  UGPA3  2002-12-23  2000.0    1.094671  1.094671  1.094671  1.094671   \n",
      "3  UGPA3  2002-12-26  2000.0    1.094671  1.094671  1.094671  1.094671   \n",
      "4  UGPA3  2003-02-12  2000.0    1.094671  1.094671  1.094671  1.094671   \n",
      "\n",
      "      Médio  Variacao  \n",
      "0  1.094671         0  \n",
      "1  1.094671         0  \n",
      "2  1.094671         0  \n",
      "3  1.094671         0  \n",
      "4  1.094671         0  \n"
     ]
    },
    {
     "name": "stderr",
     "output_type": "stream",
     "text": [
      "/home/alex/.local/lib/python3.6/site-packages/pandas/core/indexing.py:670: SettingWithCopyWarning: \n",
      "A value is trying to be set on a copy of a slice from a DataFrame\n",
      "\n",
      "See the caveats in the documentation: https://pandas.pydata.org/pandas-docs/stable/user_guide/indexing.html#returning-a-view-versus-a-copy\n",
      "  self._setitem_with_indexer(indexer, value)\n"
     ]
    },
    {
     "name": "stdout",
     "output_type": "stream",
     "text": [
      "UGPA3.csv (2169, 9) (621719, 9)\n",
      "UNIP3.csv\n",
      "   Ativo        Data    Volume    Fechamento      Abertura        Mínimo  \\\n",
      "0  UNIP3  1988-06-03  0.000033  2.205262e-08  2.205262e-08  2.205262e-08   \n",
      "1  UNIP3  1988-06-08  0.000032  2.450291e-08  2.450291e-08  2.450291e-08   \n",
      "2  UNIP3  1988-06-09  0.000087  2.352279e-08  2.352279e-08  2.352279e-08   \n",
      "3  UNIP3  1988-06-10  0.000036  2.401285e-08  2.401285e-08  2.401285e-08   \n",
      "4  UNIP3  1988-06-13  0.000449  2.401285e-08  2.401285e-08  2.401285e-08   \n",
      "\n",
      "         Máximo         Médio  Variacao  \n",
      "0  2.205262e-08  2.205262e-08         0  \n",
      "1  2.450291e-08  2.450291e-08         0  \n",
      "2  2.352279e-08  2.352279e-08         0  \n",
      "3  2.401285e-08  2.401285e-08         0  \n",
      "4  2.401285e-08  2.401285e-08         0  \n"
     ]
    },
    {
     "name": "stderr",
     "output_type": "stream",
     "text": [
      "/home/alex/.local/lib/python3.6/site-packages/pandas/core/indexing.py:670: SettingWithCopyWarning: \n",
      "A value is trying to be set on a copy of a slice from a DataFrame\n",
      "\n",
      "See the caveats in the documentation: https://pandas.pydata.org/pandas-docs/stable/user_guide/indexing.html#returning-a-view-versus-a-copy\n",
      "  self._setitem_with_indexer(indexer, value)\n"
     ]
    },
    {
     "name": "stdout",
     "output_type": "stream",
     "text": [
      "UNIP3.csv (4211, 9) (623888, 9)\n",
      "UNIP5.csv\n",
      "   Ativo        Data    Volume    Fechamento      Abertura        Mínimo  \\\n",
      "0  UNIP5  1988-06-03  0.000052  2.947715e-09  3.045972e-09  2.947715e-09   \n",
      "1  UNIP5  1988-06-10  0.000124  2.947715e-09  2.947715e-09  2.947715e-09   \n",
      "2  UNIP5  1988-06-13  0.000541  2.947715e-09  2.947715e-09  2.947715e-09   \n",
      "3  UNIP5  1988-06-14  0.000169  2.947715e-09  2.947715e-09  2.947715e-09   \n",
      "4  UNIP5  1988-06-15  0.000012  2.751200e-09  3.340743e-09  2.751200e-09   \n",
      "\n",
      "         Máximo         Médio  Variacao  \n",
      "0  3.095100e-09  3.055797e-09         0  \n",
      "1  2.947715e-09  2.947715e-09         0  \n",
      "2  2.947715e-09  2.947715e-09         0  \n",
      "3  2.947715e-09  2.947715e-09         0  \n",
      "4  3.340743e-09  3.016495e-09         0  \n"
     ]
    },
    {
     "name": "stderr",
     "output_type": "stream",
     "text": [
      "/home/alex/.local/lib/python3.6/site-packages/pandas/core/indexing.py:670: SettingWithCopyWarning: \n",
      "A value is trying to be set on a copy of a slice from a DataFrame\n",
      "\n",
      "See the caveats in the documentation: https://pandas.pydata.org/pandas-docs/stable/user_guide/indexing.html#returning-a-view-versus-a-copy\n",
      "  self._setitem_with_indexer(indexer, value)\n"
     ]
    },
    {
     "name": "stdout",
     "output_type": "stream",
     "text": [
      "UNIP5.csv (2481, 9) (628099, 9)\n",
      "UNIP6.csv\n",
      "   Ativo        Data    Volume    Fechamento      Abertura        Mínimo  \\\n",
      "0  UNIP6  1986-01-02  0.000024  4.541283e-10  4.541283e-10  4.444660e-10   \n",
      "1  UNIP6  1986-01-03  0.000171  5.604136e-10  4.734529e-10  4.734529e-10   \n",
      "2  UNIP6  1986-01-06  0.000036  5.314267e-10  5.749070e-10  5.314267e-10   \n",
      "3  UNIP6  1986-01-07  0.000083  5.024398e-10  5.314267e-10  5.024398e-10   \n",
      "4  UNIP6  1986-01-08  0.000049  5.024398e-10  5.797382e-10  4.831152e-10   \n",
      "\n",
      "         Máximo         Médio  Variacao  \n",
      "0  4.686217e-10  4.599257e-10         0  \n",
      "1  5.604136e-10  5.005073e-10         0  \n",
      "2  5.797382e-10  5.710421e-10         0  \n",
      "3  5.420553e-10  5.256293e-10         0  \n",
      "4  5.797382e-10  4.937437e-10         0  \n"
     ]
    },
    {
     "name": "stderr",
     "output_type": "stream",
     "text": [
      "/home/alex/.local/lib/python3.6/site-packages/pandas/core/indexing.py:670: SettingWithCopyWarning: \n",
      "A value is trying to be set on a copy of a slice from a DataFrame\n",
      "\n",
      "See the caveats in the documentation: https://pandas.pydata.org/pandas-docs/stable/user_guide/indexing.html#returning-a-view-versus-a-copy\n",
      "  self._setitem_with_indexer(indexer, value)\n"
     ]
    },
    {
     "name": "stdout",
     "output_type": "stream",
     "text": [
      "UNIP6.csv (8402, 9) (630580, 9)\n",
      "USIM3.csv\n",
      "   Ativo        Data    Volume  Fechamento  Abertura    Mínimo    Máximo  \\\n",
      "0  USIM3  1991-11-19  0.309091    0.000199  0.000199  0.000199  0.000199   \n",
      "1  USIM3  1991-11-20  0.030909    0.000199  0.000199  0.000199  0.000199   \n",
      "2  USIM3  1991-11-21  0.321455    0.000187  0.000187  0.000187  0.000187   \n",
      "3  USIM3  1992-05-08  1.309091    0.000421  0.000421  0.000421  0.000421   \n",
      "4  USIM3  1992-05-13  0.029455    0.000421  0.000421  0.000421  0.000421   \n",
      "\n",
      "      Médio  Variacao  \n",
      "0  0.000199         0  \n",
      "1  0.000199         0  \n",
      "2  0.000187         0  \n",
      "3  0.000421         0  \n",
      "4  0.000421         0  \n"
     ]
    },
    {
     "name": "stderr",
     "output_type": "stream",
     "text": [
      "/home/alex/.local/lib/python3.6/site-packages/pandas/core/indexing.py:670: SettingWithCopyWarning: \n",
      "A value is trying to be set on a copy of a slice from a DataFrame\n",
      "\n",
      "See the caveats in the documentation: https://pandas.pydata.org/pandas-docs/stable/user_guide/indexing.html#returning-a-view-versus-a-copy\n",
      "  self._setitem_with_indexer(indexer, value)\n"
     ]
    },
    {
     "name": "stdout",
     "output_type": "stream",
     "text": [
      "USIM3.csv (4917, 9) (638982, 9)\n",
      "USIM5.csv\n",
      "   Ativo        Data     Volume  Fechamento  Abertura    Mínimo    Máximo  \\\n",
      "0  USIM5  1991-12-11   0.138545    0.000044  0.000042  0.000042  0.000044   \n",
      "1  USIM5  1991-12-12   9.249329    0.000047  0.000044  0.000044  0.000047   \n",
      "2  USIM5  1991-12-13  17.108987    0.000048  0.000050  0.000048  0.000052   \n",
      "3  USIM5  1991-12-16   8.230272    0.000047  0.000048  0.000047  0.000050   \n",
      "4  USIM5  1991-12-17  12.578626    0.000047  0.000048  0.000047  0.000049   \n",
      "\n",
      "      Médio  Variacao  \n",
      "0  0.000043         0  \n",
      "1  0.000047         0  \n",
      "2  0.000050         0  \n",
      "3  0.000048         0  \n",
      "4  0.000048         0  \n"
     ]
    },
    {
     "name": "stderr",
     "output_type": "stream",
     "text": [
      "/home/alex/.local/lib/python3.6/site-packages/pandas/core/indexing.py:670: SettingWithCopyWarning: \n",
      "A value is trying to be set on a copy of a slice from a DataFrame\n",
      "\n",
      "See the caveats in the documentation: https://pandas.pydata.org/pandas-docs/stable/user_guide/indexing.html#returning-a-view-versus-a-copy\n",
      "  self._setitem_with_indexer(indexer, value)\n"
     ]
    },
    {
     "name": "stdout",
     "output_type": "stream",
     "text": [
      "USIM5.csv (6980, 9) (643899, 9)\n",
      "VALE3.csv\n",
      "   Ativo        Data    Volume    Fechamento      Abertura        Mínimo  \\\n",
      "0  VALE3  1986-01-02  0.000027  3.950437e-10  4.010292e-10  3.950437e-10   \n",
      "1  VALE3  1986-01-03  0.000003  3.950437e-10  3.950437e-10  3.950437e-10   \n",
      "2  VALE3  1986-01-06  0.000341  4.070147e-10  4.070147e-10  4.070147e-10   \n",
      "3  VALE3  1986-01-07  0.000352  4.249712e-10  4.279640e-10  4.189857e-10   \n",
      "4  VALE3  1986-01-08  0.000211  4.339495e-10  4.369423e-10  4.309508e-10   \n",
      "\n",
      "         Máximo         Médio  Variacao  \n",
      "0  4.010292e-10  3.960912e-10         0  \n",
      "1  3.950437e-10  3.950437e-10         0  \n",
      "2  4.070147e-10  4.070147e-10         0  \n",
      "3  4.279640e-10  4.252585e-10         0  \n",
      "4  4.369423e-10  4.349611e-10         0  \n"
     ]
    },
    {
     "name": "stderr",
     "output_type": "stream",
     "text": [
      "/home/alex/.local/lib/python3.6/site-packages/pandas/core/indexing.py:670: SettingWithCopyWarning: \n",
      "A value is trying to be set on a copy of a slice from a DataFrame\n",
      "\n",
      "See the caveats in the documentation: https://pandas.pydata.org/pandas-docs/stable/user_guide/indexing.html#returning-a-view-versus-a-copy\n",
      "  self._setitem_with_indexer(indexer, value)\n"
     ]
    },
    {
     "name": "stdout",
     "output_type": "stream",
     "text": [
      "VALE3.csv (7845, 9) (650879, 9)\n",
      "VIVA3.csv\n",
      "   Ativo        Data       Volume  Fechamento   Abertura     Mínimo  \\\n",
      "0  VIVA3  2019-10-10  449138696.0   23.969158  24.655127  23.879683   \n",
      "1  VIVA3  2019-10-11  169245602.0   23.591378  24.158048  23.581436   \n",
      "2  VIVA3  2019-10-14   98522698.0   23.372663  23.591378  22.965058   \n",
      "3  VIVA3  2019-10-15   26579973.0   23.412429  23.462137  23.114182   \n",
      "4  VIVA3  2019-10-16   46227272.0   23.959216  23.412429  23.173831   \n",
      "\n",
      "      Máximo      Médio  Variacao  \n",
      "0  24.694893  24.297230         0  \n",
      "1  24.227639  23.770326         0  \n",
      "2  23.680852  23.233481         0  \n",
      "3  23.501903  23.303072         0  \n",
      "4  23.959216  23.601319         0  \n",
      "VIVA3.csv (102, 9) (658724, 9)\n",
      "VIVT3.csv\n",
      "   Ativo        Data        Volume    Fechamento      Abertura        Mínimo  \\\n",
      "0  VIVT3  1986-01-02  1.127360e-06  1.051208e-10  1.016259e-10  1.016259e-10   \n",
      "1  VIVT3  1986-01-03  3.491491e-07  1.051296e-10  1.051296e-10  1.051296e-10   \n",
      "2  VIVT3  1986-01-06  3.036000e-06  1.059880e-10  1.059968e-10  1.059880e-10   \n",
      "3  VIVT3  1986-01-07  4.545818e-07  1.095005e-10  1.095005e-10  1.095005e-10   \n",
      "4  VIVT3  1986-01-08  4.049567e-04  1.147474e-10  1.138714e-10  1.138714e-10   \n",
      "\n",
      "         Máximo         Médio  Variacao  \n",
      "0  1.051208e-10  1.044464e-10         0  \n",
      "1  1.051296e-10  1.051296e-10         0  \n",
      "2  1.059968e-10  1.059880e-10         0  \n",
      "3  1.095005e-10  1.095005e-10         0  \n",
      "4  1.147474e-10  1.147474e-10         0  \n"
     ]
    },
    {
     "name": "stderr",
     "output_type": "stream",
     "text": [
      "/home/alex/.local/lib/python3.6/site-packages/pandas/core/indexing.py:670: SettingWithCopyWarning: \n",
      "A value is trying to be set on a copy of a slice from a DataFrame\n",
      "\n",
      "See the caveats in the documentation: https://pandas.pydata.org/pandas-docs/stable/user_guide/indexing.html#returning-a-view-versus-a-copy\n",
      "  self._setitem_with_indexer(indexer, value)\n",
      "/home/alex/.local/lib/python3.6/site-packages/pandas/core/indexing.py:670: SettingWithCopyWarning: \n",
      "A value is trying to be set on a copy of a slice from a DataFrame\n",
      "\n",
      "See the caveats in the documentation: https://pandas.pydata.org/pandas-docs/stable/user_guide/indexing.html#returning-a-view-versus-a-copy\n",
      "  self._setitem_with_indexer(indexer, value)\n"
     ]
    },
    {
     "name": "stdout",
     "output_type": "stream",
     "text": [
      "VIVT3.csv (8091, 9) (658826, 9)\n",
      "VIVT4.csv\n",
      "   Ativo        Data        Volume    Fechamento      Abertura        Mínimo  \\\n",
      "0  VIVT4  1986-01-02  1.963636e-06  2.727129e-10  2.727129e-10  2.727129e-10   \n",
      "1  VIVT4  1986-01-03  5.236364e-07  2.727129e-10  2.727129e-10  2.727129e-10   \n",
      "2  VIVT4  1986-01-06  3.010909e-06  2.727129e-10  2.726978e-10  2.726978e-10   \n",
      "3  VIVT4  1986-01-07  5.880436e-07  2.727584e-10  2.727129e-10  2.704403e-10   \n",
      "4  VIVT4  1986-01-08  6.909091e-08  2.878636e-10  2.878636e-10  2.878636e-10   \n",
      "\n",
      "         Máximo         Médio  Variacao  \n",
      "0  2.727129e-10  2.727129e-10         0  \n",
      "1  2.727129e-10  2.727129e-10         0  \n",
      "2  2.727129e-10  2.727129e-10         0  \n",
      "3  2.727584e-10  2.722281e-10         0  \n",
      "4  2.878636e-10  2.878636e-10         0  \n"
     ]
    },
    {
     "name": "stderr",
     "output_type": "stream",
     "text": [
      "/home/alex/.local/lib/python3.6/site-packages/pandas/core/indexing.py:670: SettingWithCopyWarning: \n",
      "A value is trying to be set on a copy of a slice from a DataFrame\n",
      "\n",
      "See the caveats in the documentation: https://pandas.pydata.org/pandas-docs/stable/user_guide/indexing.html#returning-a-view-versus-a-copy\n",
      "  self._setitem_with_indexer(indexer, value)\n"
     ]
    },
    {
     "name": "stdout",
     "output_type": "stream",
     "text": [
      "VIVT4.csv (8202, 9) (666917, 9)\n",
      "VLID3.csv\n",
      "   Ativo        Data       Volume  Fechamento  Abertura    Mínimo    Máximo  \\\n",
      "0  VLID3  2006-04-26          0.0    8.565276  8.565276  8.565276  8.565276   \n",
      "1  VLID3  2006-04-27  143802374.0    9.069116  9.547764  9.069116  9.572956   \n",
      "2  VLID3  2006-04-28   22048177.0    8.817196  9.159807  8.817196  9.169884   \n",
      "3  VLID3  2006-05-02   37229146.0    8.817196  8.625737  8.565276  9.069116   \n",
      "4  VLID3  2006-05-03   16461092.0    8.565276  8.716428  8.565276  8.968348   \n",
      "\n",
      "      Médio  Variacao  \n",
      "0  8.565276         0  \n",
      "1  9.310959         0  \n",
      "2  8.953233         0  \n",
      "3  8.756735         0  \n",
      "4  8.751697         0  \n"
     ]
    },
    {
     "name": "stderr",
     "output_type": "stream",
     "text": [
      "/home/alex/.local/lib/python3.6/site-packages/pandas/core/indexing.py:670: SettingWithCopyWarning: \n",
      "A value is trying to be set on a copy of a slice from a DataFrame\n",
      "\n",
      "See the caveats in the documentation: https://pandas.pydata.org/pandas-docs/stable/user_guide/indexing.html#returning-a-view-versus-a-copy\n",
      "  self._setitem_with_indexer(indexer, value)\n"
     ]
    },
    {
     "name": "stdout",
     "output_type": "stream",
     "text": [
      "VLID3.csv (3429, 9) (675119, 9)\n",
      "VVAR3.csv\n",
      "   Ativo        Data    Volume  Fechamento  Abertura    Mínimo    Máximo  \\\n",
      "0  VVAR3  1996-07-10  396000.0    1.533971  1.533971  1.533971  1.533971   \n",
      "1  VVAR3  1996-10-15   22385.0    1.891898  1.891898  1.891898  1.891898   \n",
      "2  VVAR3  1996-10-16   39980.0    1.858430  1.858430  1.858430  1.858430   \n",
      "3  VVAR3  1996-10-21   20000.0    1.859359  1.859359  1.859359  1.859359   \n",
      "4  VVAR3  1996-11-18    5952.0    1.844484  1.844484  1.844484  1.844484   \n",
      "\n",
      "      Médio  Variacao  \n",
      "0  1.533971         0  \n",
      "1  1.891898         0  \n",
      "2  1.858430         0  \n",
      "3  1.859359         0  \n",
      "4  1.844484         0  \n"
     ]
    },
    {
     "name": "stderr",
     "output_type": "stream",
     "text": [
      "/home/alex/.local/lib/python3.6/site-packages/pandas/core/indexing.py:670: SettingWithCopyWarning: \n",
      "A value is trying to be set on a copy of a slice from a DataFrame\n",
      "\n",
      "See the caveats in the documentation: https://pandas.pydata.org/pandas-docs/stable/user_guide/indexing.html#returning-a-view-versus-a-copy\n",
      "  self._setitem_with_indexer(indexer, value)\n"
     ]
    },
    {
     "name": "stdout",
     "output_type": "stream",
     "text": [
      "VVAR3.csv (2151, 9) (678548, 9)\n",
      "WEGE3.csv\n",
      "   Ativo        Data    Volume  Fechamento  Abertura    Mínimo    Máximo  \\\n",
      "0  WEGE3  1991-10-07  0.010909    0.000003  0.000003  0.000003  0.000003   \n",
      "1  WEGE3  1991-10-24  0.653018    0.000003  0.000003  0.000003  0.000003   \n",
      "2  WEGE3  1991-12-19  0.006000    0.000007  0.000007  0.000007  0.000007   \n",
      "3  WEGE3  1992-01-17  0.021818    0.000008  0.000008  0.000008  0.000008   \n",
      "4  WEGE3  1992-01-31  0.024000    0.000009  0.000009  0.000009  0.000009   \n",
      "\n",
      "      Médio  Variacao  \n",
      "0  0.000003         0  \n",
      "1  0.000003         0  \n",
      "2  0.000007         0  \n",
      "3  0.000008         0  \n",
      "4  0.000009         0  \n"
     ]
    },
    {
     "name": "stderr",
     "output_type": "stream",
     "text": [
      "/home/alex/.local/lib/python3.6/site-packages/pandas/core/indexing.py:670: SettingWithCopyWarning: \n",
      "A value is trying to be set on a copy of a slice from a DataFrame\n",
      "\n",
      "See the caveats in the documentation: https://pandas.pydata.org/pandas-docs/stable/user_guide/indexing.html#returning-a-view-versus-a-copy\n",
      "  self._setitem_with_indexer(indexer, value)\n"
     ]
    },
    {
     "name": "stdout",
     "output_type": "stream",
     "text": [
      "WEGE3.csv (3332, 9) (680699, 9)\n",
      "WHRL3.csv\n",
      "   Ativo        Data    Volume    Fechamento      Abertura        Mínimo  \\\n",
      "0  WHRL3  1989-05-08  0.015273  3.059780e-08  3.059780e-08  3.059780e-08   \n",
      "1  WHRL3  1989-06-06  0.017818  5.354616e-08  5.354616e-08  5.354616e-08   \n",
      "2  WHRL3  1989-07-11  0.122764  4.611526e-08  4.611526e-08  4.611526e-08   \n",
      "3  WHRL3  1989-07-26  0.010182  6.119561e-08  6.119561e-08  6.119561e-08   \n",
      "4  WHRL3  1989-08-24  0.020000  1.223023e-07  1.223023e-07  1.223023e-07   \n",
      "\n",
      "         Máximo         Médio  Variacao  \n",
      "0  3.059780e-08  3.059780e-08         0  \n",
      "1  5.354616e-08  5.354616e-08         0  \n",
      "2  4.611526e-08  4.611526e-08         0  \n",
      "3  6.119561e-08  6.119561e-08         0  \n",
      "4  1.223023e-07  1.223023e-07         0  \n"
     ]
    },
    {
     "name": "stderr",
     "output_type": "stream",
     "text": [
      "/home/alex/.local/lib/python3.6/site-packages/pandas/core/indexing.py:670: SettingWithCopyWarning: \n",
      "A value is trying to be set on a copy of a slice from a DataFrame\n",
      "\n",
      "See the caveats in the documentation: https://pandas.pydata.org/pandas-docs/stable/user_guide/indexing.html#returning-a-view-versus-a-copy\n",
      "  self._setitem_with_indexer(indexer, value)\n"
     ]
    },
    {
     "name": "stdout",
     "output_type": "stream",
     "text": [
      "WHRL3.csv (2833, 9) (684031, 9)\n",
      "WHRL4.csv\n",
      "   Ativo        Data    Volume    Fechamento      Abertura        Mínimo  \\\n",
      "0  WHRL4  1986-07-23  0.005271  3.694439e-10  3.410252e-10  3.410252e-10   \n",
      "1  WHRL4  1986-07-24  0.003333  3.694439e-10  3.694439e-10  3.694439e-10   \n",
      "2  WHRL4  1986-07-25  0.002720  3.836533e-10  3.694439e-10  3.694439e-10   \n",
      "3  WHRL4  1986-07-28  0.004116  3.978627e-10  3.694439e-10  3.694439e-10   \n",
      "4  WHRL4  1986-07-29  0.000005  4.035464e-10  4.035464e-10  4.035464e-10   \n",
      "\n",
      "         Máximo         Médio  Variacao  \n",
      "0  3.694439e-10  3.496616e-10         0  \n",
      "1  3.694439e-10  3.694439e-10         0  \n",
      "2  3.836533e-10  3.817691e-10         0  \n",
      "3  3.978627e-10  3.901214e-10         0  \n",
      "4  4.035464e-10  4.035464e-10         0  \n"
     ]
    },
    {
     "name": "stderr",
     "output_type": "stream",
     "text": [
      "/home/alex/.local/lib/python3.6/site-packages/pandas/core/indexing.py:670: SettingWithCopyWarning: \n",
      "A value is trying to be set on a copy of a slice from a DataFrame\n",
      "\n",
      "See the caveats in the documentation: https://pandas.pydata.org/pandas-docs/stable/user_guide/indexing.html#returning-a-view-versus-a-copy\n",
      "  self._setitem_with_indexer(indexer, value)\n"
     ]
    },
    {
     "name": "stdout",
     "output_type": "stream",
     "text": [
      "WHRL4.csv (5921, 9) (686864, 9)\n",
      "YDUQ3.csv\n",
      "   Ativo        Data      Volume  Fechamento  Abertura    Mínimo    Máximo  \\\n",
      "0  YDUQ3  2007-07-27         0.0    5.393418  5.393418  5.393418  5.393418   \n",
      "1  YDUQ3  2008-07-11    140003.0    5.727681  5.783243  5.727681  5.783243   \n",
      "2  YDUQ3  2008-07-14    533582.0    5.785659  5.747007  5.737344  5.797737   \n",
      "3  YDUQ3  2008-07-15  25413265.0    5.556165  5.623805  5.556165  5.785659   \n",
      "4  YDUQ3  2008-07-16   1017009.0    5.556165  5.771165  5.389480  5.771165   \n",
      "\n",
      "      Médio  Variacao  \n",
      "0  5.393418         0  \n",
      "1  5.732513         0  \n",
      "2  5.780827         0  \n",
      "3  5.556165         0  \n",
      "4  5.546502         0  \n"
     ]
    },
    {
     "name": "stderr",
     "output_type": "stream",
     "text": [
      "/home/alex/.local/lib/python3.6/site-packages/pandas/core/indexing.py:670: SettingWithCopyWarning: \n",
      "A value is trying to be set on a copy of a slice from a DataFrame\n",
      "\n",
      "See the caveats in the documentation: https://pandas.pydata.org/pandas-docs/stable/user_guide/indexing.html#returning-a-view-versus-a-copy\n",
      "  self._setitem_with_indexer(indexer, value)\n"
     ]
    },
    {
     "name": "stdout",
     "output_type": "stream",
     "text": [
      "YDUQ3.csv (2879, 9) (692785, 9)\n"
     ]
    }
   ],
   "source": [
    "#Cria um csv de todos os ativos\n",
    "import pandas as pd\n",
    "import numpy as np\n",
    "import os\n",
    "\n",
    "ativos = []\n",
    "for f in os.listdir():\n",
    "    name, ext = os.path.splitext(f)\n",
    "    if ext == '.csv':\n",
    "        ativos.append(name + ext)\n",
    "ativos.remove(\"__main.csv\")    \n",
    "ativos.sort()\n",
    "df_main = pd.DataFrame()\n",
    "for ativo in ativos:\n",
    "    df_temp = pd.read_csv(ativo)\n",
    "    df_temp.insert(0, \"Ativo\", ativo[:-4])\n",
    "    df_temp[\"Variacao\"] = df_temp.apply(lambda row: 0, axis=1)\n",
    "    for day in range(1, df_temp.shape[0]):\n",
    "        closeT0 = df_temp[\"Fechamento\"].iloc[day-1]\n",
    "        closeT1 = df_temp[\"Fechamento\"].iloc[day]\n",
    "        df_temp[\"Variacao\"].iloc[day] = (closeT1/closeT0) -  1\n",
    "    print(ativo, df_temp.shape, df_main.shape)\n",
    "    if df_main.shape == (0,0):\n",
    "        df_main = df_temp\n",
    "    df_main = pd.concat([df_main, df_temp])\n",
    "\n",
    "#df_main.to_csv(\"__main.csv\", index=False)"
   ]
  },
  {
   "cell_type": "code",
   "execution_count": 82,
   "metadata": {},
   "outputs": [
    {
     "data": {
      "text/plain": [
       "(695664, 9)"
      ]
     },
     "execution_count": 82,
     "metadata": {},
     "output_type": "execute_result"
    }
   ],
   "source": [
    "df_main.shape"
   ]
  },
  {
   "cell_type": "code",
   "execution_count": 89,
   "metadata": {},
   "outputs": [],
   "source": [
    "max_ativo_len = df_main.groupby(\"Ativo\").count().max()\n",
    "ativos = df_main[\"Ativo\"].unique()\n",
    "df_variacao = pd.DataFrame()\n",
    "for ativo in ativos:\n",
    "    df_temp = df_main[df_main.Ativo == ativo][\"Variacao\"]\n",
    "    ativo_len = df_temp.shape[0]\n",
    "    to_complete = max_ativo_len - ativo_len\n",
    "    variacao_list = df_temp.to_list()\n",
    "    variacao_list.extend([np.nan] * to_complete)\n",
    "    df_temp = pd.DataFrame({ativo: [*variacao_list]})\n",
    "    if df_variacao.shape == (0, 0):\n",
    "        df_variacao = df_temp\n",
    "    else:\n",
    "        df_variacao[ativo] = df_temp\n",
    "        \n",
    "df_variacao.to_excel(\"__Variacao.xlsx\")"
   ]
  },
  {
   "cell_type": "code",
   "execution_count": 116,
   "metadata": {},
   "outputs": [],
   "source": [
    "varCorr = df_variacao.corr()"
   ]
  },
  {
   "cell_type": "code",
   "execution_count": 119,
   "metadata": {},
   "outputs": [
    {
     "data": {
      "text/plain": [
       "-0.019694557338478223"
      ]
     },
     "execution_count": 119,
     "metadata": {},
     "output_type": "execute_result"
    }
   ],
   "source": [
    "varCorr[\"CVCB3\"][\"GOLL4\"]"
   ]
  },
  {
   "cell_type": "code",
   "execution_count": 114,
   "metadata": {},
   "outputs": [],
   "source": [
    "varCorr = varCorr.unstack().sort_values()"
   ]
  },
  {
   "cell_type": "code",
   "execution_count": 115,
   "metadata": {},
   "outputs": [],
   "source": [
    "varCorr.to_excel(\"__varCorr_Sorted.xlsx\")"
   ]
  },
  {
   "cell_type": "code",
   "execution_count": 101,
   "metadata": {},
   "outputs": [
    {
     "data": {
      "image/png": "[encoded data removed]",
      "text/plain": [
       "<Figure size 1440x1080 with 2 Axes>"
      ]
     },
     "metadata": {
      "needs_background": "light"
     },
     "output_type": "display_data"
    }
   ],
   "source": [
    "plt.subplots(figsize=(20,15))\n",
    "sn_plot = sn.heatmap(varCorr, annot=True)\n",
    "figure = sn_plot.get_figure()\n",
    "figure.savefig('__OUTPUT3.png', dpi=400)"
   ]
  },
  {
   "cell_type": "code",
   "execution_count": 3,
   "metadata": {},
   "outputs": [
    {
     "name": "stdout",
     "output_type": "stream",
     "text": [
      "['Unnamed: 0', 'Data', 'Q Negs', 'Q Títs', 'Volume', 'Fechamento', 'Abertura', 'Mínimo', 'Máximo', 'Médio']\n"
     ]
    },
    {
     "data": {
      "text/html": [
       "<div>\n",
       "<style scoped>\n",
       "    .dataframe tbody tr th:only-of-type {\n",
       "        vertical-align: middle;\n",
       "    }\n",
       "\n",
       "    .dataframe tbody tr th {\n",
       "        vertical-align: top;\n",
       "    }\n",
       "\n",
       "    .dataframe thead th {\n",
       "        text-align: right;\n",
       "    }\n",
       "</style>\n",
       "<table border=\"1\" class=\"dataframe\">\n",
       "  <thead>\n",
       "    <tr style=\"text-align: right;\">\n",
       "      <th></th>\n",
       "      <th>Data</th>\n",
       "      <th>Unnamed: 0</th>\n",
       "      <th>Volume</th>\n",
       "      <th>Fechamento</th>\n",
       "      <th>Abertura</th>\n",
       "      <th>Mínimo</th>\n",
       "      <th>Máximo</th>\n",
       "      <th>Médio</th>\n",
       "    </tr>\n",
       "  </thead>\n",
       "  <tbody>\n",
       "    <tr>\n",
       "      <th>19</th>\n",
       "      <td>2014-12-15</td>\n",
       "      <td>6921</td>\n",
       "      <td>226789871</td>\n",
       "      <td>13.124307</td>\n",
       "      <td>13.285915</td>\n",
       "      <td>12.758562</td>\n",
       "      <td>13.439018</td>\n",
       "      <td>13.115801</td>\n",
       "    </tr>\n",
       "    <tr>\n",
       "      <th>20</th>\n",
       "      <td>2014-12-16</td>\n",
       "      <td>6922</td>\n",
       "      <td>247953363</td>\n",
       "      <td>13.141318</td>\n",
       "      <td>12.945687</td>\n",
       "      <td>12.928676</td>\n",
       "      <td>13.600627</td>\n",
       "      <td>13.200858</td>\n",
       "    </tr>\n",
       "    <tr>\n",
       "      <th>18</th>\n",
       "      <td>2014-12-12</td>\n",
       "      <td>6920</td>\n",
       "      <td>208372363</td>\n",
       "      <td>13.183847</td>\n",
       "      <td>13.439018</td>\n",
       "      <td>13.183847</td>\n",
       "      <td>13.558098</td>\n",
       "      <td>13.285915</td>\n",
       "    </tr>\n",
       "    <tr>\n",
       "      <th>15</th>\n",
       "      <td>2014-12-09</td>\n",
       "      <td>6917</td>\n",
       "      <td>192073718</td>\n",
       "      <td>13.336950</td>\n",
       "      <td>13.353961</td>\n",
       "      <td>13.030744</td>\n",
       "      <td>13.456030</td>\n",
       "      <td>13.226376</td>\n",
       "    </tr>\n",
       "    <tr>\n",
       "      <th>10</th>\n",
       "      <td>2014-12-02</td>\n",
       "      <td>6912</td>\n",
       "      <td>271731944</td>\n",
       "      <td>13.353961</td>\n",
       "      <td>13.694189</td>\n",
       "      <td>13.294421</td>\n",
       "      <td>13.745224</td>\n",
       "      <td>13.464535</td>\n",
       "    </tr>\n",
       "    <tr>\n",
       "      <th>...</th>\n",
       "      <td>...</td>\n",
       "      <td>...</td>\n",
       "      <td>...</td>\n",
       "      <td>...</td>\n",
       "      <td>...</td>\n",
       "      <td>...</td>\n",
       "      <td>...</td>\n",
       "      <td>...</td>\n",
       "    </tr>\n",
       "    <tr>\n",
       "      <th>833</th>\n",
       "      <td>2018-04-05</td>\n",
       "      <td>7784</td>\n",
       "      <td>290862450</td>\n",
       "      <td>22.747088</td>\n",
       "      <td>23.087868</td>\n",
       "      <td>22.747088</td>\n",
       "      <td>23.248792</td>\n",
       "      <td>22.983741</td>\n",
       "    </tr>\n",
       "    <tr>\n",
       "      <th>829</th>\n",
       "      <td>2018-03-29</td>\n",
       "      <td>7779</td>\n",
       "      <td>298970387</td>\n",
       "      <td>22.784952</td>\n",
       "      <td>22.548299</td>\n",
       "      <td>22.510435</td>\n",
       "      <td>22.917478</td>\n",
       "      <td>22.794418</td>\n",
       "    </tr>\n",
       "    <tr>\n",
       "      <th>832</th>\n",
       "      <td>2018-04-04</td>\n",
       "      <td>7783</td>\n",
       "      <td>306305460</td>\n",
       "      <td>22.898546</td>\n",
       "      <td>22.614562</td>\n",
       "      <td>22.586164</td>\n",
       "      <td>22.983741</td>\n",
       "      <td>22.766020</td>\n",
       "    </tr>\n",
       "    <tr>\n",
       "      <th>831</th>\n",
       "      <td>2018-04-03</td>\n",
       "      <td>7782</td>\n",
       "      <td>232215908</td>\n",
       "      <td>22.908012</td>\n",
       "      <td>22.624028</td>\n",
       "      <td>22.595630</td>\n",
       "      <td>22.908012</td>\n",
       "      <td>22.728155</td>\n",
       "    </tr>\n",
       "    <tr>\n",
       "      <th>818</th>\n",
       "      <td>2018-03-14</td>\n",
       "      <td>7768</td>\n",
       "      <td>207251697</td>\n",
       "      <td>22.974275</td>\n",
       "      <td>22.548299</td>\n",
       "      <td>22.548299</td>\n",
       "      <td>23.040537</td>\n",
       "      <td>22.889080</td>\n",
       "    </tr>\n",
       "  </tbody>\n",
       "</table>\n",
       "<p>1311 rows × 8 columns</p>\n",
       "</div>"
      ],
      "text/plain": [
       "          Data  Unnamed: 0     Volume  Fechamento   Abertura     Mínimo  \\\n",
       "19  2014-12-15        6921  226789871   13.124307  13.285915  12.758562   \n",
       "20  2014-12-16        6922  247953363   13.141318  12.945687  12.928676   \n",
       "18  2014-12-12        6920  208372363   13.183847  13.439018  13.183847   \n",
       "15  2014-12-09        6917  192073718   13.336950  13.353961  13.030744   \n",
       "10  2014-12-02        6912  271731944   13.353961  13.694189  13.294421   \n",
       "..         ...         ...        ...         ...        ...        ...   \n",
       "833 2018-04-05        7784  290862450   22.747088  23.087868  22.747088   \n",
       "829 2018-03-29        7779  298970387   22.784952  22.548299  22.510435   \n",
       "832 2018-04-04        7783  306305460   22.898546  22.614562  22.586164   \n",
       "831 2018-04-03        7782  232215908   22.908012  22.624028  22.595630   \n",
       "818 2018-03-14        7768  207251697   22.974275  22.548299  22.548299   \n",
       "\n",
       "        Máximo      Médio  \n",
       "19   13.439018  13.115801  \n",
       "20   13.600627  13.200858  \n",
       "18   13.558098  13.285915  \n",
       "15   13.456030  13.226376  \n",
       "10   13.745224  13.464535  \n",
       "..         ...        ...  \n",
       "833  23.248792  22.983741  \n",
       "829  22.917478  22.794418  \n",
       "832  22.983741  22.766020  \n",
       "831  22.908012  22.728155  \n",
       "818  23.040537  22.889080  \n",
       "\n",
       "[1311 rows x 8 columns]"
      ]
     },
     "execution_count": 3,
     "metadata": {},
     "output_type": "execute_result"
    }
   ],
   "source": [
    "import pandas as pd\n",
    "import numpy as np\n",
    "import matplotlib.pyplot as plt\n",
    "import seaborn\n",
    "from os import listdir\n",
    "\n",
    "df = pd.read_excel(\"ABEV3.xlsx\")\n",
    "df.rename(columns={\"Volume$\": \"Volume\"}, inplace=True)\n",
    "col = list(df.columns)\n",
    "print(col)\n",
    "col.remove(\"Data\")\n",
    "col.remove(\"Q Negs\")\n",
    "col.remove(\"Q Títs\")\n",
    "df[col] = df[col].replace(\"-\", np.nan)\n",
    "df.dropna(inplace=True)\n",
    "df[col].astype(float)\n",
    "col.insert(0, \"Data\")\n",
    "df = df[df.Data > '2014-11-14']\n",
    "df = df[col]\n",
    "#df['Data'] = df['Data'].dt.date para data ficar bonita no excel\n",
    "df.sort_values(\"Fechamento\")"
   ]
  },
  {
   "cell_type": "code",
   "execution_count": null,
   "metadata": {},
   "outputs": [],
   "source": [
    "ativos = listdir()"
   ]
  },
  {
   "cell_type": "code",
   "execution_count": null,
   "metadata": {},
   "outputs": [],
   "source": [
    "#Filtro ABEV\n",
    "df = pd.read_excel(\"ABEV3.xlsx\", header=3)\n",
    "df.rename(columns={\"Volume$\": \"Volume\"}, inplace=True)\n",
    "col = list(df.columns)\n",
    "print(col)\n",
    "col.remove(\"Data\")\n",
    "col.remove(\"Q Negs\")\n",
    "col.remove(\"Q Títs\")\n",
    "df[col] = df[col].replace(\"-\", np.nan)\n",
    "df.dropna(inplace=True)\n",
    "df[col].astype(float)\n",
    "col.insert(0, \"Data\")\n",
    "df = df[df.Data > '2014-11-14']\n",
    "df = df[col]\n",
    "#df['Data'] = df['Data'].dt.date para data ficar bonita no excel\n",
    "df.sort_values(\"Fechamento\")"
   ]
  }
 ],
 "metadata": {
  "kernelspec": {
   "display_name": "Python 3",
   "language": "python",
   "name": "python3"
  },
  "language_info": {
   "codemirror_mode": {
    "name": "ipython",
    "version": 3
   },
   "file_extension": ".py",
   "mimetype": "text/x-python",
   "name": "python",
   "nbconvert_exporter": "python",
   "pygments_lexer": "ipython3",
   "version": "3.6.9"
  }
 },
 "nbformat": 4,
 "nbformat_minor": 4
}
